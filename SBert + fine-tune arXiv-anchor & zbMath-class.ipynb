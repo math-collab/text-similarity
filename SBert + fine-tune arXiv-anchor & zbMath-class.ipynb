{
 "cells": [
  {
   "cell_type": "code",
   "execution_count": 1,
   "id": "6c8295b0-a5d1-4ab1-8c3e-2dc6d1377558",
   "metadata": {},
   "outputs": [
    {
     "name": "stderr",
     "output_type": "stream",
     "text": [
      "2024-01-08 11:58:42.595212: I tensorflow/core/util/util.cc:169] oneDNN custom operations are on. You may see slightly different numerical results due to floating-point round-off errors from different computation orders. To turn them off, set the environment variable `TF_ENABLE_ONEDNN_OPTS=0`.\n"
     ]
    }
   ],
   "source": [
    "import simi\n",
    "\n",
    "import pandas as pd\n",
    "from sentence_transformers import evaluation, losses, models, InputExample, SentenceTransformer\n",
    "from sklearn.model_selection import train_test_split\n",
    "from torch.utils.data import DataLoader\n",
    "\n",
    "MODEL = SentenceTransformer('all-mpnet-base-v2')\n",
    "\n",
    "RANDOM_STATE = 1"
   ]
  },
  {
   "cell_type": "code",
   "execution_count": 2,
   "id": "d1fb23dc-5e83-467f-bfb9-bf9611400db9",
   "metadata": {},
   "outputs": [
    {
     "data": {
      "text/html": [
       "<div>\n",
       "<style scoped>\n",
       "    .dataframe tbody tr th:only-of-type {\n",
       "        vertical-align: middle;\n",
       "    }\n",
       "\n",
       "    .dataframe tbody tr th {\n",
       "        vertical-align: top;\n",
       "    }\n",
       "\n",
       "    .dataframe thead th {\n",
       "        text-align: right;\n",
       "    }\n",
       "</style>\n",
       "<table border=\"1\" class=\"dataframe\">\n",
       "  <thead>\n",
       "    <tr style=\"text-align: right;\">\n",
       "      <th></th>\n",
       "      <th>title</th>\n",
       "      <th>abstract</th>\n",
       "      <th>categories</th>\n",
       "      <th>doi</th>\n",
       "      <th>a</th>\n",
       "      <th>p</th>\n",
       "      <th>n</th>\n",
       "    </tr>\n",
       "  </thead>\n",
       "  <tbody>\n",
       "    <tr>\n",
       "      <th>91518</th>\n",
       "      <td>Robust detection of exotic infectious diseases...</td>\n",
       "      <td>When animals are transported and pass throug...</td>\n",
       "      <td>('stat.ME', 'math.ST', 'stat.TH')</td>\n",
       "      <td>10.1016/j.ijar.2012.06.020</td>\n",
       "      <td>When animals are transported and pass through...</td>\n",
       "      <td>Secondly, we explore and compare three decisio...</td>\n",
       "      <td>Comparisons between MRAD method and other clas...</td>\n",
       "    </tr>\n",
       "    <tr>\n",
       "      <th>29310</th>\n",
       "      <td>Contact Geometry of Hyperbolic Equations of Ge...</td>\n",
       "      <td>We study the contact geometry of scalar seco...</td>\n",
       "      <td>('math.DG', 'math-ph', 'math.AP', 'math.MP')</td>\n",
       "      <td>10.3842/SIGMA.2008.058</td>\n",
       "      <td>An enumeration of several submaximally symmetr...</td>\n",
       "      <td>We study the contact geometry of scalar secon...</td>\n",
       "      <td>The classification depends on the causal chara...</td>\n",
       "    </tr>\n",
       "    <tr>\n",
       "      <th>35741</th>\n",
       "      <td>Embeddings of Orlicz-Lorentz spaces into $L_1$</td>\n",
       "      <td>In this article, we show that Orlicz-Lorentz...</td>\n",
       "      <td>('math.FA', 'math.CO')</td>\n",
       "      <td>NaN</td>\n",
       "      <td>Our approach is based on combinatorial averagi...</td>\n",
       "      <td>This includes the embedding of some Lorentz sp...</td>\n",
       "      <td>We give an alternative proof of W. T. Gowers'...</td>\n",
       "    </tr>\n",
       "    <tr>\n",
       "      <th>61580</th>\n",
       "      <td>Fell bundles associated to groupoid morphisms</td>\n",
       "      <td>Given a continuous open surjective morphism ...</td>\n",
       "      <td>('math.OA',)</td>\n",
       "      <td>NaN</td>\n",
       "      <td>The case $H=X$, a locally compact space, was t...</td>\n",
       "      <td>We conclude that $C^*_r(G)$ is strongly Morita...</td>\n",
       "      <td>It turns out that this relative K-homology car...</td>\n",
       "    </tr>\n",
       "    <tr>\n",
       "      <th>54172</th>\n",
       "      <td>A multisymplectic approach to defects in integ...</td>\n",
       "      <td>We introduce the concept of multisymplectic ...</td>\n",
       "      <td>('math-ph', 'hep-th', 'math.MP', 'nlin.SI')</td>\n",
       "      <td>10.1007/JHEP02(2015)088</td>\n",
       "      <td>Taking the nonlinear Schr\\\"odinger (NLS) equat...</td>\n",
       "      <td>It allows us to reinterpret the defect conditi...</td>\n",
       "      <td>We determine various new equivalence pairs for...</td>\n",
       "    </tr>\n",
       "  </tbody>\n",
       "</table>\n",
       "</div>"
      ],
      "text/plain": [
       "                                                   title  \\\n",
       "91518  Robust detection of exotic infectious diseases...   \n",
       "29310  Contact Geometry of Hyperbolic Equations of Ge...   \n",
       "35741     Embeddings of Orlicz-Lorentz spaces into $L_1$   \n",
       "61580      Fell bundles associated to groupoid morphisms   \n",
       "54172  A multisymplectic approach to defects in integ...   \n",
       "\n",
       "                                                abstract  \\\n",
       "91518    When animals are transported and pass throug...   \n",
       "29310    We study the contact geometry of scalar seco...   \n",
       "35741    In this article, we show that Orlicz-Lorentz...   \n",
       "61580    Given a continuous open surjective morphism ...   \n",
       "54172    We introduce the concept of multisymplectic ...   \n",
       "\n",
       "                                         categories  \\\n",
       "91518             ('stat.ME', 'math.ST', 'stat.TH')   \n",
       "29310  ('math.DG', 'math-ph', 'math.AP', 'math.MP')   \n",
       "35741                        ('math.FA', 'math.CO')   \n",
       "61580                                  ('math.OA',)   \n",
       "54172   ('math-ph', 'hep-th', 'math.MP', 'nlin.SI')   \n",
       "\n",
       "                              doi  \\\n",
       "91518  10.1016/j.ijar.2012.06.020   \n",
       "29310      10.3842/SIGMA.2008.058   \n",
       "35741                         NaN   \n",
       "61580                         NaN   \n",
       "54172     10.1007/JHEP02(2015)088   \n",
       "\n",
       "                                                       a  \\\n",
       "91518   When animals are transported and pass through...   \n",
       "29310  An enumeration of several submaximally symmetr...   \n",
       "35741  Our approach is based on combinatorial averagi...   \n",
       "61580  The case $H=X$, a locally compact space, was t...   \n",
       "54172  Taking the nonlinear Schr\\\"odinger (NLS) equat...   \n",
       "\n",
       "                                                       p  \\\n",
       "91518  Secondly, we explore and compare three decisio...   \n",
       "29310   We study the contact geometry of scalar secon...   \n",
       "35741  This includes the embedding of some Lorentz sp...   \n",
       "61580  We conclude that $C^*_r(G)$ is strongly Morita...   \n",
       "54172  It allows us to reinterpret the defect conditi...   \n",
       "\n",
       "                                                       n  \n",
       "91518  Comparisons between MRAD method and other clas...  \n",
       "29310  The classification depends on the causal chara...  \n",
       "35741   We give an alternative proof of W. T. Gowers'...  \n",
       "61580  It turns out that this relative K-homology car...  \n",
       "54172  We determine various new equivalence pairs for...  "
      ]
     },
     "execution_count": 2,
     "metadata": {},
     "output_type": "execute_result"
    }
   ],
   "source": [
    "df1 = pd.read_csv(\"anchor-arxiv-dataset.csv\", index_col=0)\n",
    "# TODO: the mathberta tokenizer also recognizes latex within [MATH]...[/MATH] -> convert latex markupp in titles accordingly\n",
    "df1.sample(5)"
   ]
  },
  {
   "cell_type": "code",
   "execution_count": 3,
   "id": "d375f0ab-11ea-4afa-be28-f1287dc187cc",
   "metadata": {},
   "outputs": [
    {
     "name": "stdout",
     "output_type": "stream",
     "text": [
      "train: 73760 eval: 9221 test: 9221\n"
     ]
    }
   ],
   "source": [
    "X_treval1, X_test1 = train_test_split(df1, train_size=0.9, random_state=RANDOM_STATE)\n",
    "X_train1, X_eval1 = train_test_split(X_treval1, train_size=0.888889, random_state=RANDOM_STATE)\n",
    "print(\"train:\", len(X_train1), \"eval:\", len(X_eval1), \"test:\", len(X_test1))"
   ]
  },
  {
   "cell_type": "code",
   "execution_count": 4,
   "id": "b4cb11e2-69bb-4609-ba70-9b485328277c",
   "metadata": {},
   "outputs": [
    {
     "data": {
      "text/html": [
       "<div>\n",
       "<style scoped>\n",
       "    .dataframe tbody tr th:only-of-type {\n",
       "        vertical-align: middle;\n",
       "    }\n",
       "\n",
       "    .dataframe tbody tr th {\n",
       "        vertical-align: top;\n",
       "    }\n",
       "\n",
       "    .dataframe thead th {\n",
       "        text-align: right;\n",
       "    }\n",
       "</style>\n",
       "<table border=\"1\" class=\"dataframe\">\n",
       "  <thead>\n",
       "    <tr style=\"text-align: right;\">\n",
       "      <th></th>\n",
       "      <th>title_a</th>\n",
       "      <th>MSC_a</th>\n",
       "      <th>MSC2_a</th>\n",
       "      <th>title_b</th>\n",
       "      <th>MSC_b</th>\n",
       "      <th>MSC2_b</th>\n",
       "      <th>label</th>\n",
       "    </tr>\n",
       "  </thead>\n",
       "  <tbody>\n",
       "    <tr>\n",
       "      <th>350089</th>\n",
       "      <td>Boundary-value problems for general elliptic s...</td>\n",
       "      <td>35J55</td>\n",
       "      <td>('35Q15', '47A53', '30E25')</td>\n",
       "      <td>Fredholm property of a class of boundary-value...</td>\n",
       "      <td>35J55</td>\n",
       "      <td>('35R20', '47A53', '47F05')</td>\n",
       "      <td>1.0</td>\n",
       "    </tr>\n",
       "    <tr>\n",
       "      <th>232641</th>\n",
       "      <td>Geometric realization of \\(\\gamma \\)-vectors o...</td>\n",
       "      <td>05E45</td>\n",
       "      <td>('52B05',)</td>\n",
       "      <td>Edgewise Cohen-Macaulay connectivity of partia...</td>\n",
       "      <td>05E45</td>\n",
       "      <td>('06A07', '52B05')</td>\n",
       "      <td>1.0</td>\n",
       "    </tr>\n",
       "    <tr>\n",
       "      <th>415781</th>\n",
       "      <td>Lusternik-Schnirelmann category and systolic c...</td>\n",
       "      <td>55M30</td>\n",
       "      <td>('57T99', '55S30')</td>\n",
       "      <td>On the Lusternik-Schnirelmann category of Lie ...</td>\n",
       "      <td>55M30</td>\n",
       "      <td>('57M05', '57T99')</td>\n",
       "      <td>1.0</td>\n",
       "    </tr>\n",
       "    <tr>\n",
       "      <th>250446</th>\n",
       "      <td>Basic derivations for unitary reflection groups</td>\n",
       "      <td>20H15</td>\n",
       "      <td>('51F15', '15A72', '16W20')</td>\n",
       "      <td>On the non-negativity of the first coefficient...</td>\n",
       "      <td>20G05</td>\n",
       "      <td>('20F55',)</td>\n",
       "      <td>0.0</td>\n",
       "    </tr>\n",
       "    <tr>\n",
       "      <th>157295</th>\n",
       "      <td>A little more on stabilized \\(Q_ 1Q_ 1\\) for t...</td>\n",
       "      <td>76M10</td>\n",
       "      <td>('76D05',)</td>\n",
       "      <td>Efficient preconditioning of the linearized Na...</td>\n",
       "      <td>76M10</td>\n",
       "      <td>('76D05', '65M55')</td>\n",
       "      <td>1.0</td>\n",
       "    </tr>\n",
       "  </tbody>\n",
       "</table>\n",
       "</div>"
      ],
      "text/plain": [
       "                                                  title_a  MSC_a  \\\n",
       "350089  Boundary-value problems for general elliptic s...  35J55   \n",
       "232641  Geometric realization of \\(\\gamma \\)-vectors o...  05E45   \n",
       "415781  Lusternik-Schnirelmann category and systolic c...  55M30   \n",
       "250446    Basic derivations for unitary reflection groups  20H15   \n",
       "157295  A little more on stabilized \\(Q_ 1Q_ 1\\) for t...  76M10   \n",
       "\n",
       "                             MSC2_a  \\\n",
       "350089  ('35Q15', '47A53', '30E25')   \n",
       "232641                   ('52B05',)   \n",
       "415781           ('57T99', '55S30')   \n",
       "250446  ('51F15', '15A72', '16W20')   \n",
       "157295                   ('76D05',)   \n",
       "\n",
       "                                                  title_b  MSC_b  \\\n",
       "350089  Fredholm property of a class of boundary-value...  35J55   \n",
       "232641  Edgewise Cohen-Macaulay connectivity of partia...  05E45   \n",
       "415781  On the Lusternik-Schnirelmann category of Lie ...  55M30   \n",
       "250446  On the non-negativity of the first coefficient...  20G05   \n",
       "157295  Efficient preconditioning of the linearized Na...  76M10   \n",
       "\n",
       "                             MSC2_b  label  \n",
       "350089  ('35R20', '47A53', '47F05')    1.0  \n",
       "232641           ('06A07', '52B05')    1.0  \n",
       "415781           ('57M05', '57T99')    1.0  \n",
       "250446                   ('20F55',)    0.0  \n",
       "157295           ('76D05', '65M55')    1.0  "
      ]
     },
     "execution_count": 4,
     "metadata": {},
     "output_type": "execute_result"
    }
   ],
   "source": [
    "df2 = pd.read_csv(\"class-zbmath-dataset.csv\", index_col=0)\n",
    "df2[\"label\"] = df2[\"label\"].astype(\"float\")\n",
    "# TODO: the mathberta tokenizer also recognizes latex within [MATH]...[/MATH] -> convert latex markupp in titles accordingly\n",
    "df2.sample(5)"
   ]
  },
  {
   "cell_type": "code",
   "execution_count": 5,
   "id": "9953d6cf-1545-4a1f-98eb-ee319a9005d2",
   "metadata": {},
   "outputs": [
    {
     "name": "stdout",
     "output_type": "stream",
     "text": [
      "train: 351472 eval: 43935 test: 43935\n"
     ]
    }
   ],
   "source": [
    "X_treval2, X_test2 = train_test_split(df2, train_size=0.9, random_state=RANDOM_STATE)\n",
    "X_train2, X_eval2 = train_test_split(X_treval2, train_size=0.888889, random_state=RANDOM_STATE)\n",
    "print(\"train:\", len(X_train2), \"eval:\", len(X_eval2), \"test:\", len(X_test2))"
   ]
  },
  {
   "cell_type": "raw",
   "id": "7ba8bade-b18f-4a7e-b8b2-0fd0e027c1a6",
   "metadata": {},
   "source": [
    "# prepare evaluation data1\n",
    "eval_examples1 = X_eval1.reset_index(drop=True).apply(lambda r: InputExample(texts=[r[\"a\"], r[\"p\"], r[\"n\"]]), axis=1)\n",
    "evaluator1 = evaluation.TripletEvaluator.from_input_examples(eval_examples1)"
   ]
  },
  {
   "cell_type": "code",
   "execution_count": 6,
   "id": "f08b9ac6-b863-473d-8efb-a5894997ce23",
   "metadata": {},
   "outputs": [],
   "source": [
    "# prepare re-training: training data, loss\n",
    "retrain_examples1 = X_train1.reset_index(drop=True).apply(lambda r: InputExample(texts=[r[\"a\"], r[\"p\"], r[\"n\"]]), axis=1)\n",
    "retrain_dataloader1 = DataLoader(retrain_examples1, shuffle=True, batch_size=16)\n",
    "retrain_loss1 = losses.TripletLoss(model=MODEL, triplet_margin=5) # TODO: triplet_margin: hyperparameter to optimize"
   ]
  },
  {
   "cell_type": "code",
   "execution_count": 7,
   "id": "3b6c5675-cb1c-4213-9d04-fb64d09c7c3c",
   "metadata": {},
   "outputs": [],
   "source": [
    "# prepare evaluation data2\n",
    "eval_examples = X_eval2.reset_index(drop=True).apply(lambda r: InputExample(texts=[r[\"title_a\"], r[\"title_b\"]], label=r[\"label\"]), axis=1)\n",
    "evaluator = evaluation.EmbeddingSimilarityEvaluator.from_input_examples(eval_examples)"
   ]
  },
  {
   "cell_type": "code",
   "execution_count": 8,
   "id": "1912fa00-02e2-49bf-b487-0978e931b27f",
   "metadata": {},
   "outputs": [],
   "source": [
    "# prepare re-training: training data, loss\n",
    "retrain_examples2 = X_train2.reset_index(drop=True).apply(lambda r: InputExample(texts=[r[\"title_a\"], r[\"title_b\"]], label=r[\"label\"]), axis=1)\n",
    "retrain_dataloader2 = DataLoader(retrain_examples2, shuffle=True, batch_size=16)\n",
    "retrain_loss2 = losses.CosineSimilarityLoss(model=MODEL)"
   ]
  },
  {
   "cell_type": "code",
   "execution_count": null,
   "id": "79a31f6d-20ce-4786-9d3e-d4148257b610",
   "metadata": {},
   "outputs": [
    {
     "data": {
      "application/vnd.jupyter.widget-view+json": {
       "model_id": "fba39977d92d4642b924ad6517ae26ca",
       "version_major": 2,
       "version_minor": 0
      },
      "text/plain": [
       "Epoch:   0%|          | 0/15 [00:00<?, ?it/s]"
      ]
     },
     "metadata": {},
     "output_type": "display_data"
    },
    {
     "data": {
      "application/vnd.jupyter.widget-view+json": {
       "model_id": "e81cfe0f29a849feb9770185ae90ae5c",
       "version_major": 2,
       "version_minor": 0
      },
      "text/plain": [
       "Iteration:   0%|          | 0/4610 [00:00<?, ?it/s]"
      ]
     },
     "metadata": {},
     "output_type": "display_data"
    },
    {
     "data": {
      "application/vnd.jupyter.widget-view+json": {
       "model_id": "4d6a3127f5fd499eb92cd4f0508094ee",
       "version_major": 2,
       "version_minor": 0
      },
      "text/plain": [
       "Iteration:   0%|          | 0/4610 [00:00<?, ?it/s]"
      ]
     },
     "metadata": {},
     "output_type": "display_data"
    }
   ],
   "source": [
    "%%time\n",
    "# finetune model\n",
    "MODEL.fit(train_objectives=[(retrain_dataloader2, retrain_loss2), (retrain_dataloader1, retrain_loss1)], evaluator=evaluator, epochs=15,\n",
    "        output_path=\"sbert+retrain_class_zbmath_anchor_arxiv\") "
   ]
  },
  {
   "cell_type": "code",
   "execution_count": 12,
   "id": "c0881483-5bb2-4aa8-8fe8-914f815a4229",
   "metadata": {},
   "outputs": [
    {
     "name": "stdout",
     "output_type": "stream",
     "text": [
      "CPU times: user 10min 7s, sys: 35.4 s, total: 10min 43s\n",
      "Wall time: 1min 30s\n"
     ]
    },
    {
     "data": {
      "text/plain": [
       "0.597061166377549"
      ]
     },
     "execution_count": 12,
     "metadata": {},
     "output_type": "execute_result"
    }
   ],
   "source": [
    "%%time\n",
    "# evaluate Spearman-Pearson-rank-coefficient on test data\n",
    "spear_ranc = MODEL.evaluate(evaluator)\n",
    "spear_ranc"
   ]
  },
  {
   "cell_type": "code",
   "execution_count": 13,
   "id": "2c8f2335-2b62-446a-8ad4-90dc01a44bf9",
   "metadata": {},
   "outputs": [
    {
     "data": {
      "text/plain": [
       "0.597061166377549"
      ]
     },
     "execution_count": 13,
     "metadata": {},
     "output_type": "execute_result"
    }
   ],
   "source": [
    "spear_ranc"
   ]
  },
  {
   "cell_type": "code",
   "execution_count": null,
   "id": "37421aab-c9bf-4b91-82a0-2c34a883735e",
   "metadata": {},
   "outputs": [],
   "source": []
  }
 ],
 "metadata": {
  "kernelspec": {
   "display_name": "Python 3 (ipykernel)",
   "language": "python",
   "name": "python3"
  },
  "language_info": {
   "codemirror_mode": {
    "name": "ipython",
    "version": 3
   },
   "file_extension": ".py",
   "mimetype": "text/x-python",
   "name": "python",
   "nbconvert_exporter": "python",
   "pygments_lexer": "ipython3",
   "version": "3.9.19"
  }
 },
 "nbformat": 4,
 "nbformat_minor": 5
}
