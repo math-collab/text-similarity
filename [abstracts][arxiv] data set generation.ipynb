{
 "cells": [
  {
   "cell_type": "code",
   "execution_count": 1,
   "id": "e7294708-2dac-4924-8fa0-a6f58c39ab4c",
   "metadata": {},
   "outputs": [],
   "source": [
    "import itertools\n",
    "import json\n",
    "import random\n",
    "import re\n",
    "import zipfile\n",
    "\n",
    "import nltk.data\n",
    "import pandas as pd\n",
    "\n",
    "from tqdm.auto import tqdm\n",
    "tqdm.pandas()\n",
    "\n",
    "# if you get an error\n",
    "# nltk.download('punkt')\n",
    "\n",
    "ARXIV_ZIP = \"arxiv dump/arxiv-metadata-oai-snapshot-version111.json.zip\"\n",
    "DUMP_JSON = \"arxiv-metadata-oai-snapshot.json\"\n",
    "RANDOM_STATE = 1\n",
    "\n",
    "random.seed(RANDOM_STATE)\n",
    "\n",
    "\n",
    "\n",
    "def join_text(title, abstract):\n",
    "    title = title.strip(\"\").rstrip(\".\")\n",
    "    t = nltk.data.load('tokenizers/punkt/PY3/english.pickle')\n",
    "    ss = [sn.replace(\"\\n\", \" \") for sn in t.tokenize(re.sub(r\"\\s+\", \" \", \"{}. {}\".format(title, abstract)))]\n",
    "    try:\n",
    "        return \" \".join(ss)\n",
    "    except Exception as e:\n",
    "        return \"\"\n",
    "\n"
   ]
  },
  {
   "cell_type": "markdown",
   "id": "72e548ed-0837-4d6b-bfd9-a7b1a8da7951",
   "metadata": {},
   "source": [
    "## Read publications from zipped arXiv JSON-dump"
   ]
  },
  {
   "cell_type": "code",
   "execution_count": 2,
   "id": "2be0feb7-74e3-4d5e-9218-71565ab77682",
   "metadata": {},
   "outputs": [
    {
     "data": {
      "application/vnd.jupyter.widget-view+json": {
       "model_id": "86fd24ba5e4f40a38b3d0be560db97a2",
       "version_major": 2,
       "version_minor": 0
      },
      "text/plain": [
       "arxiv-metadata-oai-snapshot.json:   0%|          | 0.00/3.37G [00:00<?, ?b/s]"
      ]
     },
     "metadata": {},
     "output_type": "display_data"
    },
    {
     "name": "stdout",
     "output_type": "stream",
     "text": [
      "CPU times: user 7min 37s, sys: 8.74 s, total: 7min 45s\n",
      "Wall time: 7min 43s\n"
     ]
    }
   ],
   "source": [
    "%%time\n",
    "dfs = []\n",
    "with zipfile.ZipFile(ARXIV_ZIP) as za:\n",
    "    with tqdm(total=za.getinfo(DUMP_JSON).file_size, unit=\"b\", unit_divisor=1024, unit_scale=True, desc=DUMP_JSON) as pb:\n",
    "        with za.open(DUMP_JSON) as f:       \n",
    "            for l in f:\n",
    "                j = json.loads(l)\n",
    "                dfs.append(pd.DataFrame([[j[\"title\"], j[\"abstract\"], j[\"categories\"], j[\"doi\"]]], columns=[\"title\", \"abstract\", \"categories\", \"doi\"]))\n",
    "                pb.update(len(l))\n",
    "df = pd.concat(dfs, ignore_index=True).reset_index(drop=True)"
   ]
  },
  {
   "cell_type": "code",
   "execution_count": 3,
   "id": "3edeb0ee-b9d3-4223-a289-c264ffbdbed0",
   "metadata": {},
   "outputs": [
    {
     "data": {
      "application/vnd.jupyter.widget-view+json": {
       "model_id": "d1d8eb39c50f418aa965d0f52dcced2c",
       "version_major": 2,
       "version_minor": 0
      },
      "text/plain": [
       "  0%|          | 0/2187423 [00:00<?, ?it/s]"
      ]
     },
     "metadata": {},
     "output_type": "display_data"
    },
    {
     "data": {
      "text/plain": [
       "2187423"
      ]
     },
     "execution_count": 3,
     "metadata": {},
     "output_type": "execute_result"
    }
   ],
   "source": [
    "df[\"text\"] = df.progress_apply(lambda r: join_text(r[\"title\"], r[\"abstract\"]), axis=1)\n",
    "df = df[df[\"text\"] != \"\"]\n",
    "len(df)"
   ]
  },
  {
   "cell_type": "code",
   "execution_count": 5,
   "id": "505380a1-19fe-438e-891e-f52509fe282a",
   "metadata": {},
   "outputs": [
    {
     "data": {
      "text/html": [
       "<div>\n",
       "<style scoped>\n",
       "    .dataframe tbody tr th:only-of-type {\n",
       "        vertical-align: middle;\n",
       "    }\n",
       "\n",
       "    .dataframe tbody tr th {\n",
       "        vertical-align: top;\n",
       "    }\n",
       "\n",
       "    .dataframe thead th {\n",
       "        text-align: right;\n",
       "    }\n",
       "</style>\n",
       "<table border=\"1\" class=\"dataframe\">\n",
       "  <thead>\n",
       "    <tr style=\"text-align: right;\">\n",
       "      <th></th>\n",
       "      <th>categories</th>\n",
       "      <th>doi</th>\n",
       "      <th>text</th>\n",
       "    </tr>\n",
       "  </thead>\n",
       "  <tbody>\n",
       "    <tr>\n",
       "      <th>1276796</th>\n",
       "      <td>math.AP math.OC</td>\n",
       "      <td>None</td>\n",
       "      <td>Input-to-State Stability in sup norms for hype...</td>\n",
       "    </tr>\n",
       "    <tr>\n",
       "      <th>1650645</th>\n",
       "      <td>cond-mat.mtrl-sci</td>\n",
       "      <td>None</td>\n",
       "      <td>Structural, Dielectric, and Electrical Transpo...</td>\n",
       "    </tr>\n",
       "    <tr>\n",
       "      <th>6374</th>\n",
       "      <td>hep-ex</td>\n",
       "      <td>None</td>\n",
       "      <td>Measurement of the gluon polarisation at COMPA...</td>\n",
       "    </tr>\n",
       "    <tr>\n",
       "      <th>2011520</th>\n",
       "      <td>hep-ph</td>\n",
       "      <td>10.1143/PTPS.123.173</td>\n",
       "      <td>Looking Beyond the Standard Model through Prec...</td>\n",
       "    </tr>\n",
       "    <tr>\n",
       "      <th>351335</th>\n",
       "      <td>cs.AI</td>\n",
       "      <td>None</td>\n",
       "      <td>Studies in Lower Bounding Probabilities of Evi...</td>\n",
       "    </tr>\n",
       "  </tbody>\n",
       "</table>\n",
       "</div>"
      ],
      "text/plain": [
       "                categories                   doi  \\\n",
       "1276796    math.AP math.OC                  None   \n",
       "1650645  cond-mat.mtrl-sci                  None   \n",
       "6374                hep-ex                  None   \n",
       "2011520             hep-ph  10.1143/PTPS.123.173   \n",
       "351335               cs.AI                  None   \n",
       "\n",
       "                                                      text  \n",
       "1276796  Input-to-State Stability in sup norms for hype...  \n",
       "1650645  Structural, Dielectric, and Electrical Transpo...  \n",
       "6374     Measurement of the gluon polarisation at COMPA...  \n",
       "2011520  Looking Beyond the Standard Model through Prec...  \n",
       "351335   Studies in Lower Bounding Probabilities of Evi...  "
      ]
     },
     "execution_count": 5,
     "metadata": {},
     "output_type": "execute_result"
    }
   ],
   "source": [
    "df.sample(5)"
   ]
  },
  {
   "cell_type": "code",
   "execution_count": 4,
   "id": "87444d75-6316-400d-8728-93732a06188a",
   "metadata": {},
   "outputs": [],
   "source": [
    "df to_csvrop([\"title\", \"abstract\"], axis=1)\n",
    "df.to_csv(\"abstracts-arxiv-dataset.csv\")"
   ]
  },
  {
   "cell_type": "code",
   "execution_count": null,
   "id": "3e8d7161-0f07-44af-b430-b476b4e50596",
   "metadata": {},
   "outputs": [],
   "source": []
  }
 ],
 "metadata": {
  "kernelspec": {
   "display_name": "Python 3.10 (Cuda 12.1, Tensorflow 2.16)",
   "language": "python",
   "name": "py3.10-cuda12.1-tf2.16"
  },
  "language_info": {
   "codemirror_mode": {
    "name": "ipython",
    "version": 3
   },
   "file_extension": ".py",
   "mimetype": "text/x-python",
   "name": "python",
   "nbconvert_exporter": "python",
   "pygments_lexer": "ipython3",
   "version": "3.10.14"
  }
 },
 "nbformat": 4,
 "nbformat_minor": 5
}
