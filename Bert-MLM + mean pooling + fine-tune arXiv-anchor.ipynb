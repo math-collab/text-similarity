{
 "cells": [
  {
   "cell_type": "code",
   "execution_count": 1,
   "id": "6c8295b0-a5d1-4ab1-8c3e-2dc6d1377558",
   "metadata": {},
   "outputs": [
    {
     "name": "stderr",
     "output_type": "stream",
     "text": [
      "2023-05-10 16:26:20.611782: I tensorflow/core/util/util.cc:169] oneDNN custom operations are on. You may see slightly different numerical results due to floating-point round-off errors from different computation orders. To turn them off, set the environment variable `TF_ENABLE_ONEDNN_OPTS=0`.\n",
      "Some weights of the model checkpoint at ./bert+re-train_mlm_abstracts_arxiv were not used when initializing BertModel: ['cls.predictions.decoder.bias', 'cls.predictions.bias', 'cls.predictions.decoder.weight', 'cls.predictions.transform.LayerNorm.bias', 'cls.predictions.transform.dense.weight', 'cls.predictions.transform.dense.bias', 'cls.predictions.transform.LayerNorm.weight']\n",
      "- This IS expected if you are initializing BertModel from the checkpoint of a model trained on another task or with another architecture (e.g. initializing a BertForSequenceClassification model from a BertForPreTraining model).\n",
      "- This IS NOT expected if you are initializing BertModel from the checkpoint of a model that you expect to be exactly identical (initializing a BertForSequenceClassification model from a BertForSequenceClassification model).\n",
      "Some weights of BertModel were not initialized from the model checkpoint at ./bert+re-train_mlm_abstracts_arxiv and are newly initialized: ['bert.pooler.dense.bias', 'bert.pooler.dense.weight']\n",
      "You should probably TRAIN this model on a down-stream task to be able to use it for predictions and inference.\n"
     ]
    }
   ],
   "source": [
    "import sys\n",
    "import os\n",
    "sys.path.append(os.path.abspath(\"../\"))\n",
    "import simi\n",
    "\n",
    "import pandas as pd\n",
    "from sentence_transformers import evaluation, losses, models, InputExample, SentenceTransformer\n",
    "from sklearn.model_selection import train_test_split\n",
    "from torch.utils.data import DataLoader\n",
    "\n",
    "EMBEDDING = models.Transformer('math-similarity/Bert-MLM_arXiv') # use model hosted on huggingface\n",
    "# EMBEDDING = models.Transformer('./bert+re-train_mlm_abstracts_arxiv') # use locally generated model\n",
    "POOLING = models.Pooling(EMBEDDING.get_word_embedding_dimension()) # MEAN pooling\n",
    "# POOLING = models.Pooling(EMBEDDING.get_word_embedding_dimension(), pooling_mode=\"cls\") # CLS pooling\n",
    "\n",
    "MODEL = SentenceTransformer(modules=[EMBEDDING, POOLING])\n",
    "\n",
    "RANDOM_STATE = 1"
   ]
  },
  {
   "cell_type": "code",
   "execution_count": 2,
   "id": "d1fb23dc-5e83-467f-bfb9-bf9611400db9",
   "metadata": {},
   "outputs": [
    {
     "data": {
      "text/html": [
       "<div>\n",
       "<style scoped>\n",
       "    .dataframe tbody tr th:only-of-type {\n",
       "        vertical-align: middle;\n",
       "    }\n",
       "\n",
       "    .dataframe tbody tr th {\n",
       "        vertical-align: top;\n",
       "    }\n",
       "\n",
       "    .dataframe thead th {\n",
       "        text-align: right;\n",
       "    }\n",
       "</style>\n",
       "<table border=\"1\" class=\"dataframe\">\n",
       "  <thead>\n",
       "    <tr style=\"text-align: right;\">\n",
       "      <th></th>\n",
       "      <th>title</th>\n",
       "      <th>abstract</th>\n",
       "      <th>categories</th>\n",
       "      <th>doi</th>\n",
       "      <th>a</th>\n",
       "      <th>p</th>\n",
       "      <th>n</th>\n",
       "    </tr>\n",
       "  </thead>\n",
       "  <tbody>\n",
       "    <tr>\n",
       "      <th>40067</th>\n",
       "      <td>The Disk-Based Origami Theorem and a Glimpse o...</td>\n",
       "      <td>This paper describes a mechanism by which a ...</td>\n",
       "      <td>('math.GT',)</td>\n",
       "      <td>NaN</td>\n",
       "      <td>The fibers of $O$ have the cardinality $(n+1)$...</td>\n",
       "      <td>The knowledge of the map $O$, together with th...</td>\n",
       "      <td>A homotopy equivalence between a hyperbolic 3...</td>\n",
       "    </tr>\n",
       "    <tr>\n",
       "      <th>36564</th>\n",
       "      <td>On the gradient of Schwarz symmetrization of f...</td>\n",
       "      <td>Let S be a Sobolev or Orlicz-Sobolev space o...</td>\n",
       "      <td>('math.AP', 'math.FA')</td>\n",
       "      <td>NaN</td>\n",
       "      <td>We also prove that the rearrangement of any fu...</td>\n",
       "      <td>Let S be a Sobolev or Orlicz-Sobolev space of...</td>\n",
       "      <td>Then there exists a relation between the assoc...</td>\n",
       "    </tr>\n",
       "    <tr>\n",
       "      <th>68602</th>\n",
       "      <td>Stochastic Evolution Equation Driven by Teugel...</td>\n",
       "      <td>The paper is concerned with a class of stoch...</td>\n",
       "      <td>('math.PR',)</td>\n",
       "      <td>NaN</td>\n",
       "      <td>Here Teugels martingales are a family of pairw...</td>\n",
       "      <td>The second is to establish the stochastic maxi...</td>\n",
       "      <td>It is shown that, up to terms of lower order, ...</td>\n",
       "    </tr>\n",
       "    <tr>\n",
       "      <th>85933</th>\n",
       "      <td>TITAN: A Spatiotemporal Feature Learning Frame...</td>\n",
       "      <td>Critical incident stages identification and ...</td>\n",
       "      <td>('cs.LG', 'stat.ML')</td>\n",
       "      <td>10.1145/3347146.3359381</td>\n",
       "      <td>We develop an algorithm based on the alternati...</td>\n",
       "      <td>Second, we propose novel constraints on featur...</td>\n",
       "      <td>However, there are often several plausible inp...</td>\n",
       "    </tr>\n",
       "    <tr>\n",
       "      <th>34556</th>\n",
       "      <td>Irregular and multi--channel sampling of opera...</td>\n",
       "      <td>The classical sampling theorem for bandlimit...</td>\n",
       "      <td>('math.FA', 'math.CA')</td>\n",
       "      <td>NaN</td>\n",
       "      <td>Here, we discuss operator sampling versions of...</td>\n",
       "      <td>In multi-channel operator sampling, we obtain ...</td>\n",
       "      <td>This is a corrected version of the paper [1], ...</td>\n",
       "    </tr>\n",
       "  </tbody>\n",
       "</table>\n",
       "</div>"
      ],
      "text/plain": [
       "                                                   title  \\\n",
       "40067  The Disk-Based Origami Theorem and a Glimpse o...   \n",
       "36564  On the gradient of Schwarz symmetrization of f...   \n",
       "68602  Stochastic Evolution Equation Driven by Teugel...   \n",
       "85933  TITAN: A Spatiotemporal Feature Learning Frame...   \n",
       "34556  Irregular and multi--channel sampling of opera...   \n",
       "\n",
       "                                                abstract  \\\n",
       "40067    This paper describes a mechanism by which a ...   \n",
       "36564    Let S be a Sobolev or Orlicz-Sobolev space o...   \n",
       "68602    The paper is concerned with a class of stoch...   \n",
       "85933    Critical incident stages identification and ...   \n",
       "34556    The classical sampling theorem for bandlimit...   \n",
       "\n",
       "                   categories                      doi  \\\n",
       "40067            ('math.GT',)                      NaN   \n",
       "36564  ('math.AP', 'math.FA')                      NaN   \n",
       "68602            ('math.PR',)                      NaN   \n",
       "85933    ('cs.LG', 'stat.ML')  10.1145/3347146.3359381   \n",
       "34556  ('math.FA', 'math.CA')                      NaN   \n",
       "\n",
       "                                                       a  \\\n",
       "40067  The fibers of $O$ have the cardinality $(n+1)$...   \n",
       "36564  We also prove that the rearrangement of any fu...   \n",
       "68602  Here Teugels martingales are a family of pairw...   \n",
       "85933  We develop an algorithm based on the alternati...   \n",
       "34556  Here, we discuss operator sampling versions of...   \n",
       "\n",
       "                                                       p  \\\n",
       "40067  The knowledge of the map $O$, together with th...   \n",
       "36564   Let S be a Sobolev or Orlicz-Sobolev space of...   \n",
       "68602  The second is to establish the stochastic maxi...   \n",
       "85933  Second, we propose novel constraints on featur...   \n",
       "34556  In multi-channel operator sampling, we obtain ...   \n",
       "\n",
       "                                                       n  \n",
       "40067   A homotopy equivalence between a hyperbolic 3...  \n",
       "36564  Then there exists a relation between the assoc...  \n",
       "68602  It is shown that, up to terms of lower order, ...  \n",
       "85933  However, there are often several plausible inp...  \n",
       "34556  This is a corrected version of the paper [1], ...  "
      ]
     },
     "execution_count": 2,
     "metadata": {},
     "output_type": "execute_result"
    }
   ],
   "source": [
    "df = pd.read_csv(\"anchor-arxiv-dataset.csv\", index_col=0)\n",
    "# TODO: the mathberta tokenizer also recognizes latex within [MATH]...[/MATH] -> convert latex markupp in titles accordingly\n",
    "df.sample(5)"
   ]
  },
  {
   "cell_type": "code",
   "execution_count": 3,
   "id": "d375f0ab-11ea-4afa-be28-f1287dc187cc",
   "metadata": {},
   "outputs": [
    {
     "name": "stdout",
     "output_type": "stream",
     "text": [
      "train: 73760 eval: 9221 test: 9221\n"
     ]
    }
   ],
   "source": [
    "X_treval, X_test = train_test_split(df, train_size=0.9, random_state=RANDOM_STATE)\n",
    "X_train, X_eval = train_test_split(X_treval, train_size=0.888889, random_state=RANDOM_STATE)\n",
    "print(\"train:\", len(X_train), \"eval:\", len(X_eval), \"test:\", len(X_test))"
   ]
  },
  {
   "cell_type": "code",
   "execution_count": 4,
   "id": "f13a203b-ec71-48a5-a4dc-d5729fd96ed5",
   "metadata": {},
   "outputs": [],
   "source": [
    "# prepare evaluation data\n",
    "eval_examples = X_eval.reset_index(drop=True).apply(lambda r: InputExample(texts=[r[\"a\"], r[\"p\"], r[\"n\"]]), axis=1)\n",
    "evaluator = evaluation.TripletEvaluator.from_input_examples(eval_examples)"
   ]
  },
  {
   "cell_type": "code",
   "execution_count": 5,
   "id": "f08b9ac6-b863-473d-8efb-a5894997ce23",
   "metadata": {},
   "outputs": [],
   "source": [
    "# prepare re-training: training data, loss\n",
    "retrain_examples = X_train.reset_index(drop=True).apply(lambda r: InputExample(texts=[r[\"a\"], r[\"p\"], r[\"n\"]]), axis=1)\n",
    "retrain_dataloader = DataLoader(retrain_examples, shuffle=True, batch_size=16)\n",
    "retrain_loss = losses.TripletLoss(model=MODEL, triplet_margin=5) # TODO: triplet_margin: hyperparameter to optimize"
   ]
  },
  {
   "cell_type": "code",
   "execution_count": 6,
   "id": "79a31f6d-20ce-4786-9d3e-d4148257b610",
   "metadata": {},
   "outputs": [
    {
     "data": {
      "application/vnd.jupyter.widget-view+json": {
       "model_id": "ce70d450b6ac449899a15eb7d1407540",
       "version_major": 2,
       "version_minor": 0
      },
      "text/plain": [
       "Epoch:   0%|          | 0/10 [00:00<?, ?it/s]"
      ]
     },
     "metadata": {},
     "output_type": "display_data"
    },
    {
     "data": {
      "application/vnd.jupyter.widget-view+json": {
       "model_id": "37ac4b3dca8342c3b77d868c284fb024",
       "version_major": 2,
       "version_minor": 0
      },
      "text/plain": [
       "Iteration:   0%|          | 0/4610 [00:00<?, ?it/s]"
      ]
     },
     "metadata": {},
     "output_type": "display_data"
    },
    {
     "data": {
      "application/vnd.jupyter.widget-view+json": {
       "model_id": "6b3ce00c9b3e46cfb0a263be07229a32",
       "version_major": 2,
       "version_minor": 0
      },
      "text/plain": [
       "Iteration:   0%|          | 0/4610 [00:00<?, ?it/s]"
      ]
     },
     "metadata": {},
     "output_type": "display_data"
    },
    {
     "data": {
      "application/vnd.jupyter.widget-view+json": {
       "model_id": "29b3f786d44946cdb21ec551887127a0",
       "version_major": 2,
       "version_minor": 0
      },
      "text/plain": [
       "Iteration:   0%|          | 0/4610 [00:00<?, ?it/s]"
      ]
     },
     "metadata": {},
     "output_type": "display_data"
    },
    {
     "data": {
      "application/vnd.jupyter.widget-view+json": {
       "model_id": "a91d12dda337450f9d79637cf1da75ed",
       "version_major": 2,
       "version_minor": 0
      },
      "text/plain": [
       "Iteration:   0%|          | 0/4610 [00:00<?, ?it/s]"
      ]
     },
     "metadata": {},
     "output_type": "display_data"
    },
    {
     "data": {
      "application/vnd.jupyter.widget-view+json": {
       "model_id": "e026db542552478ca9b8890bbc728fa9",
       "version_major": 2,
       "version_minor": 0
      },
      "text/plain": [
       "Iteration:   0%|          | 0/4610 [00:00<?, ?it/s]"
      ]
     },
     "metadata": {},
     "output_type": "display_data"
    },
    {
     "data": {
      "application/vnd.jupyter.widget-view+json": {
       "model_id": "e993891005b64286804b785615d99f9b",
       "version_major": 2,
       "version_minor": 0
      },
      "text/plain": [
       "Iteration:   0%|          | 0/4610 [00:00<?, ?it/s]"
      ]
     },
     "metadata": {},
     "output_type": "display_data"
    },
    {
     "data": {
      "application/vnd.jupyter.widget-view+json": {
       "model_id": "fb16e4cfbbd14347bd1c098d73dbf1d6",
       "version_major": 2,
       "version_minor": 0
      },
      "text/plain": [
       "Iteration:   0%|          | 0/4610 [00:00<?, ?it/s]"
      ]
     },
     "metadata": {},
     "output_type": "display_data"
    },
    {
     "data": {
      "application/vnd.jupyter.widget-view+json": {
       "model_id": "6c0cfa8470054c748fa8f0b93030968e",
       "version_major": 2,
       "version_minor": 0
      },
      "text/plain": [
       "Iteration:   0%|          | 0/4610 [00:00<?, ?it/s]"
      ]
     },
     "metadata": {},
     "output_type": "display_data"
    },
    {
     "data": {
      "application/vnd.jupyter.widget-view+json": {
       "model_id": "1d1159b843fe4afdb8a1fde9a4557156",
       "version_major": 2,
       "version_minor": 0
      },
      "text/plain": [
       "Iteration:   0%|          | 0/4610 [00:00<?, ?it/s]"
      ]
     },
     "metadata": {},
     "output_type": "display_data"
    },
    {
     "data": {
      "application/vnd.jupyter.widget-view+json": {
       "model_id": "973558339fff4f91a09d7e33f50524a0",
       "version_major": 2,
       "version_minor": 0
      },
      "text/plain": [
       "Iteration:   0%|          | 0/4610 [00:00<?, ?it/s]"
      ]
     },
     "metadata": {},
     "output_type": "display_data"
    },
    {
     "name": "stdout",
     "output_type": "stream",
     "text": [
      "CPU times: user 6h 49min 11s, sys: 1h 48min 44s, total: 8h 37min 55s\n",
      "Wall time: 5h 1min 40s\n"
     ]
    }
   ],
   "source": [
    "%%time\n",
    "# finetune model\n",
    "MODEL.fit(train_objectives=[(retrain_dataloader, retrain_loss)], evaluator=evaluator, epochs=10,\n",
    "        output_path=\"bert+re-train_mlm_abstracts_arxiv+mean-pooling+retrain_anchor_arxiv\") "
   ]
  },
  {
   "cell_type": "code",
   "execution_count": 7,
   "id": "c0881483-5bb2-4aa8-8fe8-914f815a4229",
   "metadata": {},
   "outputs": [
    {
     "name": "stdout",
     "output_type": "stream",
     "text": [
      "CPU times: user 3min 20s, sys: 12 s, total: 3min 32s\n",
      "Wall time: 54.2 s\n"
     ]
    },
    {
     "data": {
      "text/plain": [
       "0.897516538336406"
      ]
     },
     "execution_count": 7,
     "metadata": {},
     "output_type": "execute_result"
    }
   ],
   "source": [
    "%%time\n",
    "# evaluate Spearman-Pearson-rank-coefficient on test data\n",
    "spear_ranc = MODEL.evaluate(evaluator)\n",
    "spear_ranc"
   ]
  }
 ],
 "metadata": {
  "kernelspec": {
   "display_name": "Python 3 (ipykernel)",
   "language": "python",
   "name": "python3"
  },
  "language_info": {
   "codemirror_mode": {
    "name": "ipython",
    "version": 3
   },
   "file_extension": ".py",
   "mimetype": "text/x-python",
   "name": "python",
   "nbconvert_exporter": "python",
   "pygments_lexer": "ipython3",
   "version": "3.9.19"
  }
 },
 "nbformat": 4,
 "nbformat_minor": 5
}
