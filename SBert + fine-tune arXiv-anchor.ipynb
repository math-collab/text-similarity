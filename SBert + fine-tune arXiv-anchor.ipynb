{
 "cells": [
  {
   "cell_type": "code",
   "execution_count": 1,
   "id": "92c1ec24-28c7-4052-a52f-10628c2b5abb",
   "metadata": {},
   "outputs": [
    {
     "name": "stderr",
     "output_type": "stream",
     "text": [
      "2024-01-06 18:46:12.580585: I tensorflow/core/util/util.cc:169] oneDNN custom operations are on. You may see slightly different numerical results due to floating-point round-off errors from different computation orders. To turn them off, set the environment variable `TF_ENABLE_ONEDNN_OPTS=0`.\n"
     ]
    }
   ],
   "source": [
    "import simi\n",
    "\n",
    "import pandas as pd\n",
    "from sentence_transformers import evaluation, losses, models, InputExample, SentenceTransformer\n",
    "from sklearn.model_selection import train_test_split\n",
    "from torch.utils.data import DataLoader\n",
    "\n",
    "MODEL = SentenceTransformer('all-mpnet-base-v2')\n",
    "\n",
    "RANDOM_STATE = 1"
   ]
  },
  {
   "cell_type": "code",
   "execution_count": 2,
   "id": "8322b4d1-6b31-4ee3-80d1-655477dc6959",
   "metadata": {},
   "outputs": [
    {
     "data": {
      "text/html": [
       "<div>\n",
       "<style scoped>\n",
       "    .dataframe tbody tr th:only-of-type {\n",
       "        vertical-align: middle;\n",
       "    }\n",
       "\n",
       "    .dataframe tbody tr th {\n",
       "        vertical-align: top;\n",
       "    }\n",
       "\n",
       "    .dataframe thead th {\n",
       "        text-align: right;\n",
       "    }\n",
       "</style>\n",
       "<table border=\"1\" class=\"dataframe\">\n",
       "  <thead>\n",
       "    <tr style=\"text-align: right;\">\n",
       "      <th></th>\n",
       "      <th>title</th>\n",
       "      <th>abstract</th>\n",
       "      <th>categories</th>\n",
       "      <th>doi</th>\n",
       "      <th>a</th>\n",
       "      <th>p</th>\n",
       "      <th>n</th>\n",
       "    </tr>\n",
       "  </thead>\n",
       "  <tbody>\n",
       "    <tr>\n",
       "      <th>40585</th>\n",
       "      <td>On Higher Graph Manifolds</td>\n",
       "      <td>In this short note we introduce higher graph...</td>\n",
       "      <td>('math.GT', 'math.DG')</td>\n",
       "      <td>10.1093/imrn/rnx133</td>\n",
       "      <td>In the case without any pure pieces, we show t...</td>\n",
       "      <td>In the case when the pure pieces are hyperboli...</td>\n",
       "      <td>We give a complete list of hyperbolic two-bri...</td>\n",
       "    </tr>\n",
       "    <tr>\n",
       "      <th>88808</th>\n",
       "      <td>Dynamic Learning of Sequential Choice Bandit P...</td>\n",
       "      <td>Motivated by the observation that overexposu...</td>\n",
       "      <td>('cs.LG', 'stat.ML')</td>\n",
       "      <td>NaN</td>\n",
       "      <td>For the online problem, we propose an algorith...</td>\n",
       "      <td>Motivated by the observation that overexposur...</td>\n",
       "      <td>Experiments with synthetic and real data are p...</td>\n",
       "    </tr>\n",
       "    <tr>\n",
       "      <th>78084</th>\n",
       "      <td>Tropical Support Vector Machines: Evaluations ...</td>\n",
       "      <td>Support Vector Machines (SVMs) are one of th...</td>\n",
       "      <td>('cs.LG', 'math.CO', 'math.ST', 'stat.TH')</td>\n",
       "      <td>NaN</td>\n",
       "      <td>While the generalization error bounds attained...</td>\n",
       "      <td>Support Vector Machines (SVMs) are one of the...</td>\n",
       "      <td>As an application, we improve and extend to th...</td>\n",
       "    </tr>\n",
       "    <tr>\n",
       "      <th>64756</th>\n",
       "      <td>Efficient Modular Arithmetic for SIMD Devices</td>\n",
       "      <td>This paper describes several new improvement...</td>\n",
       "      <td>('cs.CR', 'cs.PF', 'math.OC')</td>\n",
       "      <td>NaN</td>\n",
       "      <td>This new results allow building personal compu...</td>\n",
       "      <td>This paper describes several new improvements...</td>\n",
       "      <td>In addition, the paper discusses a comprehensi...</td>\n",
       "    </tr>\n",
       "    <tr>\n",
       "      <th>15680</th>\n",
       "      <td>Weighted Sobolev Spaces on Metric Measure Spaces</td>\n",
       "      <td>We investigate weighted Sobolev spaces on me...</td>\n",
       "      <td>('math.AP', 'math.FA', 'math.MG')</td>\n",
       "      <td>NaN</td>\n",
       "      <td>Denoting by $\\rho$ the weight function, we com...</td>\n",
       "      <td>Under mild assumptions on the metric measure s...</td>\n",
       "      <td>Moreover, inconditional uniqueness is obtained...</td>\n",
       "    </tr>\n",
       "  </tbody>\n",
       "</table>\n",
       "</div>"
      ],
      "text/plain": [
       "                                                   title  \\\n",
       "40585                          On Higher Graph Manifolds   \n",
       "88808  Dynamic Learning of Sequential Choice Bandit P...   \n",
       "78084  Tropical Support Vector Machines: Evaluations ...   \n",
       "64756      Efficient Modular Arithmetic for SIMD Devices   \n",
       "15680   Weighted Sobolev Spaces on Metric Measure Spaces   \n",
       "\n",
       "                                                abstract  \\\n",
       "40585    In this short note we introduce higher graph...   \n",
       "88808    Motivated by the observation that overexposu...   \n",
       "78084    Support Vector Machines (SVMs) are one of th...   \n",
       "64756    This paper describes several new improvement...   \n",
       "15680    We investigate weighted Sobolev spaces on me...   \n",
       "\n",
       "                                       categories                  doi  \\\n",
       "40585                      ('math.GT', 'math.DG')  10.1093/imrn/rnx133   \n",
       "88808                        ('cs.LG', 'stat.ML')                  NaN   \n",
       "78084  ('cs.LG', 'math.CO', 'math.ST', 'stat.TH')                  NaN   \n",
       "64756               ('cs.CR', 'cs.PF', 'math.OC')                  NaN   \n",
       "15680           ('math.AP', 'math.FA', 'math.MG')                  NaN   \n",
       "\n",
       "                                                       a  \\\n",
       "40585  In the case without any pure pieces, we show t...   \n",
       "88808  For the online problem, we propose an algorith...   \n",
       "78084  While the generalization error bounds attained...   \n",
       "64756  This new results allow building personal compu...   \n",
       "15680  Denoting by $\\rho$ the weight function, we com...   \n",
       "\n",
       "                                                       p  \\\n",
       "40585  In the case when the pure pieces are hyperboli...   \n",
       "88808   Motivated by the observation that overexposur...   \n",
       "78084   Support Vector Machines (SVMs) are one of the...   \n",
       "64756   This paper describes several new improvements...   \n",
       "15680  Under mild assumptions on the metric measure s...   \n",
       "\n",
       "                                                       n  \n",
       "40585   We give a complete list of hyperbolic two-bri...  \n",
       "88808  Experiments with synthetic and real data are p...  \n",
       "78084  As an application, we improve and extend to th...  \n",
       "64756  In addition, the paper discusses a comprehensi...  \n",
       "15680  Moreover, inconditional uniqueness is obtained...  "
      ]
     },
     "execution_count": 2,
     "metadata": {},
     "output_type": "execute_result"
    }
   ],
   "source": [
    "df = pd.read_csv(\"anchor-arxiv-dataset.csv\", index_col=0)\n",
    "df.sample(5)"
   ]
  },
  {
   "cell_type": "code",
   "execution_count": 3,
   "id": "294249b4-1850-4270-a92c-f267cb188896",
   "metadata": {},
   "outputs": [
    {
     "name": "stdout",
     "output_type": "stream",
     "text": [
      "train: 73760 eval: 9221 test: 9221\n"
     ]
    }
   ],
   "source": [
    "X_treval, X_test = train_test_split(df, train_size=0.9, random_state=RANDOM_STATE)\n",
    "X_train, X_eval = train_test_split(X_treval, train_size=0.888889, random_state=RANDOM_STATE)\n",
    "print(\"train:\", len(X_train), \"eval:\", len(X_eval), \"test:\", len(X_test))"
   ]
  },
  {
   "cell_type": "code",
   "execution_count": 4,
   "id": "7e7313a2-b689-4ce3-80b6-095076da262c",
   "metadata": {},
   "outputs": [],
   "source": [
    "# prepare evaluation data\n",
    "eval_examples = X_eval.reset_index(drop=True).apply(lambda r: InputExample(texts=[r[\"a\"], r[\"p\"], r[\"n\"]]), axis=1)\n",
    "evaluator = evaluation.TripletEvaluator.from_input_examples(eval_examples)"
   ]
  },
  {
   "cell_type": "code",
   "execution_count": 5,
   "id": "ab49fd15-c1b3-43f1-8426-3b8a6cfc9c05",
   "metadata": {},
   "outputs": [],
   "source": [
    "# prepare re-training: training data, loss\n",
    "retrain_examples = X_train.reset_index(drop=True).apply(lambda r: InputExample(texts=[r[\"a\"], r[\"p\"], r[\"n\"]]), axis=1)\n",
    "retrain_dataloader = DataLoader(retrain_examples, shuffle=True, batch_size=16)\n",
    "retrain_loss = losses.TripletLoss(model=MODEL, triplet_margin=5) # TODO: triplet_margin: hyperparameter to optimize"
   ]
  },
  {
   "cell_type": "code",
   "execution_count": 6,
   "id": "957b2f14-e4ae-42cc-aff2-b0edcc9dfdd1",
   "metadata": {},
   "outputs": [
    {
     "data": {
      "application/vnd.jupyter.widget-view+json": {
       "model_id": "9887a528089c49aca84e3ea1ee6ffe0a",
       "version_major": 2,
       "version_minor": 0
      },
      "text/plain": [
       "Epoch:   0%|          | 0/10 [00:00<?, ?it/s]"
      ]
     },
     "metadata": {},
     "output_type": "display_data"
    },
    {
     "data": {
      "application/vnd.jupyter.widget-view+json": {
       "model_id": "0b23e43787214d22acdd4828e2cb3a92",
       "version_major": 2,
       "version_minor": 0
      },
      "text/plain": [
       "Iteration:   0%|          | 0/4610 [00:00<?, ?it/s]"
      ]
     },
     "metadata": {},
     "output_type": "display_data"
    },
    {
     "data": {
      "application/vnd.jupyter.widget-view+json": {
       "model_id": "e24c0da0031d4f22816d9cfacdf8b9e3",
       "version_major": 2,
       "version_minor": 0
      },
      "text/plain": [
       "Iteration:   0%|          | 0/4610 [00:00<?, ?it/s]"
      ]
     },
     "metadata": {},
     "output_type": "display_data"
    },
    {
     "data": {
      "application/vnd.jupyter.widget-view+json": {
       "model_id": "beac1987ba164bf69addd069b3fcddae",
       "version_major": 2,
       "version_minor": 0
      },
      "text/plain": [
       "Iteration:   0%|          | 0/4610 [00:00<?, ?it/s]"
      ]
     },
     "metadata": {},
     "output_type": "display_data"
    },
    {
     "data": {
      "application/vnd.jupyter.widget-view+json": {
       "model_id": "3b5d4cf75639475bb17d6a4e290ee889",
       "version_major": 2,
       "version_minor": 0
      },
      "text/plain": [
       "Iteration:   0%|          | 0/4610 [00:00<?, ?it/s]"
      ]
     },
     "metadata": {},
     "output_type": "display_data"
    },
    {
     "data": {
      "application/vnd.jupyter.widget-view+json": {
       "model_id": "17da69aaf1544fb58699778b28483bfd",
       "version_major": 2,
       "version_minor": 0
      },
      "text/plain": [
       "Iteration:   0%|          | 0/4610 [00:00<?, ?it/s]"
      ]
     },
     "metadata": {},
     "output_type": "display_data"
    },
    {
     "data": {
      "application/vnd.jupyter.widget-view+json": {
       "model_id": "60008c877dd5456198831768b5b27353",
       "version_major": 2,
       "version_minor": 0
      },
      "text/plain": [
       "Iteration:   0%|          | 0/4610 [00:00<?, ?it/s]"
      ]
     },
     "metadata": {},
     "output_type": "display_data"
    },
    {
     "data": {
      "application/vnd.jupyter.widget-view+json": {
       "model_id": "f08b7fe825bc461cae53449ee86de8cf",
       "version_major": 2,
       "version_minor": 0
      },
      "text/plain": [
       "Iteration:   0%|          | 0/4610 [00:00<?, ?it/s]"
      ]
     },
     "metadata": {},
     "output_type": "display_data"
    },
    {
     "data": {
      "application/vnd.jupyter.widget-view+json": {
       "model_id": "8d8fd5f177da4d1d9798ab5416cc868a",
       "version_major": 2,
       "version_minor": 0
      },
      "text/plain": [
       "Iteration:   0%|          | 0/4610 [00:00<?, ?it/s]"
      ]
     },
     "metadata": {},
     "output_type": "display_data"
    },
    {
     "data": {
      "application/vnd.jupyter.widget-view+json": {
       "model_id": "3126bab6de084843a83ac31edb9fa452",
       "version_major": 2,
       "version_minor": 0
      },
      "text/plain": [
       "Iteration:   0%|          | 0/4610 [00:00<?, ?it/s]"
      ]
     },
     "metadata": {},
     "output_type": "display_data"
    },
    {
     "data": {
      "application/vnd.jupyter.widget-view+json": {
       "model_id": "6ca870db29c04ee9a351a0e94172c46d",
       "version_major": 2,
       "version_minor": 0
      },
      "text/plain": [
       "Iteration:   0%|          | 0/4610 [00:00<?, ?it/s]"
      ]
     },
     "metadata": {},
     "output_type": "display_data"
    },
    {
     "name": "stdout",
     "output_type": "stream",
     "text": [
      "CPU times: user 20h 44min 47s, sys: 20min 31s, total: 21h 5min 18s\n",
      "Wall time: 5h 5min 16s\n"
     ]
    }
   ],
   "source": [
    "%%time\n",
    "# finetune model\n",
    "MODEL.fit(train_objectives=[(retrain_dataloader, retrain_loss)], evaluator=evaluator, epochs=10,\n",
    "        output_path=\"sbert+retrain_anchor_arxiv\") "
   ]
  },
  {
   "cell_type": "code",
   "execution_count": 7,
   "id": "ad3d6be9-b46b-44da-a0f6-85c764404a41",
   "metadata": {},
   "outputs": [
    {
     "name": "stdout",
     "output_type": "stream",
     "text": [
      "CPU times: user 9min 9s, sys: 13.7 s, total: 9min 22s\n",
      "Wall time: 56.3 s\n"
     ]
    },
    {
     "data": {
      "text/plain": [
       "0.6901637566424466"
      ]
     },
     "execution_count": 7,
     "metadata": {},
     "output_type": "execute_result"
    }
   ],
   "source": [
    "%%time\n",
    "eval_res = MODEL.evaluate(evaluator)\n",
    "eval_res"
   ]
  },
  {
   "cell_type": "code",
   "execution_count": null,
   "id": "7a323562-434f-4a3f-94ce-d650dbbf57a2",
   "metadata": {},
   "outputs": [],
   "source": []
  }
 ],
 "metadata": {
  "kernelspec": {
   "display_name": "Python 3 (ipykernel)",
   "language": "python",
   "name": "python3"
  },
  "language_info": {
   "codemirror_mode": {
    "name": "ipython",
    "version": 3
   },
   "file_extension": ".py",
   "mimetype": "text/x-python",
   "name": "python",
   "nbconvert_exporter": "python",
   "pygments_lexer": "ipython3",
   "version": "3.9.19"
  }
 },
 "nbformat": 4,
 "nbformat_minor": 5
}
