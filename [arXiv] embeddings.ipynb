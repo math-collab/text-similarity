{
 "cells": [
  {
   "cell_type": "code",
   "execution_count": 1,
   "id": "5644c6cf-4abc-4983-89b4-075d47c7226a",
   "metadata": {},
   "outputs": [
    {
     "name": "stderr",
     "output_type": "stream",
     "text": [
      "2023-12-16 20:37:31.083390: I tensorflow/core/util/util.cc:169] oneDNN custom operations are on. You may see slightly different numerical results due to floating-point round-off errors from different computation orders. To turn them off, set the environment variable `TF_ENABLE_ONEDNN_OPTS=0`.\n"
     ]
    }
   ],
   "source": [
    "import simi\n",
    "\n",
    "import itertools\n",
    "import json\n",
    "import random\n",
    "import re\n",
    "import zipfile\n",
    "\n",
    "import nltk.data\n",
    "import pandas as pd\n",
    "import random\n",
    "from sentence_transformers import evaluation, losses, models, InputExample, SentenceTransformer\n",
    "from sklearn.model_selection import train_test_split\n",
    "import sqlalchemy\n",
    "from tqdm.auto import tqdm\n",
    "tqdm.pandas()\n",
    "\n",
    "ARXIV_ZIP = \"arxiv dump/arxiv-metadata-oai-snapshot-version111.json.zip\"\n",
    "DUMP_JSON = \"arxiv-metadata-oai-snapshot.json\"\n",
    "RANDOM_STATE = 1\n",
    "\n",
    "random.seed(RANDOM_STATE)"
   ]
  },
  {
   "cell_type": "code",
   "execution_count": 2,
   "id": "0e9b6592-5fca-4a55-a983-894eec64aae3",
   "metadata": {},
   "outputs": [],
   "source": [
    "def join_text(title, abstract):\n",
    "    title = title.strip(\"\").rstrip(\".\")\n",
    "    t = nltk.data.load('tokenizers/punkt/PY3/english.pickle')\n",
    "    ss = [sn.replace(\"\\n\", \" \") for sn in t.tokenize(re.sub(r\"\\s+\", \" \", \"{}. {}\".format(title, abstract)))]\n",
    "    try:\n",
    "        return \" \".join(ss)\n",
    "    except Exception as e:\n",
    "        return \"\""
   ]
  },
  {
   "cell_type": "code",
   "execution_count": 3,
   "id": "77337c10-bb8c-4497-93a6-bf076acdf60c",
   "metadata": {},
   "outputs": [
    {
     "data": {
      "application/vnd.jupyter.widget-view+json": {
       "model_id": "1a1204ed99214d12b05c770037b93456",
       "version_major": 2,
       "version_minor": 0
      },
      "text/plain": [
       "arxiv-metadata-oai-snapshot.json:   0%|          | 0.00/3.37G [00:00<?, ?b/s]"
      ]
     },
     "metadata": {},
     "output_type": "display_data"
    },
    {
     "data": {
      "application/vnd.jupyter.widget-view+json": {
       "model_id": "a6f1468440ae4fb1928371bea44976eb",
       "version_major": 2,
       "version_minor": 0
      },
      "text/plain": [
       "  0%|          | 0/650485 [00:00<?, ?it/s]"
      ]
     },
     "metadata": {},
     "output_type": "display_data"
    },
    {
     "name": "stdout",
     "output_type": "stream",
     "text": [
      "CPU times: user 9min 12s, sys: 11.5 s, total: 9min 24s\n",
      "Wall time: 9min 21s\n"
     ]
    }
   ],
   "source": [
    "%%time\n",
    "dfs = []\n",
    "with zipfile.ZipFile(ARXIV_ZIP) as za:\n",
    "    with tqdm(total=za.getinfo(DUMP_JSON).file_size, unit=\"b\", unit_divisor=1024, unit_scale=True, desc=DUMP_JSON) as pb:\n",
    "        with za.open(DUMP_JSON) as f:       \n",
    "            for l in f:\n",
    "                j = json.loads(l)\n",
    "                dfs.append(pd.DataFrame([[j[\"title\"], j[\"abstract\"], j[\"categories\"], j[\"doi\"]]], columns=[\"title\", \"abstract\", \"categories\", \"doi\"]))\n",
    "                pb.update(len(l))\n",
    "df = pd.concat(dfs, ignore_index=True).reset_index(drop=True)\n",
    "df[\"categories\"] = df[\"categories\"].map(lambda c: tuple(c.split()))\n",
    "\n",
    "math_cats = sorted([c for c in set(itertools.chain.from_iterable(df[\"categories\"])) if c.startswith(\"math\") or c.startswith(\"stat\")])\n",
    "df = df[df[\"categories\"].map(lambda c: len(set(c) & set(math_cats)) > 0)]\n",
    "\n",
    "df[\"text\"] = df.progress_apply(lambda r: join_text(r[\"title\"], r[\"abstract\"]), axis=1)\n",
    "df = df[df[\"text\"] != \"\"]\n",
    "\n",
    "#df = df[[\"title\", \"categories\"]]\n",
    "df = df[[\"text\", \"categories\"]]\n",
    "\n",
    "df = df[df.categories.map(lambda c: len(c)==1)]"
   ]
  },
  {
   "cell_type": "code",
   "execution_count": 4,
   "id": "b5163b36-d411-491e-ab37-5eec4d649cd0",
   "metadata": {},
   "outputs": [],
   "source": [
    "df = df.reset_index(drop=True)"
   ]
  },
  {
   "cell_type": "code",
   "execution_count": 5,
   "id": "14e140b8-c29d-4b73-af4d-4d53700c9313",
   "metadata": {},
   "outputs": [
    {
     "data": {
      "text/html": [
       "<div>\n",
       "<style scoped>\n",
       "    .dataframe tbody tr th:only-of-type {\n",
       "        vertical-align: middle;\n",
       "    }\n",
       "\n",
       "    .dataframe tbody tr th {\n",
       "        vertical-align: top;\n",
       "    }\n",
       "\n",
       "    .dataframe thead th {\n",
       "        text-align: right;\n",
       "    }\n",
       "</style>\n",
       "<table border=\"1\" class=\"dataframe\">\n",
       "  <thead>\n",
       "    <tr style=\"text-align: right;\">\n",
       "      <th></th>\n",
       "      <th>text</th>\n",
       "      <th>categories</th>\n",
       "    </tr>\n",
       "  </thead>\n",
       "  <tbody>\n",
       "    <tr>\n",
       "      <th>216876</th>\n",
       "      <td>Subgradient Ellipsoid Method for Nonsmooth Con...</td>\n",
       "      <td>(math.OC,)</td>\n",
       "    </tr>\n",
       "    <tr>\n",
       "      <th>146529</th>\n",
       "      <td>Generalized gap acceptance models for unsignal...</td>\n",
       "      <td>(math.PR,)</td>\n",
       "    </tr>\n",
       "    <tr>\n",
       "      <th>36020</th>\n",
       "      <td>Discrete time approximation of decoupled Forwa...</td>\n",
       "      <td>(math.PR,)</td>\n",
       "    </tr>\n",
       "    <tr>\n",
       "      <th>51646</th>\n",
       "      <td>Analytic approximation in $L^p$ and coinvarian...</td>\n",
       "      <td>(math.CV,)</td>\n",
       "    </tr>\n",
       "    <tr>\n",
       "      <th>181380</th>\n",
       "      <td>An introduction to Bent Jorgensen's ideas. We ...</td>\n",
       "      <td>(stat.OT,)</td>\n",
       "    </tr>\n",
       "  </tbody>\n",
       "</table>\n",
       "</div>"
      ],
      "text/plain": [
       "                                                     text  categories\n",
       "216876  Subgradient Ellipsoid Method for Nonsmooth Con...  (math.OC,)\n",
       "146529  Generalized gap acceptance models for unsignal...  (math.PR,)\n",
       "36020   Discrete time approximation of decoupled Forwa...  (math.PR,)\n",
       "51646   Analytic approximation in $L^p$ and coinvarian...  (math.CV,)\n",
       "181380  An introduction to Bent Jorgensen's ideas. We ...  (stat.OT,)"
      ]
     },
     "execution_count": 5,
     "metadata": {},
     "output_type": "execute_result"
    }
   ],
   "source": [
    "df.sample(5)"
   ]
  },
  {
   "cell_type": "markdown",
   "id": "515f5cbe-c7be-4d54-a30c-df61a5f0aa34",
   "metadata": {},
   "source": [
    "## Model definitions"
   ]
  },
  {
   "cell_type": "code",
   "execution_count": 10,
   "id": "8a65cda6-1f0c-49b3-b8d8-e133cbae9b21",
   "metadata": {},
   "outputs": [
    {
     "name": "stderr",
     "output_type": "stream",
     "text": [
      "Some weights of the model checkpoint at bert-base-uncased were not used when initializing BertModel: ['cls.predictions.decoder.weight', 'cls.seq_relationship.bias', 'cls.predictions.bias', 'cls.predictions.transform.dense.weight', 'cls.seq_relationship.weight', 'cls.predictions.transform.LayerNorm.bias', 'cls.predictions.transform.LayerNorm.weight', 'cls.predictions.transform.dense.bias']\n",
      "- This IS expected if you are initializing BertModel from the checkpoint of a model trained on another task or with another architecture (e.g. initializing a BertForSequenceClassification model from a BertForPreTraining model).\n",
      "- This IS NOT expected if you are initializing BertModel from the checkpoint of a model that you expect to be exactly identical (initializing a BertForSequenceClassification model from a BertForSequenceClassification model).\n",
      "Some weights of the model checkpoint at witiko/mathberta were not used when initializing RobertaModel: ['lm_head.layer_norm.weight', 'lm_head.dense.weight', 'lm_head.layer_norm.bias', 'lm_head.bias', 'lm_head.dense.bias']\n",
      "- This IS expected if you are initializing RobertaModel from the checkpoint of a model trained on another task or with another architecture (e.g. initializing a BertForSequenceClassification model from a BertForPreTraining model).\n",
      "- This IS NOT expected if you are initializing RobertaModel from the checkpoint of a model that you expect to be exactly identical (initializing a BertForSequenceClassification model from a BertForSequenceClassification model).\n",
      "Some weights of RobertaModel were not initialized from the model checkpoint at witiko/mathberta and are newly initialized: ['roberta.pooler.dense.bias', 'roberta.pooler.dense.weight']\n",
      "You should probably TRAIN this model on a down-stream task to be able to use it for predictions and inference.\n",
      "Some weights of the model checkpoint at ./bert+re-train_mlm_abstracts_arxiv were not used when initializing BertModel: ['cls.predictions.decoder.bias', 'cls.predictions.decoder.weight', 'cls.predictions.bias', 'cls.predictions.transform.dense.weight', 'cls.predictions.transform.LayerNorm.bias', 'cls.predictions.transform.LayerNorm.weight', 'cls.predictions.transform.dense.bias']\n",
      "- This IS expected if you are initializing BertModel from the checkpoint of a model trained on another task or with another architecture (e.g. initializing a BertForSequenceClassification model from a BertForPreTraining model).\n",
      "- This IS NOT expected if you are initializing BertModel from the checkpoint of a model that you expect to be exactly identical (initializing a BertForSequenceClassification model from a BertForSequenceClassification model).\n",
      "Some weights of BertModel were not initialized from the model checkpoint at ./bert+re-train_mlm_abstracts_arxiv and are newly initialized: ['bert.pooler.dense.bias', 'bert.pooler.dense.weight']\n",
      "You should probably TRAIN this model on a down-stream task to be able to use it for predictions and inference.\n"
     ]
    }
   ],
   "source": [
    "# Prerequisites for the models\n",
    "bert_base = models.Transformer('bert-base-uncased')\n",
    "bert_mp = SentenceTransformer(modules=[bert_base, models.Pooling(bert_base.get_word_embedding_dimension())])\n",
    "\n",
    "mathbert_base = models.Transformer('witiko/mathberta')\n",
    "mathbert_mp = SentenceTransformer(modules=[mathbert_base, models.Pooling(mathbert_base.get_word_embedding_dimension())])\n",
    "mathbert_cls = SentenceTransformer(modules=[mathbert_base, models.Pooling(mathbert_base.get_word_embedding_dimension(), pooling_mode=\"cls\")])\n",
    "\n",
    "bert_mlm_base = models.Transformer(\"./bert+re-train_mlm_abstracts_arxiv\")\n",
    "bert_mlm_mp = SentenceTransformer(modules=[bert_mlm_base, models.Pooling(bert_mlm_base.get_word_embedding_dimension())])\n",
    "\n",
    "sbert = SentenceTransformer('all-mpnet-base-v2')\n",
    "# alternative: sbert = SentenceTransformer('all-distilroberta-v1')\n",
    "\n",
    "specter2_base = models.Transformer('allenai/specter2_base')\n",
    "\n",
    "# Definition of models that are evaluated\n",
    "# combine models into dict\n",
    "eval_models = {\n",
    "    \"Bert+MP\": bert_mp,\n",
    "    \"Bert+MP+class-arx\": SentenceTransformer('./bert+mean-pooling+retrain_class_arxiv'),\n",
    "    \"Bert+MP+class-zbm\": SentenceTransformer('./bert+mean-pooling+retrain_class_zbmath'),\n",
    "    \n",
    "    \"Mathbert+CLS\": mathbert_cls,\n",
    "    \"Mathbert+MP+class-arx\": SentenceTransformer('./mathbert+mean-pooling+retrain_class_arxiv'),\n",
    "    \"Mathbert+MP+class-zbm\": SentenceTransformer('./mathbert+mean-pooling+retrain_class_zbmath'),\n",
    "    \n",
    "    \"Bert+TSDAE+MP\": SentenceTransformer('./bert+mean-pooling+re-train_tsdae_abstracts_arxiv'),\n",
    "    \"Bert+TSDAE+MP+class-arx\": SentenceTransformer('./bert+mean-pooling+re-train_tsdae_abstracts_arxiv+retrain_class_arxiv'),\n",
    "    \"Bert+TSDAE+MP+class-zbm\": SentenceTransformer('./bert+mean-pooling+re-train_tsdae_abstracts_arxiv+retrain_class_zbmath'),\n",
    "    \n",
    "    \"Bert+MLM+MP\": bert_mlm_mp,\n",
    "    \"Bert+MLM+MP+class-arx\": SentenceTransformer('./bert+re-train_mlm_abstracts_arxiv+mean-pooling+retrain_class_arxiv'),\n",
    "    \"Bert+MLM+MP+class-zbm\": SentenceTransformer('./bert+re-train_mlm_abstracts_arxiv+mean-pooling+retrain_class_zbmath'),\n",
    "    \"Bert+MLM+MP+class-zbm+anch-arx\": SentenceTransformer('./bert+re-train_mlm_abstracts_arxiv+mean-pooling+retrain_class_zbmath_anchor_arxiv'),\n",
    "    \"Bert+MLM+MP+class-arx+anch-arx+class-zbm\": SentenceTransformer('./bert+re-train_mlm_abstracts_arxiv+mean-pooling+retrain_class_arxiv_anchor_arxiv_class_zbmath'),\n",
    "    \n",
    "    \"SBert\": sbert,\n",
    "    \"SBert+ret_class-arx\": SentenceTransformer('./sbert+retrain_class_arxiv'),\n",
    "    \"SBert+ret_class-zbm\": SentenceTransformer('./sbert+retrain_class_zbmath'),\n",
    "    \n",
    "    \"Specter 2+MP\": SentenceTransformer(modules=[specter2_base, models.Pooling(specter2_base.get_word_embedding_dimension())]),\n",
    "    \"Specter 2.0+MP+class-arx\": SentenceTransformer('./specter2+mp+retrain_class_arxiv'),\n",
    "    \"Specter 2.0+MP+class-zbm\": SentenceTransformer('./specter2+mp+retrain_class_zbmath'),\n",
    "    \"Specter 2+MP+class-zbm+anch-arx\": SentenceTransformer('./specter2+mp+retrain_class_zbmath_anchor_arxiv'),\n",
    "    \"Specter 2+MP+anch-arx+class-arx+class-zbm\": SentenceTransformer('./specter2+mp+retrain_anchor_arxiv_class_arxiv_class_zbmath'),\n",
    "    \n",
    "    \"SGPT\": SentenceTransformer('Muennighoff/SGPT-125M-weightedmean-nli-bitfit'),\n",
    "    \"SGPT+class-arx\": SentenceTransformer('./gpt+retrain_class_arxiv'),\n",
    "    \"SGPT+class-zbm\": SentenceTransformer('./gpt+retrain_class_zbmath'),\n",
    "}"
   ]
  },
  {
   "cell_type": "code",
   "execution_count": 7,
   "id": "ec752875-28f5-4689-9dbf-80ffb9449825",
   "metadata": {
    "tags": []
   },
   "outputs": [
    {
     "data": {
      "application/vnd.jupyter.widget-view+json": {
       "model_id": "146e3c6ea1a2439aa2b98b109aa0f148",
       "version_major": 2,
       "version_minor": 0
      },
      "text/plain": [
       "Models:   0%|          | 0/24 [00:00<?, ?it/s]"
      ]
     },
     "metadata": {},
     "output_type": "display_data"
    },
    {
     "data": {
      "application/vnd.jupyter.widget-view+json": {
       "model_id": "e4d13f9afdb34c2987eabd543f2bbe9c",
       "version_major": 2,
       "version_minor": 0
      },
      "text/plain": [
       "Batches:   0%|          | 0/8510 [00:00<?, ?it/s]"
      ]
     },
     "metadata": {},
     "output_type": "display_data"
    },
    {
     "data": {
      "application/vnd.jupyter.widget-view+json": {
       "model_id": "fc478d9e06d949ba98ad1c5c02b0aea3",
       "version_major": 2,
       "version_minor": 0
      },
      "text/plain": [
       "Batches:   0%|          | 0/8510 [00:00<?, ?it/s]"
      ]
     },
     "metadata": {},
     "output_type": "display_data"
    },
    {
     "data": {
      "application/vnd.jupyter.widget-view+json": {
       "model_id": "ff53a39c63e54c2793d0abc355d1149d",
       "version_major": 2,
       "version_minor": 0
      },
      "text/plain": [
       "Batches:   0%|          | 0/8510 [00:00<?, ?it/s]"
      ]
     },
     "metadata": {},
     "output_type": "display_data"
    },
    {
     "data": {
      "application/vnd.jupyter.widget-view+json": {
       "model_id": "504f6037b83c4d248a455ace6a7e9b7a",
       "version_major": 2,
       "version_minor": 0
      },
      "text/plain": [
       "Batches:   0%|          | 0/8510 [00:00<?, ?it/s]"
      ]
     },
     "metadata": {},
     "output_type": "display_data"
    },
    {
     "data": {
      "application/vnd.jupyter.widget-view+json": {
       "model_id": "2f0514ac3796421992f4e27bdf7dcffd",
       "version_major": 2,
       "version_minor": 0
      },
      "text/plain": [
       "Batches:   0%|          | 0/8510 [00:00<?, ?it/s]"
      ]
     },
     "metadata": {},
     "output_type": "display_data"
    },
    {
     "data": {
      "application/vnd.jupyter.widget-view+json": {
       "model_id": "def3a8b3b4d3400db8c35c2aaa162b06",
       "version_major": 2,
       "version_minor": 0
      },
      "text/plain": [
       "Batches:   0%|          | 0/8510 [00:00<?, ?it/s]"
      ]
     },
     "metadata": {},
     "output_type": "display_data"
    },
    {
     "data": {
      "application/vnd.jupyter.widget-view+json": {
       "model_id": "f2883b4cf59c49e59ffef44c27dfa8f5",
       "version_major": 2,
       "version_minor": 0
      },
      "text/plain": [
       "Batches:   0%|          | 0/8510 [00:00<?, ?it/s]"
      ]
     },
     "metadata": {},
     "output_type": "display_data"
    },
    {
     "data": {
      "application/vnd.jupyter.widget-view+json": {
       "model_id": "076d42391219453ea7f781142c718551",
       "version_major": 2,
       "version_minor": 0
      },
      "text/plain": [
       "Batches:   0%|          | 0/8510 [00:00<?, ?it/s]"
      ]
     },
     "metadata": {},
     "output_type": "display_data"
    },
    {
     "data": {
      "application/vnd.jupyter.widget-view+json": {
       "model_id": "d0e5a207b8e543b1a739289050fd90a4",
       "version_major": 2,
       "version_minor": 0
      },
      "text/plain": [
       "Batches:   0%|          | 0/8510 [00:00<?, ?it/s]"
      ]
     },
     "metadata": {},
     "output_type": "display_data"
    },
    {
     "data": {
      "application/vnd.jupyter.widget-view+json": {
       "model_id": "6db9968220f04e64a005acc1509c7766",
       "version_major": 2,
       "version_minor": 0
      },
      "text/plain": [
       "Batches:   0%|          | 0/8510 [00:00<?, ?it/s]"
      ]
     },
     "metadata": {},
     "output_type": "display_data"
    },
    {
     "data": {
      "application/vnd.jupyter.widget-view+json": {
       "model_id": "5db9ae12974a48129e357fefac6d0045",
       "version_major": 2,
       "version_minor": 0
      },
      "text/plain": [
       "Batches:   0%|          | 0/8510 [00:00<?, ?it/s]"
      ]
     },
     "metadata": {},
     "output_type": "display_data"
    },
    {
     "data": {
      "application/vnd.jupyter.widget-view+json": {
       "model_id": "4f8003f6b49d4fd9bc58975b966054b9",
       "version_major": 2,
       "version_minor": 0
      },
      "text/plain": [
       "Batches:   0%|          | 0/8510 [00:00<?, ?it/s]"
      ]
     },
     "metadata": {},
     "output_type": "display_data"
    },
    {
     "data": {
      "application/vnd.jupyter.widget-view+json": {
       "model_id": "c9509c2ed12b4bbb8cf6e67cbcccca1c",
       "version_major": 2,
       "version_minor": 0
      },
      "text/plain": [
       "Batches:   0%|          | 0/8510 [00:00<?, ?it/s]"
      ]
     },
     "metadata": {},
     "output_type": "display_data"
    },
    {
     "data": {
      "application/vnd.jupyter.widget-view+json": {
       "model_id": "65d7ce620f544cc8ae454c50581b205d",
       "version_major": 2,
       "version_minor": 0
      },
      "text/plain": [
       "Batches:   0%|          | 0/8510 [00:00<?, ?it/s]"
      ]
     },
     "metadata": {},
     "output_type": "display_data"
    },
    {
     "data": {
      "application/vnd.jupyter.widget-view+json": {
       "model_id": "78ad0009bd37484297c88ac38683d66e",
       "version_major": 2,
       "version_minor": 0
      },
      "text/plain": [
       "Batches:   0%|          | 0/8510 [00:00<?, ?it/s]"
      ]
     },
     "metadata": {},
     "output_type": "display_data"
    },
    {
     "data": {
      "application/vnd.jupyter.widget-view+json": {
       "model_id": "3bc6285c280944f5a177ca78add1a84e",
       "version_major": 2,
       "version_minor": 0
      },
      "text/plain": [
       "Batches:   0%|          | 0/8510 [00:00<?, ?it/s]"
      ]
     },
     "metadata": {},
     "output_type": "display_data"
    },
    {
     "name": "stderr",
     "output_type": "stream",
     "text": [
      "IOPub message rate exceeded.\n",
      "The Jupyter server will temporarily stop sending output\n",
      "to the client in order to avoid crashing it.\n",
      "To change this limit, set the config variable\n",
      "`--ServerApp.iopub_msg_rate_limit`.\n",
      "\n",
      "Current values:\n",
      "ServerApp.iopub_msg_rate_limit=1000.0 (msgs/sec)\n",
      "ServerApp.rate_limit_window=3.0 (secs)\n",
      "\n"
     ]
    },
    {
     "data": {
      "application/vnd.jupyter.widget-view+json": {
       "model_id": "310f3d70326d4d79a2171274df35c67a",
       "version_major": 2,
       "version_minor": 0
      },
      "text/plain": [
       "Batches:   0%|          | 0/8510 [00:00<?, ?it/s]"
      ]
     },
     "metadata": {},
     "output_type": "display_data"
    },
    {
     "data": {
      "application/vnd.jupyter.widget-view+json": {
       "model_id": "364d78ba962247cb8e76035466f5070c",
       "version_major": 2,
       "version_minor": 0
      },
      "text/plain": [
       "Batches:   0%|          | 0/8510 [00:00<?, ?it/s]"
      ]
     },
     "metadata": {},
     "output_type": "display_data"
    },
    {
     "data": {
      "application/vnd.jupyter.widget-view+json": {
       "model_id": "03928fdce4834a5a88c2204d6a2ae896",
       "version_major": 2,
       "version_minor": 0
      },
      "text/plain": [
       "Batches:   0%|          | 0/8510 [00:00<?, ?it/s]"
      ]
     },
     "metadata": {},
     "output_type": "display_data"
    },
    {
     "data": {
      "application/vnd.jupyter.widget-view+json": {
       "model_id": "7a3eaabefd22496994686f45233add2f",
       "version_major": 2,
       "version_minor": 0
      },
      "text/plain": [
       "Batches:   0%|          | 0/8510 [00:00<?, ?it/s]"
      ]
     },
     "metadata": {},
     "output_type": "display_data"
    },
    {
     "data": {
      "application/vnd.jupyter.widget-view+json": {
       "model_id": "09a752ba89844d528ea512e9b5bfa4d9",
       "version_major": 2,
       "version_minor": 0
      },
      "text/plain": [
       "Batches:   0%|          | 0/8510 [00:00<?, ?it/s]"
      ]
     },
     "metadata": {},
     "output_type": "display_data"
    },
    {
     "data": {
      "application/vnd.jupyter.widget-view+json": {
       "model_id": "6256ad33250b4c89be5b970a2ff41213",
       "version_major": 2,
       "version_minor": 0
      },
      "text/plain": [
       "Batches:   0%|          | 0/8510 [00:00<?, ?it/s]"
      ]
     },
     "metadata": {},
     "output_type": "display_data"
    },
    {
     "data": {
      "application/vnd.jupyter.widget-view+json": {
       "model_id": "547ba7b124d0445fa27be3c33b935dce",
       "version_major": 2,
       "version_minor": 0
      },
      "text/plain": [
       "Batches:   0%|          | 0/8510 [00:00<?, ?it/s]"
      ]
     },
     "metadata": {},
     "output_type": "display_data"
    },
    {
     "data": {
      "application/vnd.jupyter.widget-view+json": {
       "model_id": "fd734720f3de4f22b5a8e491360aba52",
       "version_major": 2,
       "version_minor": 0
      },
      "text/plain": [
       "Batches:   0%|          | 0/8510 [00:00<?, ?it/s]"
      ]
     },
     "metadata": {},
     "output_type": "display_data"
    },
    {
     "name": "stdout",
     "output_type": "stream",
     "text": [
      "CPU times: user 1d 3h 41min 30s, sys: 49min 47s, total: 1d 4h 31min 18s\n",
      "Wall time: 11h 54min 49s\n"
     ]
    }
   ],
   "source": [
    "%%time\n",
    "\n",
    "with tqdm(total=len(eval_models), desc=\"Models\") as pb:\n",
    "    for n,m in eval_models.items():\n",
    "        #df[\"embedding ({})\".format(n)] = pd.Series(list(simi.model_embeddings(m, df[\"title\"], show_progress_bar=True)))\n",
    "        df[\"embedding ({})\".format(n)] = pd.Series(list(simi.model_embeddings(m, df[\"text\"], show_progress_bar=True)))\n",
    "        pb.update()"
   ]
  },
  {
   "cell_type": "code",
   "execution_count": 8,
   "id": "00d2c369-b994-4b29-abeb-f2e3716e8185",
   "metadata": {},
   "outputs": [
    {
     "data": {
      "text/html": [
       "<div>\n",
       "<style scoped>\n",
       "    .dataframe tbody tr th:only-of-type {\n",
       "        vertical-align: middle;\n",
       "    }\n",
       "\n",
       "    .dataframe tbody tr th {\n",
       "        vertical-align: top;\n",
       "    }\n",
       "\n",
       "    .dataframe thead th {\n",
       "        text-align: right;\n",
       "    }\n",
       "</style>\n",
       "<table border=\"1\" class=\"dataframe\">\n",
       "  <thead>\n",
       "    <tr style=\"text-align: right;\">\n",
       "      <th></th>\n",
       "      <th>text</th>\n",
       "      <th>categories</th>\n",
       "      <th>embedding (Bert+MP)</th>\n",
       "      <th>embedding (Bert+MP+class-arx)</th>\n",
       "      <th>embedding (Bert+MP+class-zbm)</th>\n",
       "      <th>embedding (Mathbert+CLS)</th>\n",
       "      <th>embedding (Mathbert+MP+class-arx)</th>\n",
       "      <th>embedding (Mathbert+MP+class-zbm)</th>\n",
       "      <th>embedding (Bert+TSDAE+MP)</th>\n",
       "      <th>embedding (Bert+TSDAE+MP+class-arx)</th>\n",
       "      <th>...</th>\n",
       "      <th>embedding (SBert)</th>\n",
       "      <th>embedding (SBert+ret_class-arx)</th>\n",
       "      <th>embedding (SBert+ret_class-zbm)</th>\n",
       "      <th>embedding (Specter 2+MP)</th>\n",
       "      <th>embedding (Specter 2.0+MP+class-arx)</th>\n",
       "      <th>embedding (Specter 2.0+MP+class-zbm)</th>\n",
       "      <th>embedding (Specter 2+MP+class-zbm+anch-arx)</th>\n",
       "      <th>embedding (Specter 2+MP+anch-arx+class-arx+class-zbm)</th>\n",
       "      <th>embedding (SGPT)</th>\n",
       "      <th>embedding (SGPT+class-zbm)</th>\n",
       "    </tr>\n",
       "  </thead>\n",
       "  <tbody>\n",
       "    <tr>\n",
       "      <th>14713</th>\n",
       "      <td>Heisenberg Idempotents on Unipotent Groups. Le...</td>\n",
       "      <td>(math.RT,)</td>\n",
       "      <td>[-0.44673637, -0.117981836, 0.36835602, -0.182...</td>\n",
       "      <td>[-0.048817247, -0.32580274, -0.25932664, 0.486...</td>\n",
       "      <td>[-0.09339113, 0.55284745, 0.40907928, -0.47770...</td>\n",
       "      <td>[-0.029157367, 0.008551015, 0.016446434, 0.000...</td>\n",
       "      <td>[0.11753585, 0.47042903, 0.70793957, 1.3361214...</td>\n",
       "      <td>[-0.66416395, -0.5353767, -0.18511598, 0.39433...</td>\n",
       "      <td>[0.0252847, 0.052180655, 0.08451672, -0.157209...</td>\n",
       "      <td>[-0.869118, -0.9987617, -0.11206023, -0.209534...</td>\n",
       "      <td>...</td>\n",
       "      <td>[-0.020525329, 0.022543224, -0.021192962, -0.0...</td>\n",
       "      <td>[-0.009449902, -0.028253904, -0.020228831, 0.0...</td>\n",
       "      <td>[0.03998939, -0.0033082857, -0.02631805, 0.016...</td>\n",
       "      <td>[0.23881957, 0.49273804, -0.017457835, 0.33633...</td>\n",
       "      <td>[0.53644896, 1.2513939, 2.0663762, -0.22485189...</td>\n",
       "      <td>[-0.002482295, 0.5286821, -0.25448278, -0.4108...</td>\n",
       "      <td>[1.4593894, 0.9060594, 0.8759439, 0.6162333, 1...</td>\n",
       "      <td>[0.9604389, 1.1320069, 1.1406655, 0.10618342, ...</td>\n",
       "      <td>[-0.7986909, -0.64885604, 1.0200502, -0.413885...</td>\n",
       "      <td>[0.28802395, 0.012298746, 0.21507654, 0.580377...</td>\n",
       "    </tr>\n",
       "    <tr>\n",
       "      <th>87627</th>\n",
       "      <td>(10, k) Reversible Multiples. We consider the ...</td>\n",
       "      <td>(math.GM,)</td>\n",
       "      <td>[-0.16335775, -0.06617161, 0.5106309, -0.15558...</td>\n",
       "      <td>[-0.9212624, 0.18871203, 0.11060377, 0.3638353...</td>\n",
       "      <td>[0.514042, 1.1183357, -0.55408525, -0.18689784...</td>\n",
       "      <td>[-0.012707563, 0.0381937, -0.0010121999, -0.01...</td>\n",
       "      <td>[1.012272, -0.10622712, -0.3762327, -0.3519919...</td>\n",
       "      <td>[0.27579632, -0.008231211, -0.3095563, 0.10317...</td>\n",
       "      <td>[0.13058585, 0.3956283, 0.35346895, -0.1929293...</td>\n",
       "      <td>[-0.032497577, 0.3461761, -0.27086192, -0.7554...</td>\n",
       "      <td>...</td>\n",
       "      <td>[-0.014818843, -0.047378317, 0.0044712634, 0.0...</td>\n",
       "      <td>[0.0702136, 0.0017042622, 0.048090816, 0.05911...</td>\n",
       "      <td>[-0.0005425008, 0.008336401, -0.0090653915, -0...</td>\n",
       "      <td>[0.82968575, -0.13845076, -0.26792967, 0.28962...</td>\n",
       "      <td>[0.48242113, -0.27038956, 0.4837663, 0.9690887...</td>\n",
       "      <td>[0.8829145, -2.0528686, -1.0972743, 1.2415856,...</td>\n",
       "      <td>[1.4551079, -1.7115458, -0.6988823, 0.94670486...</td>\n",
       "      <td>[-0.0485003, -0.35216787, -0.35405836, 1.47451...</td>\n",
       "      <td>[-0.8695109, 0.8555988, 0.103301875, -0.973842...</td>\n",
       "      <td>[0.46707067, 1.6612374, 0.46632856, 0.33273768...</td>\n",
       "    </tr>\n",
       "    <tr>\n",
       "      <th>189826</th>\n",
       "      <td>Averages of long Dirichlet polynomials. We con...</td>\n",
       "      <td>(math.NT,)</td>\n",
       "      <td>[-0.18444498, -0.11001027, 0.32445168, -0.1935...</td>\n",
       "      <td>[-1.1984326, -0.28368613, 0.66014385, 0.139267...</td>\n",
       "      <td>[0.5973368, 0.013618904, 0.42929646, -0.302245...</td>\n",
       "      <td>[0.0021970184, 0.04423874, 0.00942348, 0.02889...</td>\n",
       "      <td>[0.91820145, -0.109373674, -0.25007832, -0.385...</td>\n",
       "      <td>[0.7929841, -0.24122973, -0.023994127, -0.1269...</td>\n",
       "      <td>[-0.0069884663, 0.089529134, 0.097870685, 0.08...</td>\n",
       "      <td>[-0.1290751, 0.29044434, -0.20054877, -0.81433...</td>\n",
       "      <td>...</td>\n",
       "      <td>[-0.0637499, 0.0035657492, -0.019513607, 0.059...</td>\n",
       "      <td>[0.07701481, 0.012056987, 0.070335194, 0.05495...</td>\n",
       "      <td>[0.053555913, 0.06480057, 0.042535853, -0.0155...</td>\n",
       "      <td>[0.28643018, 0.57273793, 0.14995858, 0.0399353...</td>\n",
       "      <td>[1.1886165, -0.52009845, 0.78884196, 1.2583576...</td>\n",
       "      <td>[-0.21264921, -0.51283103, -0.18349276, 0.9446...</td>\n",
       "      <td>[-0.66535896, 1.1507801, 0.42430782, -0.088890...</td>\n",
       "      <td>[0.5022082, 0.34535408, 1.0854611, 0.67368925,...</td>\n",
       "      <td>[-0.08527299, -1.1973345, 0.26673844, -0.69951...</td>\n",
       "      <td>[0.65142787, -0.7052756, -0.8345003, 0.7399770...</td>\n",
       "    </tr>\n",
       "    <tr>\n",
       "      <th>255083</th>\n",
       "      <td>A Pieri-Chevalley formula for K(G/B). The ring...</td>\n",
       "      <td>(math.RT,)</td>\n",
       "      <td>[-0.28712058, -0.043906942, 0.2484594, -0.2178...</td>\n",
       "      <td>[0.027420793, -0.24388905, -0.05215356, 0.9634...</td>\n",
       "      <td>[0.2687007, 0.12688278, 0.39017326, 0.211602, ...</td>\n",
       "      <td>[-0.027314896, 0.02201781, 0.006237851, -0.000...</td>\n",
       "      <td>[0.06423249, 0.7417011, 0.8310071, 0.7334632, ...</td>\n",
       "      <td>[-1.008708, -0.42312184, 0.3800256, -0.3231577...</td>\n",
       "      <td>[0.19318767, -0.06424971, 0.044713028, -0.0326...</td>\n",
       "      <td>[-1.9310452, -0.7054479, 0.28916106, -0.071887...</td>\n",
       "      <td>...</td>\n",
       "      <td>[-0.046625063, -0.04837608, -0.029482346, 0.06...</td>\n",
       "      <td>[-0.040590793, 0.008438152, 0.0034349842, -0.0...</td>\n",
       "      <td>[0.014794293, 0.077488184, -0.025242452, -0.02...</td>\n",
       "      <td>[0.21402888, 0.03785907, -0.41144055, 0.143087...</td>\n",
       "      <td>[-0.37271148, -0.34471813, 0.79242104, -0.7578...</td>\n",
       "      <td>[-0.19237441, 0.028460102, 0.28109065, 0.52579...</td>\n",
       "      <td>[0.3184207, -0.70041174, 0.50199157, -0.395749...</td>\n",
       "      <td>[-0.48638898, -1.0513365, 0.16423285, 0.882752...</td>\n",
       "      <td>[0.53998387, 1.5832734, -0.006798582, -0.77460...</td>\n",
       "      <td>[0.2028964, 1.8658131, 0.5162393, 0.3256827, -...</td>\n",
       "    </tr>\n",
       "    <tr>\n",
       "      <th>179824</th>\n",
       "      <td>Quantum Euclidean Spaces with Noncommutative D...</td>\n",
       "      <td>(math.OA,)</td>\n",
       "      <td>[-0.28733668, -0.23055288, 0.38958988, -0.2490...</td>\n",
       "      <td>[0.57414204, -0.24860351, -0.107429475, 0.3834...</td>\n",
       "      <td>[0.42945963, 0.24710399, -0.23467553, -0.36466...</td>\n",
       "      <td>[-0.022679398, 0.033999454, 0.021820456, -0.01...</td>\n",
       "      <td>[0.2736504, 0.26398134, -0.08840776, 0.3314680...</td>\n",
       "      <td>[-1.0973357, -0.56398743, 0.051087204, -0.9894...</td>\n",
       "      <td>[0.1188062, 0.280105, 0.17062257, -0.17981789,...</td>\n",
       "      <td>[-0.39327112, -0.76186806, 0.5398385, -0.72155...</td>\n",
       "      <td>...</td>\n",
       "      <td>[0.06680033, -0.0007584461, -0.04221967, 0.006...</td>\n",
       "      <td>[0.053765, 0.022055607, -0.0035675038, 0.01215...</td>\n",
       "      <td>[0.018427951, 0.07720141, -0.001431768, -0.044...</td>\n",
       "      <td>[0.095985636, 0.4896472, 0.33805853, -0.001373...</td>\n",
       "      <td>[0.25898236, 1.255652, 2.136975, -0.4343123, 0...</td>\n",
       "      <td>[0.60509795, -0.5543667, 0.9901327, -0.1548276...</td>\n",
       "      <td>[0.385985, 0.46274638, 1.0840086, -0.5587508, ...</td>\n",
       "      <td>[0.75580287, 1.1679249, 1.113982, 0.14102475, ...</td>\n",
       "      <td>[-2.6578612, 0.11497679, 0.08613574, -0.988827...</td>\n",
       "      <td>[-0.40530223, -0.95392776, -0.42633703, 0.0678...</td>\n",
       "    </tr>\n",
       "  </tbody>\n",
       "</table>\n",
       "<p>5 rows × 26 columns</p>\n",
       "</div>"
      ],
      "text/plain": [
       "                                                     text  categories  \\\n",
       "14713   Heisenberg Idempotents on Unipotent Groups. Le...  (math.RT,)   \n",
       "87627   (10, k) Reversible Multiples. We consider the ...  (math.GM,)   \n",
       "189826  Averages of long Dirichlet polynomials. We con...  (math.NT,)   \n",
       "255083  A Pieri-Chevalley formula for K(G/B). The ring...  (math.RT,)   \n",
       "179824  Quantum Euclidean Spaces with Noncommutative D...  (math.OA,)   \n",
       "\n",
       "                                      embedding (Bert+MP)  \\\n",
       "14713   [-0.44673637, -0.117981836, 0.36835602, -0.182...   \n",
       "87627   [-0.16335775, -0.06617161, 0.5106309, -0.15558...   \n",
       "189826  [-0.18444498, -0.11001027, 0.32445168, -0.1935...   \n",
       "255083  [-0.28712058, -0.043906942, 0.2484594, -0.2178...   \n",
       "179824  [-0.28733668, -0.23055288, 0.38958988, -0.2490...   \n",
       "\n",
       "                            embedding (Bert+MP+class-arx)  \\\n",
       "14713   [-0.048817247, -0.32580274, -0.25932664, 0.486...   \n",
       "87627   [-0.9212624, 0.18871203, 0.11060377, 0.3638353...   \n",
       "189826  [-1.1984326, -0.28368613, 0.66014385, 0.139267...   \n",
       "255083  [0.027420793, -0.24388905, -0.05215356, 0.9634...   \n",
       "179824  [0.57414204, -0.24860351, -0.107429475, 0.3834...   \n",
       "\n",
       "                            embedding (Bert+MP+class-zbm)  \\\n",
       "14713   [-0.09339113, 0.55284745, 0.40907928, -0.47770...   \n",
       "87627   [0.514042, 1.1183357, -0.55408525, -0.18689784...   \n",
       "189826  [0.5973368, 0.013618904, 0.42929646, -0.302245...   \n",
       "255083  [0.2687007, 0.12688278, 0.39017326, 0.211602, ...   \n",
       "179824  [0.42945963, 0.24710399, -0.23467553, -0.36466...   \n",
       "\n",
       "                                 embedding (Mathbert+CLS)  \\\n",
       "14713   [-0.029157367, 0.008551015, 0.016446434, 0.000...   \n",
       "87627   [-0.012707563, 0.0381937, -0.0010121999, -0.01...   \n",
       "189826  [0.0021970184, 0.04423874, 0.00942348, 0.02889...   \n",
       "255083  [-0.027314896, 0.02201781, 0.006237851, -0.000...   \n",
       "179824  [-0.022679398, 0.033999454, 0.021820456, -0.01...   \n",
       "\n",
       "                        embedding (Mathbert+MP+class-arx)  \\\n",
       "14713   [0.11753585, 0.47042903, 0.70793957, 1.3361214...   \n",
       "87627   [1.012272, -0.10622712, -0.3762327, -0.3519919...   \n",
       "189826  [0.91820145, -0.109373674, -0.25007832, -0.385...   \n",
       "255083  [0.06423249, 0.7417011, 0.8310071, 0.7334632, ...   \n",
       "179824  [0.2736504, 0.26398134, -0.08840776, 0.3314680...   \n",
       "\n",
       "                        embedding (Mathbert+MP+class-zbm)  \\\n",
       "14713   [-0.66416395, -0.5353767, -0.18511598, 0.39433...   \n",
       "87627   [0.27579632, -0.008231211, -0.3095563, 0.10317...   \n",
       "189826  [0.7929841, -0.24122973, -0.023994127, -0.1269...   \n",
       "255083  [-1.008708, -0.42312184, 0.3800256, -0.3231577...   \n",
       "179824  [-1.0973357, -0.56398743, 0.051087204, -0.9894...   \n",
       "\n",
       "                                embedding (Bert+TSDAE+MP)  \\\n",
       "14713   [0.0252847, 0.052180655, 0.08451672, -0.157209...   \n",
       "87627   [0.13058585, 0.3956283, 0.35346895, -0.1929293...   \n",
       "189826  [-0.0069884663, 0.089529134, 0.097870685, 0.08...   \n",
       "255083  [0.19318767, -0.06424971, 0.044713028, -0.0326...   \n",
       "179824  [0.1188062, 0.280105, 0.17062257, -0.17981789,...   \n",
       "\n",
       "                      embedding (Bert+TSDAE+MP+class-arx)  ...  \\\n",
       "14713   [-0.869118, -0.9987617, -0.11206023, -0.209534...  ...   \n",
       "87627   [-0.032497577, 0.3461761, -0.27086192, -0.7554...  ...   \n",
       "189826  [-0.1290751, 0.29044434, -0.20054877, -0.81433...  ...   \n",
       "255083  [-1.9310452, -0.7054479, 0.28916106, -0.071887...  ...   \n",
       "179824  [-0.39327112, -0.76186806, 0.5398385, -0.72155...  ...   \n",
       "\n",
       "                                        embedding (SBert)  \\\n",
       "14713   [-0.020525329, 0.022543224, -0.021192962, -0.0...   \n",
       "87627   [-0.014818843, -0.047378317, 0.0044712634, 0.0...   \n",
       "189826  [-0.0637499, 0.0035657492, -0.019513607, 0.059...   \n",
       "255083  [-0.046625063, -0.04837608, -0.029482346, 0.06...   \n",
       "179824  [0.06680033, -0.0007584461, -0.04221967, 0.006...   \n",
       "\n",
       "                          embedding (SBert+ret_class-arx)  \\\n",
       "14713   [-0.009449902, -0.028253904, -0.020228831, 0.0...   \n",
       "87627   [0.0702136, 0.0017042622, 0.048090816, 0.05911...   \n",
       "189826  [0.07701481, 0.012056987, 0.070335194, 0.05495...   \n",
       "255083  [-0.040590793, 0.008438152, 0.0034349842, -0.0...   \n",
       "179824  [0.053765, 0.022055607, -0.0035675038, 0.01215...   \n",
       "\n",
       "                          embedding (SBert+ret_class-zbm)  \\\n",
       "14713   [0.03998939, -0.0033082857, -0.02631805, 0.016...   \n",
       "87627   [-0.0005425008, 0.008336401, -0.0090653915, -0...   \n",
       "189826  [0.053555913, 0.06480057, 0.042535853, -0.0155...   \n",
       "255083  [0.014794293, 0.077488184, -0.025242452, -0.02...   \n",
       "179824  [0.018427951, 0.07720141, -0.001431768, -0.044...   \n",
       "\n",
       "                                 embedding (Specter 2+MP)  \\\n",
       "14713   [0.23881957, 0.49273804, -0.017457835, 0.33633...   \n",
       "87627   [0.82968575, -0.13845076, -0.26792967, 0.28962...   \n",
       "189826  [0.28643018, 0.57273793, 0.14995858, 0.0399353...   \n",
       "255083  [0.21402888, 0.03785907, -0.41144055, 0.143087...   \n",
       "179824  [0.095985636, 0.4896472, 0.33805853, -0.001373...   \n",
       "\n",
       "                     embedding (Specter 2.0+MP+class-arx)  \\\n",
       "14713   [0.53644896, 1.2513939, 2.0663762, -0.22485189...   \n",
       "87627   [0.48242113, -0.27038956, 0.4837663, 0.9690887...   \n",
       "189826  [1.1886165, -0.52009845, 0.78884196, 1.2583576...   \n",
       "255083  [-0.37271148, -0.34471813, 0.79242104, -0.7578...   \n",
       "179824  [0.25898236, 1.255652, 2.136975, -0.4343123, 0...   \n",
       "\n",
       "                     embedding (Specter 2.0+MP+class-zbm)  \\\n",
       "14713   [-0.002482295, 0.5286821, -0.25448278, -0.4108...   \n",
       "87627   [0.8829145, -2.0528686, -1.0972743, 1.2415856,...   \n",
       "189826  [-0.21264921, -0.51283103, -0.18349276, 0.9446...   \n",
       "255083  [-0.19237441, 0.028460102, 0.28109065, 0.52579...   \n",
       "179824  [0.60509795, -0.5543667, 0.9901327, -0.1548276...   \n",
       "\n",
       "              embedding (Specter 2+MP+class-zbm+anch-arx)  \\\n",
       "14713   [1.4593894, 0.9060594, 0.8759439, 0.6162333, 1...   \n",
       "87627   [1.4551079, -1.7115458, -0.6988823, 0.94670486...   \n",
       "189826  [-0.66535896, 1.1507801, 0.42430782, -0.088890...   \n",
       "255083  [0.3184207, -0.70041174, 0.50199157, -0.395749...   \n",
       "179824  [0.385985, 0.46274638, 1.0840086, -0.5587508, ...   \n",
       "\n",
       "       embedding (Specter 2+MP+anch-arx+class-arx+class-zbm)  \\\n",
       "14713   [0.9604389, 1.1320069, 1.1406655, 0.10618342, ...      \n",
       "87627   [-0.0485003, -0.35216787, -0.35405836, 1.47451...      \n",
       "189826  [0.5022082, 0.34535408, 1.0854611, 0.67368925,...      \n",
       "255083  [-0.48638898, -1.0513365, 0.16423285, 0.882752...      \n",
       "179824  [0.75580287, 1.1679249, 1.113982, 0.14102475, ...      \n",
       "\n",
       "                                         embedding (SGPT)  \\\n",
       "14713   [-0.7986909, -0.64885604, 1.0200502, -0.413885...   \n",
       "87627   [-0.8695109, 0.8555988, 0.103301875, -0.973842...   \n",
       "189826  [-0.08527299, -1.1973345, 0.26673844, -0.69951...   \n",
       "255083  [0.53998387, 1.5832734, -0.006798582, -0.77460...   \n",
       "179824  [-2.6578612, 0.11497679, 0.08613574, -0.988827...   \n",
       "\n",
       "                               embedding (SGPT+class-zbm)  \n",
       "14713   [0.28802395, 0.012298746, 0.21507654, 0.580377...  \n",
       "87627   [0.46707067, 1.6612374, 0.46632856, 0.33273768...  \n",
       "189826  [0.65142787, -0.7052756, -0.8345003, 0.7399770...  \n",
       "255083  [0.2028964, 1.8658131, 0.5162393, 0.3256827, -...  \n",
       "179824  [-0.40530223, -0.95392776, -0.42633703, 0.0678...  \n",
       "\n",
       "[5 rows x 26 columns]"
      ]
     },
     "execution_count": 8,
     "metadata": {},
     "output_type": "execute_result"
    }
   ],
   "source": [
    "df.sample(5)"
   ]
  },
  {
   "cell_type": "code",
   "execution_count": 13,
   "id": "32a51dd1-9d1c-4e24-bd9e-14356ea99109",
   "metadata": {},
   "outputs": [],
   "source": [
    "#df.to_pickle(\"arxiv-title-embeddings-single-class-multi.pkl\")\n",
    "df.to_pickle(\"arxiv-full-text-embeddings-single-class-multi.pkl\")"
   ]
  },
  {
   "cell_type": "code",
   "execution_count": null,
   "id": "92e29eb9-fe8b-4f34-87e8-31df874e487f",
   "metadata": {},
   "outputs": [],
   "source": []
  }
 ],
 "metadata": {
  "kernelspec": {
   "display_name": "ML 22/12 (py3.10 cuda11.7 tf2.9)",
   "language": "python",
   "name": "ml_py3.10-cuda11.7-tf2.9"
  },
  "language_info": {
   "codemirror_mode": {
    "name": "ipython",
    "version": 3
   },
   "file_extension": ".py",
   "mimetype": "text/x-python",
   "name": "python",
   "nbconvert_exporter": "python",
   "pygments_lexer": "ipython3",
   "version": "3.10.8"
  }
 },
 "nbformat": 4,
 "nbformat_minor": 5
}
