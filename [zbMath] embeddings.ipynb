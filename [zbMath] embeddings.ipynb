{
 "cells": [
  {
   "cell_type": "code",
   "execution_count": 1,
   "id": "5644c6cf-4abc-4983-89b4-075d47c7226a",
   "metadata": {},
   "outputs": [
    {
     "name": "stderr",
     "output_type": "stream",
     "text": [
      "2023-12-16 20:57:50.179623: I tensorflow/core/util/util.cc:169] oneDNN custom operations are on. You may see slightly different numerical results due to floating-point round-off errors from different computation orders. To turn them off, set the environment variable `TF_ENABLE_ONEDNN_OPTS=0`.\n"
     ]
    }
   ],
   "source": [
    "import simi\n",
    "\n",
    "import pandas as pd\n",
    "import random\n",
    "from sentence_transformers import evaluation, losses, models, InputExample, SentenceTransformer\n",
    "from sklearn.model_selection import train_test_split\n",
    "import sqlalchemy\n",
    "from tqdm.auto import tqdm\n",
    "tqdm.pandas()\n",
    "\n",
    "RANDOM_STATE = 1\n",
    "\n",
    "random.seed(RANDOM_STATE)"
   ]
  },
  {
   "cell_type": "code",
   "execution_count": 2,
   "id": "a1615967-4709-4ea1-aa83-33a740fb8b0d",
   "metadata": {},
   "outputs": [
    {
     "data": {
      "text/html": [
       "<div>\n",
       "<style scoped>\n",
       "    .dataframe tbody tr th:only-of-type {\n",
       "        vertical-align: middle;\n",
       "    }\n",
       "\n",
       "    .dataframe tbody tr th {\n",
       "        vertical-align: top;\n",
       "    }\n",
       "\n",
       "    .dataframe thead th {\n",
       "        text-align: right;\n",
       "    }\n",
       "</style>\n",
       "<table border=\"1\" class=\"dataframe\">\n",
       "  <thead>\n",
       "    <tr style=\"text-align: right;\">\n",
       "      <th></th>\n",
       "      <th>title</th>\n",
       "      <th>MSC</th>\n",
       "      <th>MSC2</th>\n",
       "    </tr>\n",
       "  </thead>\n",
       "  <tbody>\n",
       "    <tr>\n",
       "      <th>704788</th>\n",
       "      <td>On the Grüss inequality for unital 2-positive ...</td>\n",
       "      <td>46L05</td>\n",
       "      <td>('47A63', '47B65')</td>\n",
       "    </tr>\n",
       "    <tr>\n",
       "      <th>333538</th>\n",
       "      <td>Modulated exploratory dynamics can shape self-...</td>\n",
       "      <td>93C40</td>\n",
       "      <td>('37N25', '68T05')</td>\n",
       "    </tr>\n",
       "    <tr>\n",
       "      <th>193915</th>\n",
       "      <td>Numerical simulation of the viscous nonequilib...</td>\n",
       "      <td>76M20</td>\n",
       "      <td>('76V05', '76L05')</td>\n",
       "    </tr>\n",
       "    <tr>\n",
       "      <th>54174</th>\n",
       "      <td>Liftings and mean value theorems for automorph...</td>\n",
       "      <td>11F66</td>\n",
       "      <td>('11M41',)</td>\n",
       "    </tr>\n",
       "    <tr>\n",
       "      <th>283941</th>\n",
       "      <td>Robust stability criteria for uncertain neutra...</td>\n",
       "      <td>93D09</td>\n",
       "      <td>('93C20', '34K20')</td>\n",
       "    </tr>\n",
       "  </tbody>\n",
       "</table>\n",
       "</div>"
      ],
      "text/plain": [
       "                                                    title    MSC  \\\n",
       "704788  On the Grüss inequality for unital 2-positive ...  46L05   \n",
       "333538  Modulated exploratory dynamics can shape self-...  93C40   \n",
       "193915  Numerical simulation of the viscous nonequilib...  76M20   \n",
       "54174   Liftings and mean value theorems for automorph...  11F66   \n",
       "283941  Robust stability criteria for uncertain neutra...  93D09   \n",
       "\n",
       "                      MSC2  \n",
       "704788  ('47A63', '47B65')  \n",
       "333538  ('37N25', '68T05')  \n",
       "193915  ('76V05', '76L05')  \n",
       "54174           ('11M41',)  \n",
       "283941  ('93C20', '34K20')  "
      ]
     },
     "execution_count": 2,
     "metadata": {},
     "output_type": "execute_result"
    }
   ],
   "source": [
    "df = pd.read_csv(\"titles-zbmath-dataset-2000-2019.csv\", index_col=0)\n",
    "df = df.reset_index(drop=True)\n",
    "df.sample(5)"
   ]
  },
  {
   "cell_type": "code",
   "execution_count": 3,
   "id": "14e140b8-c29d-4b73-af4d-4d53700c9313",
   "metadata": {},
   "outputs": [
    {
     "data": {
      "text/plain": [
       "1037993"
      ]
     },
     "execution_count": 3,
     "metadata": {},
     "output_type": "execute_result"
    }
   ],
   "source": [
    "len(df)"
   ]
  },
  {
   "cell_type": "markdown",
   "id": "515f5cbe-c7be-4d54-a30c-df61a5f0aa34",
   "metadata": {},
   "source": [
    "## Model definitions"
   ]
  },
  {
   "cell_type": "code",
   "execution_count": 9,
   "id": "8a65cda6-1f0c-49b3-b8d8-e133cbae9b21",
   "metadata": {},
   "outputs": [
    {
     "name": "stderr",
     "output_type": "stream",
     "text": [
      "Some weights of the model checkpoint at bert-base-uncased were not used when initializing BertModel: ['cls.predictions.decoder.weight', 'cls.predictions.bias', 'cls.predictions.transform.dense.weight', 'cls.predictions.transform.LayerNorm.bias', 'cls.seq_relationship.weight', 'cls.predictions.transform.dense.bias', 'cls.predictions.transform.LayerNorm.weight', 'cls.seq_relationship.bias']\n",
      "- This IS expected if you are initializing BertModel from the checkpoint of a model trained on another task or with another architecture (e.g. initializing a BertForSequenceClassification model from a BertForPreTraining model).\n",
      "- This IS NOT expected if you are initializing BertModel from the checkpoint of a model that you expect to be exactly identical (initializing a BertForSequenceClassification model from a BertForSequenceClassification model).\n",
      "Some weights of the model checkpoint at witiko/mathberta were not used when initializing RobertaModel: ['lm_head.dense.weight', 'lm_head.layer_norm.weight', 'lm_head.bias', 'lm_head.layer_norm.bias', 'lm_head.dense.bias']\n",
      "- This IS expected if you are initializing RobertaModel from the checkpoint of a model trained on another task or with another architecture (e.g. initializing a BertForSequenceClassification model from a BertForPreTraining model).\n",
      "- This IS NOT expected if you are initializing RobertaModel from the checkpoint of a model that you expect to be exactly identical (initializing a BertForSequenceClassification model from a BertForSequenceClassification model).\n",
      "Some weights of RobertaModel were not initialized from the model checkpoint at witiko/mathberta and are newly initialized: ['roberta.pooler.dense.weight', 'roberta.pooler.dense.bias']\n",
      "You should probably TRAIN this model on a down-stream task to be able to use it for predictions and inference.\n",
      "Some weights of the model checkpoint at ./bert+re-train_mlm_abstracts_arxiv were not used when initializing BertModel: ['cls.predictions.decoder.weight', 'cls.predictions.bias', 'cls.predictions.transform.dense.weight', 'cls.predictions.transform.LayerNorm.bias', 'cls.predictions.transform.dense.bias', 'cls.predictions.transform.LayerNorm.weight', 'cls.predictions.decoder.bias']\n",
      "- This IS expected if you are initializing BertModel from the checkpoint of a model trained on another task or with another architecture (e.g. initializing a BertForSequenceClassification model from a BertForPreTraining model).\n",
      "- This IS NOT expected if you are initializing BertModel from the checkpoint of a model that you expect to be exactly identical (initializing a BertForSequenceClassification model from a BertForSequenceClassification model).\n",
      "Some weights of BertModel were not initialized from the model checkpoint at ./bert+re-train_mlm_abstracts_arxiv and are newly initialized: ['bert.pooler.dense.weight', 'bert.pooler.dense.bias']\n",
      "You should probably TRAIN this model on a down-stream task to be able to use it for predictions and inference.\n"
     ]
    }
   ],
   "source": [
    "# Prerequisites for the models\n",
    "bert_base = models.Transformer('bert-base-uncased')\n",
    "bert_mp = SentenceTransformer(modules=[bert_base, models.Pooling(bert_base.get_word_embedding_dimension())], device=\"cuda:1\")\n",
    "\n",
    "mathbert_base = models.Transformer('witiko/mathberta')\n",
    "mathbert_mp = SentenceTransformer(modules=[mathbert_base, models.Pooling(mathbert_base.get_word_embedding_dimension())], device=\"cuda:1\")\n",
    "mathbert_cls = SentenceTransformer(modules=[mathbert_base, models.Pooling(mathbert_base.get_word_embedding_dimension(), pooling_mode=\"cls\")], device=\"cuda:1\")\n",
    "\n",
    "bert_mlm_base = models.Transformer(\"./bert+re-train_mlm_abstracts_arxiv\")\n",
    "bert_mlm_mp = SentenceTransformer(modules=[bert_mlm_base, models.Pooling(bert_mlm_base.get_word_embedding_dimension())], device=\"cuda:1\")\n",
    "\n",
    "sbert = SentenceTransformer('all-mpnet-base-v2', device=\"cuda:1\")\n",
    "# alternative: sbert = SentenceTransformer('all-distilroberta-v1')\n",
    "\n",
    "specter2_base = models.Transformer('allenai/specter2_base')\n",
    "\n",
    "# Definition of models that are evaluated\n",
    "# combine models into dict\n",
    "eval_models = {\n",
    "    \"Bert+MP\": bert_mp,\n",
    "    \"Bert+MP+class-arx\": SentenceTransformer('./bert+mean-pooling+retrain_class_arxiv', device=\"cuda:1\"),\n",
    "    \"Bert+MP+class-zbm\": SentenceTransformer('./bert+mean-pooling+retrain_class_zbmath', device=\"cuda:1\"),\n",
    "    \n",
    "    \"Mathbert+CLS\": mathbert_cls,\n",
    "    \"Mathbert+MP+class-arx\": SentenceTransformer('./mathbert+mean-pooling+retrain_class_arxiv', device=\"cuda:1\"),\n",
    "    \"Mathbert+MP+class-zbm\": SentenceTransformer('./mathbert+mean-pooling+retrain_class_zbmath', device=\"cuda:1\"),\n",
    "    \n",
    "    \"Bert+TSDAE+MP\": SentenceTransformer('./bert+mean-pooling+re-train_tsdae_abstracts_arxiv', device=\"cuda:1\"),\n",
    "    \"Bert+TSDAE+MP+class-arx\": SentenceTransformer('./bert+mean-pooling+re-train_tsdae_abstracts_arxiv+retrain_class_arxiv', device=\"cuda:1\"),\n",
    "    \"Bert+TSDAE+MP+class-zbm\": SentenceTransformer('./bert+mean-pooling+re-train_tsdae_abstracts_arxiv+retrain_class_zbmath', device=\"cuda:1\"),\n",
    "    \n",
    "    \"Bert+MLM+MP\": bert_mlm_mp,\n",
    "    \"Bert+MLM+MP+class-arx\": SentenceTransformer('./bert+re-train_mlm_abstracts_arxiv+mean-pooling+retrain_class_arxiv', device=\"cuda:1\"),\n",
    "    \"Bert+MLM+MP+class-zbm\": SentenceTransformer('./bert+re-train_mlm_abstracts_arxiv+mean-pooling+retrain_class_zbmath', device=\"cuda:1\"),\n",
    "    \"Bert+MLM+MP+class-zbm+anch-arx\": SentenceTransformer('./bert+re-train_mlm_abstracts_arxiv+mean-pooling+retrain_class_zbmath_anchor_arxiv', device=\"cuda:1\"),\n",
    "    \"Bert+MLM+MP+class-arx+anch-arx+class-zbm\": SentenceTransformer('./bert+re-train_mlm_abstracts_arxiv+mean-pooling+retrain_class_arxiv_anchor_arxiv_class_zbmath', device=\"cuda:1\"),\n",
    "    \n",
    "    \"SBert\": sbert,\n",
    "    \"SBert+ret_class-arx\": SentenceTransformer('./sbert+retrain_class_arxiv', device=\"cuda:1\"),\n",
    "    \"SBert+ret_class-zbm\": SentenceTransformer('./sbert+retrain_class_zbmath', device=\"cuda:1\"),\n",
    "    \n",
    "    \"Specter 2+MP\": SentenceTransformer(modules=[specter2_base, models.Pooling(specter2_base.get_word_embedding_dimension())], device=\"cuda:1\"),\n",
    "    \"Specter 2.0+MP+class-arx\": SentenceTransformer('./specter2+mp+retrain_class_arxiv', device=\"cuda:1\"),\n",
    "    \"Specter 2.0+MP+class-zbm\": SentenceTransformer('./specter2+mp+retrain_class_zbmath', device=\"cuda:1\"),\n",
    "    \"Specter 2+MP+class-zbm+anch-arx\": SentenceTransformer('./specter2+mp+retrain_class_zbmath_anchor_arxiv', device=\"cuda:1\"),\n",
    "    \"Specter 2+MP+anch-arx+class-arx+class-zbm\": SentenceTransformer('./specter2+mp+retrain_anchor_arxiv_class_arxiv_class_zbmath', device=\"cuda:1\"),\n",
    "    \n",
    "    \"SGPT\": SentenceTransformer('Muennighoff/SGPT-125M-weightedmean-nli-bitfit', device=\"cuda:1\"),\n",
    "    \"SGPT+class-arx\": SentenceTransformer('./gpt+retrain_class_arxiv', device=\"cuda:1\"),\n",
    "    \"SGPT+class-zbm\": SentenceTransformer('./gpt+retrain_class_zbmath', device=\"cuda:1\"),\n",
    "}"
   ]
  },
  {
   "cell_type": "code",
   "execution_count": 5,
   "id": "ec752875-28f5-4689-9dbf-80ffb9449825",
   "metadata": {
    "tags": []
   },
   "outputs": [
    {
     "data": {
      "application/vnd.jupyter.widget-view+json": {
       "model_id": "85da0153121149288191635a4a66d025",
       "version_major": 2,
       "version_minor": 0
      },
      "text/plain": [
       "Models:   0%|          | 0/24 [00:00<?, ?it/s]"
      ]
     },
     "metadata": {},
     "output_type": "display_data"
    },
    {
     "data": {
      "application/vnd.jupyter.widget-view+json": {
       "model_id": "ab441632eee14991afed4bdfe554ed10",
       "version_major": 2,
       "version_minor": 0
      },
      "text/plain": [
       "Batches:   0%|          | 0/32438 [00:00<?, ?it/s]"
      ]
     },
     "metadata": {},
     "output_type": "display_data"
    },
    {
     "data": {
      "application/vnd.jupyter.widget-view+json": {
       "model_id": "9ed0e721b1744adda965db76db3f6933",
       "version_major": 2,
       "version_minor": 0
      },
      "text/plain": [
       "Batches:   0%|          | 0/32438 [00:00<?, ?it/s]"
      ]
     },
     "metadata": {},
     "output_type": "display_data"
    },
    {
     "data": {
      "application/vnd.jupyter.widget-view+json": {
       "model_id": "310ff37627064849b4763b74bdeecee6",
       "version_major": 2,
       "version_minor": 0
      },
      "text/plain": [
       "Batches:   0%|          | 0/32438 [00:00<?, ?it/s]"
      ]
     },
     "metadata": {},
     "output_type": "display_data"
    },
    {
     "data": {
      "application/vnd.jupyter.widget-view+json": {
       "model_id": "5576743ef1b74537b9d64d078fe2035f",
       "version_major": 2,
       "version_minor": 0
      },
      "text/plain": [
       "Batches:   0%|          | 0/32438 [00:00<?, ?it/s]"
      ]
     },
     "metadata": {},
     "output_type": "display_data"
    },
    {
     "data": {
      "application/vnd.jupyter.widget-view+json": {
       "model_id": "234add6f553f47f8be98d9118aaa771a",
       "version_major": 2,
       "version_minor": 0
      },
      "text/plain": [
       "Batches:   0%|          | 0/32438 [00:00<?, ?it/s]"
      ]
     },
     "metadata": {},
     "output_type": "display_data"
    },
    {
     "data": {
      "application/vnd.jupyter.widget-view+json": {
       "model_id": "a6ddb91d5bfc490a9d4d4f57481d612b",
       "version_major": 2,
       "version_minor": 0
      },
      "text/plain": [
       "Batches:   0%|          | 0/32438 [00:00<?, ?it/s]"
      ]
     },
     "metadata": {},
     "output_type": "display_data"
    },
    {
     "data": {
      "application/vnd.jupyter.widget-view+json": {
       "model_id": "0d85e9033ce44e9ca22b72530834d7df",
       "version_major": 2,
       "version_minor": 0
      },
      "text/plain": [
       "Batches:   0%|          | 0/32438 [00:00<?, ?it/s]"
      ]
     },
     "metadata": {},
     "output_type": "display_data"
    },
    {
     "data": {
      "application/vnd.jupyter.widget-view+json": {
       "model_id": "6742b03879c54597814f81d5afc81457",
       "version_major": 2,
       "version_minor": 0
      },
      "text/plain": [
       "Batches:   0%|          | 0/32438 [00:00<?, ?it/s]"
      ]
     },
     "metadata": {},
     "output_type": "display_data"
    },
    {
     "data": {
      "application/vnd.jupyter.widget-view+json": {
       "model_id": "cf5b0f8a622b4544bcbe907e4d5d286e",
       "version_major": 2,
       "version_minor": 0
      },
      "text/plain": [
       "Batches:   0%|          | 0/32438 [00:00<?, ?it/s]"
      ]
     },
     "metadata": {},
     "output_type": "display_data"
    },
    {
     "data": {
      "application/vnd.jupyter.widget-view+json": {
       "model_id": "8b07fab3882f4d6eb4f5af5dfa930a7b",
       "version_major": 2,
       "version_minor": 0
      },
      "text/plain": [
       "Batches:   0%|          | 0/32438 [00:00<?, ?it/s]"
      ]
     },
     "metadata": {},
     "output_type": "display_data"
    },
    {
     "data": {
      "application/vnd.jupyter.widget-view+json": {
       "model_id": "946c35b2c8704e88b73ad6ce5e715ac8",
       "version_major": 2,
       "version_minor": 0
      },
      "text/plain": [
       "Batches:   0%|          | 0/32438 [00:00<?, ?it/s]"
      ]
     },
     "metadata": {},
     "output_type": "display_data"
    },
    {
     "data": {
      "application/vnd.jupyter.widget-view+json": {
       "model_id": "d7c52d35f7a744c8821c246cdf222f1d",
       "version_major": 2,
       "version_minor": 0
      },
      "text/plain": [
       "Batches:   0%|          | 0/32438 [00:00<?, ?it/s]"
      ]
     },
     "metadata": {},
     "output_type": "display_data"
    },
    {
     "data": {
      "application/vnd.jupyter.widget-view+json": {
       "model_id": "bbbd7b4764574598934574ed16804804",
       "version_major": 2,
       "version_minor": 0
      },
      "text/plain": [
       "Batches:   0%|          | 0/32438 [00:00<?, ?it/s]"
      ]
     },
     "metadata": {},
     "output_type": "display_data"
    },
    {
     "data": {
      "application/vnd.jupyter.widget-view+json": {
       "model_id": "60c7a74aa80140e88ef404ecd7990698",
       "version_major": 2,
       "version_minor": 0
      },
      "text/plain": [
       "Batches:   0%|          | 0/32438 [00:00<?, ?it/s]"
      ]
     },
     "metadata": {},
     "output_type": "display_data"
    },
    {
     "data": {
      "application/vnd.jupyter.widget-view+json": {
       "model_id": "3a5d13cfcc7544959efb7f30cf0faf9e",
       "version_major": 2,
       "version_minor": 0
      },
      "text/plain": [
       "Batches:   0%|          | 0/32438 [00:00<?, ?it/s]"
      ]
     },
     "metadata": {},
     "output_type": "display_data"
    },
    {
     "data": {
      "application/vnd.jupyter.widget-view+json": {
       "model_id": "4970eeb90db74388bf97a11508a46867",
       "version_major": 2,
       "version_minor": 0
      },
      "text/plain": [
       "Batches:   0%|          | 0/32438 [00:00<?, ?it/s]"
      ]
     },
     "metadata": {},
     "output_type": "display_data"
    },
    {
     "data": {
      "application/vnd.jupyter.widget-view+json": {
       "model_id": "60caf19b10604d40b2c496fc36713b1b",
       "version_major": 2,
       "version_minor": 0
      },
      "text/plain": [
       "Batches:   0%|          | 0/32438 [00:00<?, ?it/s]"
      ]
     },
     "metadata": {},
     "output_type": "display_data"
    },
    {
     "data": {
      "application/vnd.jupyter.widget-view+json": {
       "model_id": "fba553d64f264e28bd38a98e7e275335",
       "version_major": 2,
       "version_minor": 0
      },
      "text/plain": [
       "Batches:   0%|          | 0/32438 [00:00<?, ?it/s]"
      ]
     },
     "metadata": {},
     "output_type": "display_data"
    },
    {
     "data": {
      "application/vnd.jupyter.widget-view+json": {
       "model_id": "47a3fb8ef493447dbdcb1a8d6afbd004",
       "version_major": 2,
       "version_minor": 0
      },
      "text/plain": [
       "Batches:   0%|          | 0/32438 [00:00<?, ?it/s]"
      ]
     },
     "metadata": {},
     "output_type": "display_data"
    },
    {
     "data": {
      "application/vnd.jupyter.widget-view+json": {
       "model_id": "b26e08d34ab746b48867e6bfe4aa98b5",
       "version_major": 2,
       "version_minor": 0
      },
      "text/plain": [
       "Batches:   0%|          | 0/32438 [00:00<?, ?it/s]"
      ]
     },
     "metadata": {},
     "output_type": "display_data"
    },
    {
     "data": {
      "application/vnd.jupyter.widget-view+json": {
       "model_id": "d24726b65079489998f8088fd43f2586",
       "version_major": 2,
       "version_minor": 0
      },
      "text/plain": [
       "Batches:   0%|          | 0/32438 [00:00<?, ?it/s]"
      ]
     },
     "metadata": {},
     "output_type": "display_data"
    },
    {
     "data": {
      "application/vnd.jupyter.widget-view+json": {
       "model_id": "56cf5bbf0d004dfca7321673d8cba2db",
       "version_major": 2,
       "version_minor": 0
      },
      "text/plain": [
       "Batches:   0%|          | 0/32438 [00:00<?, ?it/s]"
      ]
     },
     "metadata": {},
     "output_type": "display_data"
    },
    {
     "data": {
      "application/vnd.jupyter.widget-view+json": {
       "model_id": "0057e428b53141b58f8647145bb19d39",
       "version_major": 2,
       "version_minor": 0
      },
      "text/plain": [
       "Batches:   0%|          | 0/32438 [00:00<?, ?it/s]"
      ]
     },
     "metadata": {},
     "output_type": "display_data"
    },
    {
     "data": {
      "application/vnd.jupyter.widget-view+json": {
       "model_id": "e3bdcd9306f24be08182b90cb83db2f6",
       "version_major": 2,
       "version_minor": 0
      },
      "text/plain": [
       "Batches:   0%|          | 0/32438 [00:00<?, ?it/s]"
      ]
     },
     "metadata": {},
     "output_type": "display_data"
    },
    {
     "name": "stdout",
     "output_type": "stream",
     "text": [
      "CPU times: user 1d 12h 21min 59s, sys: 2h 11min 49s, total: 1d 14h 33min 49s\n",
      "Wall time: 6h 15min 25s\n"
     ]
    }
   ],
   "source": [
    "%%time\n",
    "\n",
    "with tqdm(total=len(eval_models), desc=\"Models\") as pb:\n",
    "    for n,m in eval_models.items():\n",
    "        df[\"embedding ({})\".format(n)] = pd.Series(list(simi.model_embeddings(m, df[\"title\"], show_progress_bar=True)))\n",
    "        pb.update()"
   ]
  },
  {
   "cell_type": "code",
   "execution_count": 6,
   "id": "00d2c369-b994-4b29-abeb-f2e3716e8185",
   "metadata": {},
   "outputs": [
    {
     "data": {
      "text/html": [
       "<div>\n",
       "<style scoped>\n",
       "    .dataframe tbody tr th:only-of-type {\n",
       "        vertical-align: middle;\n",
       "    }\n",
       "\n",
       "    .dataframe tbody tr th {\n",
       "        vertical-align: top;\n",
       "    }\n",
       "\n",
       "    .dataframe thead th {\n",
       "        text-align: right;\n",
       "    }\n",
       "</style>\n",
       "<table border=\"1\" class=\"dataframe\">\n",
       "  <thead>\n",
       "    <tr style=\"text-align: right;\">\n",
       "      <th></th>\n",
       "      <th>title</th>\n",
       "      <th>MSC</th>\n",
       "      <th>MSC2</th>\n",
       "      <th>embedding (Bert+MP)</th>\n",
       "      <th>embedding (Bert+MP+class-arx)</th>\n",
       "      <th>embedding (Bert+MP+class-zbm)</th>\n",
       "      <th>embedding (Mathbert+CLS)</th>\n",
       "      <th>embedding (Mathbert+MP+class-arx)</th>\n",
       "      <th>embedding (Mathbert+MP+class-zbm)</th>\n",
       "      <th>embedding (Bert+TSDAE+MP)</th>\n",
       "      <th>...</th>\n",
       "      <th>embedding (SBert)</th>\n",
       "      <th>embedding (SBert+ret_class-arx)</th>\n",
       "      <th>embedding (SBert+ret_class-zbm)</th>\n",
       "      <th>embedding (Specter 2+MP)</th>\n",
       "      <th>embedding (Specter 2.0+MP+class-arx)</th>\n",
       "      <th>embedding (Specter 2.0+MP+class-zbm)</th>\n",
       "      <th>embedding (Specter 2+MP+class-zbm+anch-arx)</th>\n",
       "      <th>embedding (Specter 2+MP+anch-arx+class-arx+class-zbm)</th>\n",
       "      <th>embedding (SGPT)</th>\n",
       "      <th>embedding (SGPT+class-zbm)</th>\n",
       "    </tr>\n",
       "  </thead>\n",
       "  <tbody>\n",
       "    <tr>\n",
       "      <th>957273</th>\n",
       "      <td>Quantum polarization characterization and tomo...</td>\n",
       "      <td>81P18</td>\n",
       "      <td>('81V80',)</td>\n",
       "      <td>[-0.063432164, -0.23202914, -0.34278366, -0.02...</td>\n",
       "      <td>[-0.4152547, -0.51304394, 0.9487813, 0.3881619...</td>\n",
       "      <td>[-0.08613621, 0.00960132, -0.3179743, -0.19455...</td>\n",
       "      <td>[-0.018293507, 0.030732457, -0.019949751, -0.0...</td>\n",
       "      <td>[0.27872553, 0.47079825, -0.006680915, -0.1797...</td>\n",
       "      <td>[0.7827023, 1.0948861, -0.3761158, -0.29462618...</td>\n",
       "      <td>[0.16412546, 0.30016264, -0.4956088, -0.117247...</td>\n",
       "      <td>...</td>\n",
       "      <td>[-0.038737766, 0.058935776, -0.037607074, -0.0...</td>\n",
       "      <td>[0.041402385, -0.0059386375, -0.0036383953, 0....</td>\n",
       "      <td>[-0.0017820672, 0.0047394894, 0.06710125, -0.0...</td>\n",
       "      <td>[0.7955619, 0.5021455, 0.3540604, 0.24400601, ...</td>\n",
       "      <td>[0.10685164, 0.51360416, 1.9823642, 0.43255758...</td>\n",
       "      <td>[1.8304728, 1.4720514, -0.16571407, 1.3255017,...</td>\n",
       "      <td>[1.1301416, 0.8735996, -0.3935191, 1.2676924, ...</td>\n",
       "      <td>[1.7516968, 1.5288013, 0.030454254, 0.6168692,...</td>\n",
       "      <td>[0.14845072, -1.4453992, -0.45418882, -1.03501...</td>\n",
       "      <td>[0.61106586, -0.79988855, -0.073546216, -0.002...</td>\n",
       "    </tr>\n",
       "    <tr>\n",
       "      <th>164267</th>\n",
       "      <td>Bounded hyperbolic components of quadratic rat...</td>\n",
       "      <td>37F45</td>\n",
       "      <td>('37F10', '37C25')</td>\n",
       "      <td>[-0.14796267, -0.53204465, -0.14608075, -0.256...</td>\n",
       "      <td>[-0.793318, -0.29023993, 1.7244405, 0.48608264...</td>\n",
       "      <td>[0.103297345, 1.375718, -0.3898696, -0.3682838...</td>\n",
       "      <td>[-0.027765492, 0.024854114, -0.009458648, -0.0...</td>\n",
       "      <td>[0.21786176, 0.11572891, 0.121252276, 0.030319...</td>\n",
       "      <td>[0.5492998, -0.016390346, -0.6217372, 0.266680...</td>\n",
       "      <td>[-0.30539706, -0.29071075, 0.03325594, 0.13029...</td>\n",
       "      <td>...</td>\n",
       "      <td>[-0.08279195, 0.019909127, 0.009512547, -0.047...</td>\n",
       "      <td>[0.01633139, -0.013048032, 0.0016313468, 0.048...</td>\n",
       "      <td>[0.013032851, -0.018160518, -0.005918124, -0.0...</td>\n",
       "      <td>[0.020724215, 1.4792604, -0.29052952, 0.392878...</td>\n",
       "      <td>[-1.5636588, 1.0203491, -0.71646416, 0.9646309...</td>\n",
       "      <td>[-1.1285477, 1.857897, -0.9151073, 1.5079598, ...</td>\n",
       "      <td>[0.38202873, 1.224297, -0.7986539, 1.6800655, ...</td>\n",
       "      <td>[0.80824673, 2.355677, -0.6491099, 2.2779999, ...</td>\n",
       "      <td>[-0.57877046, -0.7882738, 0.36466536, -0.93821...</td>\n",
       "      <td>[0.112344325, -0.62387514, 0.59256107, -0.0223...</td>\n",
       "    </tr>\n",
       "    <tr>\n",
       "      <th>951711</th>\n",
       "      <td>Rushing into the American dream? House prices ...</td>\n",
       "      <td>91B25</td>\n",
       "      <td>('62P20',)</td>\n",
       "      <td>[0.06689129, -0.011257838, 0.16491859, 0.07954...</td>\n",
       "      <td>[-0.25303072, 0.29620928, -0.119773366, -0.253...</td>\n",
       "      <td>[-0.050613496, 0.17086436, 0.12243285, 0.35160...</td>\n",
       "      <td>[-0.023410691, 0.009712576, -0.024745816, -0.0...</td>\n",
       "      <td>[0.39348617, -0.56463546, 0.08516597, 1.210385...</td>\n",
       "      <td>[-0.80175453, 0.14457472, 0.0436727, 0.4019577...</td>\n",
       "      <td>[0.17429371, -0.19718169, -0.068741985, -0.066...</td>\n",
       "      <td>...</td>\n",
       "      <td>[-0.07140249, 0.07277227, -0.011042521, -0.055...</td>\n",
       "      <td>[0.01741535, -0.08810293, 0.055815548, 0.03411...</td>\n",
       "      <td>[0.013911463, 0.012276799, -0.0018635014, 0.03...</td>\n",
       "      <td>[-0.1757004, 0.28939566, 0.05120557, -0.096809...</td>\n",
       "      <td>[0.70469916, -0.9402779, -0.53231543, -0.19127...</td>\n",
       "      <td>[-0.9788738, -1.5956415, -0.93073213, 0.937217...</td>\n",
       "      <td>[-1.0030318, -1.4083282, 0.07066967, -0.083234...</td>\n",
       "      <td>[-1.6226932, -0.5294861, -0.99726117, 0.244339...</td>\n",
       "      <td>[1.4541242, -1.2586735, 0.52305883, -1.4765854...</td>\n",
       "      <td>[0.44467658, -0.6038761, -0.34741497, -0.17426...</td>\n",
       "    </tr>\n",
       "    <tr>\n",
       "      <th>878943</th>\n",
       "      <td>Prediction of RNA-protein interactions by comb...</td>\n",
       "      <td>92C40</td>\n",
       "      <td>('62P10', '68T05')</td>\n",
       "      <td>[-0.2535846, -0.0038842533, -0.042445537, -0.1...</td>\n",
       "      <td>[-0.0653365, 0.14150672, -0.37443593, -0.22999...</td>\n",
       "      <td>[-0.13712293, -0.3714516, 0.5721169, -0.312481...</td>\n",
       "      <td>[0.0056417612, 0.011302962, -0.016942276, 0.00...</td>\n",
       "      <td>[0.5455376, -0.5641251, -0.6781758, 0.8701684,...</td>\n",
       "      <td>[0.6714612, -0.008678148, 0.31519553, 0.489537...</td>\n",
       "      <td>[0.14119385, 0.16409616, -0.34254953, -0.13352...</td>\n",
       "      <td>...</td>\n",
       "      <td>[0.006874907, 0.05061671, 0.008243228, 0.02956...</td>\n",
       "      <td>[0.0008126384, -0.07839495, -0.036007833, 0.01...</td>\n",
       "      <td>[0.007974392, -0.056348976, 0.0010901447, 0.00...</td>\n",
       "      <td>[0.27691087, 0.20159784, 0.46666667, 0.0040864...</td>\n",
       "      <td>[0.5882764, -0.57319015, 0.2556239, -0.1156153...</td>\n",
       "      <td>[0.8337276, 0.76826704, -0.6331696, 0.07680680...</td>\n",
       "      <td>[1.3773249, 1.2913536, -0.56751895, 1.0790995,...</td>\n",
       "      <td>[1.1509567, 0.5862368, 0.20008343, 0.5047765, ...</td>\n",
       "      <td>[0.5079371, -0.29196393, 1.4672449, -1.7914301...</td>\n",
       "      <td>[0.8955961, -1.2344561, 0.24118966, 0.4870594,...</td>\n",
       "    </tr>\n",
       "    <tr>\n",
       "      <th>562187</th>\n",
       "      <td>Spherically symmetric inflation</td>\n",
       "      <td>83F05</td>\n",
       "      <td>('83C15', '83C05')</td>\n",
       "      <td>[-0.1413009, -0.085025825, 0.120352775, -0.104...</td>\n",
       "      <td>[-0.56511503, 0.062857084, 1.1818341, 0.188911...</td>\n",
       "      <td>[0.03375798, 0.40502822, -0.15965164, 0.498430...</td>\n",
       "      <td>[-0.0345734, 0.013859525, -0.0035557444, 0.001...</td>\n",
       "      <td>[0.4196525, 0.7829451, 0.1395383, 0.66512984, ...</td>\n",
       "      <td>[-1.0526856, -0.098272085, 0.156767, 1.1378037...</td>\n",
       "      <td>[-0.0991321, 0.2848365, -0.15209004, -0.015777...</td>\n",
       "      <td>...</td>\n",
       "      <td>[0.00091834355, -0.035839442, 0.007231686, -0....</td>\n",
       "      <td>[0.045204114, -0.0502862, 0.007350561, 0.08112...</td>\n",
       "      <td>[0.0068418975, -0.06641615, -0.04271351, 0.005...</td>\n",
       "      <td>[-0.054985374, 0.87324524, 0.820823, -0.007153...</td>\n",
       "      <td>[-1.9894906, 2.0581782, -0.9888094, -0.0089059...</td>\n",
       "      <td>[-0.6989663, -1.2046441, -0.6671269, 0.5242559...</td>\n",
       "      <td>[-1.6867175, -0.95734733, 0.16807926, 0.397490...</td>\n",
       "      <td>[-2.2935095, -0.48272637, 0.20029896, 0.412387...</td>\n",
       "      <td>[0.21448907, 0.29152203, -0.5660283, 0.5424022...</td>\n",
       "      <td>[-0.79926556, -0.3510254, -0.14339758, 0.14261...</td>\n",
       "    </tr>\n",
       "  </tbody>\n",
       "</table>\n",
       "<p>5 rows × 27 columns</p>\n",
       "</div>"
      ],
      "text/plain": [
       "                                                    title    MSC  \\\n",
       "957273  Quantum polarization characterization and tomo...  81P18   \n",
       "164267  Bounded hyperbolic components of quadratic rat...  37F45   \n",
       "951711  Rushing into the American dream? House prices ...  91B25   \n",
       "878943  Prediction of RNA-protein interactions by comb...  92C40   \n",
       "562187                    Spherically symmetric inflation  83F05   \n",
       "\n",
       "                      MSC2                                embedding (Bert+MP)  \\\n",
       "957273          ('81V80',)  [-0.063432164, -0.23202914, -0.34278366, -0.02...   \n",
       "164267  ('37F10', '37C25')  [-0.14796267, -0.53204465, -0.14608075, -0.256...   \n",
       "951711          ('62P20',)  [0.06689129, -0.011257838, 0.16491859, 0.07954...   \n",
       "878943  ('62P10', '68T05')  [-0.2535846, -0.0038842533, -0.042445537, -0.1...   \n",
       "562187  ('83C15', '83C05')  [-0.1413009, -0.085025825, 0.120352775, -0.104...   \n",
       "\n",
       "                            embedding (Bert+MP+class-arx)  \\\n",
       "957273  [-0.4152547, -0.51304394, 0.9487813, 0.3881619...   \n",
       "164267  [-0.793318, -0.29023993, 1.7244405, 0.48608264...   \n",
       "951711  [-0.25303072, 0.29620928, -0.119773366, -0.253...   \n",
       "878943  [-0.0653365, 0.14150672, -0.37443593, -0.22999...   \n",
       "562187  [-0.56511503, 0.062857084, 1.1818341, 0.188911...   \n",
       "\n",
       "                            embedding (Bert+MP+class-zbm)  \\\n",
       "957273  [-0.08613621, 0.00960132, -0.3179743, -0.19455...   \n",
       "164267  [0.103297345, 1.375718, -0.3898696, -0.3682838...   \n",
       "951711  [-0.050613496, 0.17086436, 0.12243285, 0.35160...   \n",
       "878943  [-0.13712293, -0.3714516, 0.5721169, -0.312481...   \n",
       "562187  [0.03375798, 0.40502822, -0.15965164, 0.498430...   \n",
       "\n",
       "                                 embedding (Mathbert+CLS)  \\\n",
       "957273  [-0.018293507, 0.030732457, -0.019949751, -0.0...   \n",
       "164267  [-0.027765492, 0.024854114, -0.009458648, -0.0...   \n",
       "951711  [-0.023410691, 0.009712576, -0.024745816, -0.0...   \n",
       "878943  [0.0056417612, 0.011302962, -0.016942276, 0.00...   \n",
       "562187  [-0.0345734, 0.013859525, -0.0035557444, 0.001...   \n",
       "\n",
       "                        embedding (Mathbert+MP+class-arx)  \\\n",
       "957273  [0.27872553, 0.47079825, -0.006680915, -0.1797...   \n",
       "164267  [0.21786176, 0.11572891, 0.121252276, 0.030319...   \n",
       "951711  [0.39348617, -0.56463546, 0.08516597, 1.210385...   \n",
       "878943  [0.5455376, -0.5641251, -0.6781758, 0.8701684,...   \n",
       "562187  [0.4196525, 0.7829451, 0.1395383, 0.66512984, ...   \n",
       "\n",
       "                        embedding (Mathbert+MP+class-zbm)  \\\n",
       "957273  [0.7827023, 1.0948861, -0.3761158, -0.29462618...   \n",
       "164267  [0.5492998, -0.016390346, -0.6217372, 0.266680...   \n",
       "951711  [-0.80175453, 0.14457472, 0.0436727, 0.4019577...   \n",
       "878943  [0.6714612, -0.008678148, 0.31519553, 0.489537...   \n",
       "562187  [-1.0526856, -0.098272085, 0.156767, 1.1378037...   \n",
       "\n",
       "                                embedding (Bert+TSDAE+MP)  ...  \\\n",
       "957273  [0.16412546, 0.30016264, -0.4956088, -0.117247...  ...   \n",
       "164267  [-0.30539706, -0.29071075, 0.03325594, 0.13029...  ...   \n",
       "951711  [0.17429371, -0.19718169, -0.068741985, -0.066...  ...   \n",
       "878943  [0.14119385, 0.16409616, -0.34254953, -0.13352...  ...   \n",
       "562187  [-0.0991321, 0.2848365, -0.15209004, -0.015777...  ...   \n",
       "\n",
       "                                        embedding (SBert)  \\\n",
       "957273  [-0.038737766, 0.058935776, -0.037607074, -0.0...   \n",
       "164267  [-0.08279195, 0.019909127, 0.009512547, -0.047...   \n",
       "951711  [-0.07140249, 0.07277227, -0.011042521, -0.055...   \n",
       "878943  [0.006874907, 0.05061671, 0.008243228, 0.02956...   \n",
       "562187  [0.00091834355, -0.035839442, 0.007231686, -0....   \n",
       "\n",
       "                          embedding (SBert+ret_class-arx)  \\\n",
       "957273  [0.041402385, -0.0059386375, -0.0036383953, 0....   \n",
       "164267  [0.01633139, -0.013048032, 0.0016313468, 0.048...   \n",
       "951711  [0.01741535, -0.08810293, 0.055815548, 0.03411...   \n",
       "878943  [0.0008126384, -0.07839495, -0.036007833, 0.01...   \n",
       "562187  [0.045204114, -0.0502862, 0.007350561, 0.08112...   \n",
       "\n",
       "                          embedding (SBert+ret_class-zbm)  \\\n",
       "957273  [-0.0017820672, 0.0047394894, 0.06710125, -0.0...   \n",
       "164267  [0.013032851, -0.018160518, -0.005918124, -0.0...   \n",
       "951711  [0.013911463, 0.012276799, -0.0018635014, 0.03...   \n",
       "878943  [0.007974392, -0.056348976, 0.0010901447, 0.00...   \n",
       "562187  [0.0068418975, -0.06641615, -0.04271351, 0.005...   \n",
       "\n",
       "                                 embedding (Specter 2+MP)  \\\n",
       "957273  [0.7955619, 0.5021455, 0.3540604, 0.24400601, ...   \n",
       "164267  [0.020724215, 1.4792604, -0.29052952, 0.392878...   \n",
       "951711  [-0.1757004, 0.28939566, 0.05120557, -0.096809...   \n",
       "878943  [0.27691087, 0.20159784, 0.46666667, 0.0040864...   \n",
       "562187  [-0.054985374, 0.87324524, 0.820823, -0.007153...   \n",
       "\n",
       "                     embedding (Specter 2.0+MP+class-arx)  \\\n",
       "957273  [0.10685164, 0.51360416, 1.9823642, 0.43255758...   \n",
       "164267  [-1.5636588, 1.0203491, -0.71646416, 0.9646309...   \n",
       "951711  [0.70469916, -0.9402779, -0.53231543, -0.19127...   \n",
       "878943  [0.5882764, -0.57319015, 0.2556239, -0.1156153...   \n",
       "562187  [-1.9894906, 2.0581782, -0.9888094, -0.0089059...   \n",
       "\n",
       "                     embedding (Specter 2.0+MP+class-zbm)  \\\n",
       "957273  [1.8304728, 1.4720514, -0.16571407, 1.3255017,...   \n",
       "164267  [-1.1285477, 1.857897, -0.9151073, 1.5079598, ...   \n",
       "951711  [-0.9788738, -1.5956415, -0.93073213, 0.937217...   \n",
       "878943  [0.8337276, 0.76826704, -0.6331696, 0.07680680...   \n",
       "562187  [-0.6989663, -1.2046441, -0.6671269, 0.5242559...   \n",
       "\n",
       "              embedding (Specter 2+MP+class-zbm+anch-arx)  \\\n",
       "957273  [1.1301416, 0.8735996, -0.3935191, 1.2676924, ...   \n",
       "164267  [0.38202873, 1.224297, -0.7986539, 1.6800655, ...   \n",
       "951711  [-1.0030318, -1.4083282, 0.07066967, -0.083234...   \n",
       "878943  [1.3773249, 1.2913536, -0.56751895, 1.0790995,...   \n",
       "562187  [-1.6867175, -0.95734733, 0.16807926, 0.397490...   \n",
       "\n",
       "       embedding (Specter 2+MP+anch-arx+class-arx+class-zbm)  \\\n",
       "957273  [1.7516968, 1.5288013, 0.030454254, 0.6168692,...      \n",
       "164267  [0.80824673, 2.355677, -0.6491099, 2.2779999, ...      \n",
       "951711  [-1.6226932, -0.5294861, -0.99726117, 0.244339...      \n",
       "878943  [1.1509567, 0.5862368, 0.20008343, 0.5047765, ...      \n",
       "562187  [-2.2935095, -0.48272637, 0.20029896, 0.412387...      \n",
       "\n",
       "                                         embedding (SGPT)  \\\n",
       "957273  [0.14845072, -1.4453992, -0.45418882, -1.03501...   \n",
       "164267  [-0.57877046, -0.7882738, 0.36466536, -0.93821...   \n",
       "951711  [1.4541242, -1.2586735, 0.52305883, -1.4765854...   \n",
       "878943  [0.5079371, -0.29196393, 1.4672449, -1.7914301...   \n",
       "562187  [0.21448907, 0.29152203, -0.5660283, 0.5424022...   \n",
       "\n",
       "                               embedding (SGPT+class-zbm)  \n",
       "957273  [0.61106586, -0.79988855, -0.073546216, -0.002...  \n",
       "164267  [0.112344325, -0.62387514, 0.59256107, -0.0223...  \n",
       "951711  [0.44467658, -0.6038761, -0.34741497, -0.17426...  \n",
       "878943  [0.8955961, -1.2344561, 0.24118966, 0.4870594,...  \n",
       "562187  [-0.79926556, -0.3510254, -0.14339758, 0.14261...  \n",
       "\n",
       "[5 rows x 27 columns]"
      ]
     },
     "execution_count": 6,
     "metadata": {},
     "output_type": "execute_result"
    }
   ],
   "source": [
    "df.sample(5)"
   ]
  },
  {
   "cell_type": "code",
   "execution_count": 11,
   "id": "32a51dd1-9d1c-4e24-bd9e-14356ea99109",
   "metadata": {},
   "outputs": [],
   "source": [
    "df.to_pickle(\"zbmath-embeddings-2000-2019-multi.pkl\")"
   ]
  },
  {
   "cell_type": "code",
   "execution_count": null,
   "id": "15417757-1efe-4950-80b3-f94cd3cba86b",
   "metadata": {},
   "outputs": [],
   "source": []
  }
 ],
 "metadata": {
  "kernelspec": {
   "display_name": "ML 22/12 (py3.10 cuda11.7 tf2.9)",
   "language": "python",
   "name": "ml_py3.10-cuda11.7-tf2.9"
  },
  "language_info": {
   "codemirror_mode": {
    "name": "ipython",
    "version": 3
   },
   "file_extension": ".py",
   "mimetype": "text/x-python",
   "name": "python",
   "nbconvert_exporter": "python",
   "pygments_lexer": "ipython3",
   "version": "3.10.8"
  }
 },
 "nbformat": 4,
 "nbformat_minor": 5
}
