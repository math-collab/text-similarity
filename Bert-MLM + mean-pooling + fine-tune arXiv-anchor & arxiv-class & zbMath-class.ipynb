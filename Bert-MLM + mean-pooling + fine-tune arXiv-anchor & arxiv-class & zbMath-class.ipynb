{
 "cells": [
  {
   "cell_type": "code",
   "execution_count": 1,
   "id": "6c8295b0-a5d1-4ab1-8c3e-2dc6d1377558",
   "metadata": {},
   "outputs": [
    {
     "name": "stderr",
     "output_type": "stream",
     "text": [
      "2023-12-11 19:21:51.830421: I tensorflow/core/util/util.cc:169] oneDNN custom operations are on. You may see slightly different numerical results due to floating-point round-off errors from different computation orders. To turn them off, set the environment variable `TF_ENABLE_ONEDNN_OPTS=0`.\n",
      "Some weights of the model checkpoint at ./bert+re-train_mlm_abstracts_arxiv were not used when initializing BertModel: ['cls.predictions.bias', 'cls.predictions.transform.dense.weight', 'cls.predictions.decoder.bias', 'cls.predictions.transform.LayerNorm.weight', 'cls.predictions.decoder.weight', 'cls.predictions.transform.LayerNorm.bias', 'cls.predictions.transform.dense.bias']\n",
      "- This IS expected if you are initializing BertModel from the checkpoint of a model trained on another task or with another architecture (e.g. initializing a BertForSequenceClassification model from a BertForPreTraining model).\n",
      "- This IS NOT expected if you are initializing BertModel from the checkpoint of a model that you expect to be exactly identical (initializing a BertForSequenceClassification model from a BertForSequenceClassification model).\n",
      "Some weights of BertModel were not initialized from the model checkpoint at ./bert+re-train_mlm_abstracts_arxiv and are newly initialized: ['bert.pooler.dense.bias', 'bert.pooler.dense.weight']\n",
      "You should probably TRAIN this model on a down-stream task to be able to use it for predictions and inference.\n"
     ]
    }
   ],
   "source": [
    "import simi\n",
    "\n",
    "import pandas as pd\n",
    "from transformers import set_seed, enable_full_determinism\n",
    "from sentence_transformers import evaluation, losses, models, InputExample, SentenceTransformer\n",
    "from sklearn.model_selection import train_test_split\n",
    "from torch.utils.data import DataLoader\n",
    "\n",
    "EMBEDDING = models.Transformer('math-similarity/Bert-MLM_arXiv') # use model hosted on huggingface\n",
    "# EMBEDDING = models.Transformer('./bert+re-train_mlm_abstracts_arxiv') # use locally generated model\n",
    "POOLING = models.Pooling(EMBEDDING.get_word_embedding_dimension()) # MEAN pooling\n",
    "# POOLING = models.Pooling(EMBEDDING.get_word_embedding_dimension(), pooling_mode=\"cls\") # CLS pooling\n",
    "\n",
    "MODEL = SentenceTransformer(modules=[EMBEDDING, POOLING])\n",
    "\n",
    "RANDOM_STATE = 1\n",
    "\n",
    "#set_seed(RANDOM_STATE)\n",
    "#enable_full_determinism(RANDOM_STATE)"
   ]
  },
  {
   "cell_type": "code",
   "execution_count": 2,
   "id": "d1fb23dc-5e83-467f-bfb9-bf9611400db9",
   "metadata": {},
   "outputs": [
    {
     "data": {
      "text/html": [
       "<div>\n",
       "<style scoped>\n",
       "    .dataframe tbody tr th:only-of-type {\n",
       "        vertical-align: middle;\n",
       "    }\n",
       "\n",
       "    .dataframe tbody tr th {\n",
       "        vertical-align: top;\n",
       "    }\n",
       "\n",
       "    .dataframe thead th {\n",
       "        text-align: right;\n",
       "    }\n",
       "</style>\n",
       "<table border=\"1\" class=\"dataframe\">\n",
       "  <thead>\n",
       "    <tr style=\"text-align: right;\">\n",
       "      <th></th>\n",
       "      <th>title</th>\n",
       "      <th>abstract</th>\n",
       "      <th>categories</th>\n",
       "      <th>doi</th>\n",
       "      <th>a</th>\n",
       "      <th>p</th>\n",
       "      <th>n</th>\n",
       "    </tr>\n",
       "  </thead>\n",
       "  <tbody>\n",
       "    <tr>\n",
       "      <th>11395</th>\n",
       "      <td>Isometries of lattices and automorphisms of K3...</td>\n",
       "      <td>The aim of this paper is to give necessary a...</td>\n",
       "      <td>('math.NT', 'math.AG', 'math.DS')</td>\n",
       "      <td>NaN</td>\n",
       "      <td>The aim of this paper is to give necessary an...</td>\n",
       "      <td>This result has applications applications to a...</td>\n",
       "      <td>We show that divergence-free jacobian maps, r...</td>\n",
       "    </tr>\n",
       "    <tr>\n",
       "      <th>37861</th>\n",
       "      <td>Green correspondence on centric Mackey functor...</td>\n",
       "      <td>In this paper we give a definition of centri...</td>\n",
       "      <td>('math.RT', 'math.GR')</td>\n",
       "      <td>NaN</td>\n",
       "      <td>In this paper we give a definition of centric...</td>\n",
       "      <td>As a means to prove the Green correspondence g...</td>\n",
       "      <td>Because of this, it is very important to study...</td>\n",
       "    </tr>\n",
       "    <tr>\n",
       "      <th>16431</th>\n",
       "      <td>On the supercritical defocusing NLW outside a ...</td>\n",
       "      <td>We study a defocusing semilinear wave equati...</td>\n",
       "      <td>('math.AP', 'math-ph', 'math.MP')</td>\n",
       "      <td>NaN</td>\n",
       "      <td>We study a defocusing semilinear wave equatio...</td>\n",
       "      <td>We prove that if $p&gt;n+4$ and the initial data ...</td>\n",
       "      <td>These equations are relevant for modelling col...</td>\n",
       "    </tr>\n",
       "    <tr>\n",
       "      <th>26952</th>\n",
       "      <td>Densities of currents and complex dynamics</td>\n",
       "      <td>We extend the Dinh-Sibony notion of densitie...</td>\n",
       "      <td>('math.CV', 'math.DS')</td>\n",
       "      <td>NaN</td>\n",
       "      <td>We extend the Dinh-Sibony notion of densities...</td>\n",
       "      <td>As an application, we introduce the notion of ...</td>\n",
       "      <td>We show that if the group of holomorphic auto...</td>\n",
       "    </tr>\n",
       "    <tr>\n",
       "      <th>91950</th>\n",
       "      <td>Remark on the finite-dimensional character of ...</td>\n",
       "      <td>This note shows that some assumption on smal...</td>\n",
       "      <td>('math.ST', 'stat.TH')</td>\n",
       "      <td>NaN</td>\n",
       "      <td>This note shows that some assumption on small...</td>\n",
       "      <td>To complete this result an example of L2 proce...</td>\n",
       "      <td>More precisely, we address the problem of char...</td>\n",
       "    </tr>\n",
       "  </tbody>\n",
       "</table>\n",
       "</div>"
      ],
      "text/plain": [
       "                                                   title  \\\n",
       "11395  Isometries of lattices and automorphisms of K3...   \n",
       "37861  Green correspondence on centric Mackey functor...   \n",
       "16431  On the supercritical defocusing NLW outside a ...   \n",
       "26952         Densities of currents and complex dynamics   \n",
       "91950  Remark on the finite-dimensional character of ...   \n",
       "\n",
       "                                                abstract  \\\n",
       "11395    The aim of this paper is to give necessary a...   \n",
       "37861    In this paper we give a definition of centri...   \n",
       "16431    We study a defocusing semilinear wave equati...   \n",
       "26952    We extend the Dinh-Sibony notion of densitie...   \n",
       "91950    This note shows that some assumption on smal...   \n",
       "\n",
       "                              categories  doi  \\\n",
       "11395  ('math.NT', 'math.AG', 'math.DS')  NaN   \n",
       "37861             ('math.RT', 'math.GR')  NaN   \n",
       "16431  ('math.AP', 'math-ph', 'math.MP')  NaN   \n",
       "26952             ('math.CV', 'math.DS')  NaN   \n",
       "91950             ('math.ST', 'stat.TH')  NaN   \n",
       "\n",
       "                                                       a  \\\n",
       "11395   The aim of this paper is to give necessary an...   \n",
       "37861   In this paper we give a definition of centric...   \n",
       "16431   We study a defocusing semilinear wave equatio...   \n",
       "26952   We extend the Dinh-Sibony notion of densities...   \n",
       "91950   This note shows that some assumption on small...   \n",
       "\n",
       "                                                       p  \\\n",
       "11395  This result has applications applications to a...   \n",
       "37861  As a means to prove the Green correspondence g...   \n",
       "16431  We prove that if $p>n+4$ and the initial data ...   \n",
       "26952  As an application, we introduce the notion of ...   \n",
       "91950  To complete this result an example of L2 proce...   \n",
       "\n",
       "                                                       n  \n",
       "11395   We show that divergence-free jacobian maps, r...  \n",
       "37861  Because of this, it is very important to study...  \n",
       "16431  These equations are relevant for modelling col...  \n",
       "26952   We show that if the group of holomorphic auto...  \n",
       "91950  More precisely, we address the problem of char...  "
      ]
     },
     "execution_count": 2,
     "metadata": {},
     "output_type": "execute_result"
    }
   ],
   "source": [
    "df1 = pd.read_csv(\"anchor-arxiv-dataset.csv\", index_col=0)\n",
    "# TODO: the mathberta tokenizer also recognizes latex within [MATH]...[/MATH] -> convert latex markupp in titles accordingly\n",
    "df1.sample(5)"
   ]
  },
  {
   "cell_type": "code",
   "execution_count": 3,
   "id": "d375f0ab-11ea-4afa-be28-f1287dc187cc",
   "metadata": {},
   "outputs": [
    {
     "name": "stdout",
     "output_type": "stream",
     "text": [
      "train: 73760 eval: 9221 test: 9221\n"
     ]
    }
   ],
   "source": [
    "X_treval1, X_test1 = train_test_split(df1, train_size=0.9, random_state=RANDOM_STATE)\n",
    "X_train1, X_eval1 = train_test_split(X_treval1, train_size=0.888889, random_state=RANDOM_STATE)\n",
    "print(\"train:\", len(X_train1), \"eval:\", len(X_eval1), \"test:\", len(X_test1))"
   ]
  },
  {
   "cell_type": "code",
   "execution_count": 4,
   "id": "b4cb11e2-69bb-4609-ba70-9b485328277c",
   "metadata": {},
   "outputs": [
    {
     "data": {
      "text/html": [
       "<div>\n",
       "<style scoped>\n",
       "    .dataframe tbody tr th:only-of-type {\n",
       "        vertical-align: middle;\n",
       "    }\n",
       "\n",
       "    .dataframe tbody tr th {\n",
       "        vertical-align: top;\n",
       "    }\n",
       "\n",
       "    .dataframe thead th {\n",
       "        text-align: right;\n",
       "    }\n",
       "</style>\n",
       "<table border=\"1\" class=\"dataframe\">\n",
       "  <thead>\n",
       "    <tr style=\"text-align: right;\">\n",
       "      <th></th>\n",
       "      <th>title_a</th>\n",
       "      <th>MSC_a</th>\n",
       "      <th>MSC2_a</th>\n",
       "      <th>title_b</th>\n",
       "      <th>MSC_b</th>\n",
       "      <th>MSC2_b</th>\n",
       "      <th>label</th>\n",
       "    </tr>\n",
       "  </thead>\n",
       "  <tbody>\n",
       "    <tr>\n",
       "      <th>59818</th>\n",
       "      <td>Easy computational approach to solution of sys...</td>\n",
       "      <td>65R20</td>\n",
       "      <td>('45B05',)</td>\n",
       "      <td>Application of Lagrange interpolation for nonl...</td>\n",
       "      <td>65R20</td>\n",
       "      <td>('45B05', '45J05', '65L05')</td>\n",
       "      <td>1.0</td>\n",
       "    </tr>\n",
       "    <tr>\n",
       "      <th>159263</th>\n",
       "      <td>Local and global Maass relations</td>\n",
       "      <td>11F70</td>\n",
       "      <td>('22E50', '11F55', '11F37')</td>\n",
       "      <td>Siegel modular forms of small weight and the W...</td>\n",
       "      <td>11F46</td>\n",
       "      <td>('11F27',)</td>\n",
       "      <td>0.0</td>\n",
       "    </tr>\n",
       "    <tr>\n",
       "      <th>174009</th>\n",
       "      <td>Parallel scientific computing environment for ...</td>\n",
       "      <td>68U20</td>\n",
       "      <td>('68N99', '65Y05', '65Y20', '85-08')</td>\n",
       "      <td>CDR: A rewriting based tool to design FPLA cir...</td>\n",
       "      <td>68Q42</td>\n",
       "      <td>('68W30', '94C10')</td>\n",
       "      <td>0.0</td>\n",
       "    </tr>\n",
       "    <tr>\n",
       "      <th>305223</th>\n",
       "      <td>Anisotropic \\(p,q\\)-Laplacian equations when \\...</td>\n",
       "      <td>35J92</td>\n",
       "      <td>('35J25', '35B65')</td>\n",
       "      <td>Approximations to wave propagation through a l...</td>\n",
       "      <td>35P25</td>\n",
       "      <td>('35J05',)</td>\n",
       "      <td>0.0</td>\n",
       "    </tr>\n",
       "    <tr>\n",
       "      <th>105926</th>\n",
       "      <td>Strategic advertising: the fat-cat effect and ...</td>\n",
       "      <td>91A10</td>\n",
       "      <td>('91B38', '90B60', '91A80', '91B42')</td>\n",
       "      <td>Does trust matter for R\\&amp;D cooperation? A game...</td>\n",
       "      <td>91A10</td>\n",
       "      <td>('91B24', '91B38')</td>\n",
       "      <td>1.0</td>\n",
       "    </tr>\n",
       "  </tbody>\n",
       "</table>\n",
       "</div>"
      ],
      "text/plain": [
       "                                                  title_a  MSC_a  \\\n",
       "59818   Easy computational approach to solution of sys...  65R20   \n",
       "159263                   Local and global Maass relations  11F70   \n",
       "174009  Parallel scientific computing environment for ...  68U20   \n",
       "305223  Anisotropic \\(p,q\\)-Laplacian equations when \\...  35J92   \n",
       "105926  Strategic advertising: the fat-cat effect and ...  91A10   \n",
       "\n",
       "                                      MSC2_a  \\\n",
       "59818                             ('45B05',)   \n",
       "159263           ('22E50', '11F55', '11F37')   \n",
       "174009  ('68N99', '65Y05', '65Y20', '85-08')   \n",
       "305223                    ('35J25', '35B65')   \n",
       "105926  ('91B38', '90B60', '91A80', '91B42')   \n",
       "\n",
       "                                                  title_b  MSC_b  \\\n",
       "59818   Application of Lagrange interpolation for nonl...  65R20   \n",
       "159263  Siegel modular forms of small weight and the W...  11F46   \n",
       "174009  CDR: A rewriting based tool to design FPLA cir...  68Q42   \n",
       "305223  Approximations to wave propagation through a l...  35P25   \n",
       "105926  Does trust matter for R\\&D cooperation? A game...  91A10   \n",
       "\n",
       "                             MSC2_b  label  \n",
       "59818   ('45B05', '45J05', '65L05')    1.0  \n",
       "159263                   ('11F27',)    0.0  \n",
       "174009           ('68W30', '94C10')    0.0  \n",
       "305223                   ('35J05',)    0.0  \n",
       "105926           ('91B24', '91B38')    1.0  "
      ]
     },
     "execution_count": 4,
     "metadata": {},
     "output_type": "execute_result"
    }
   ],
   "source": [
    "df2 = pd.read_csv(\"class-zbmath-dataset.csv\", index_col=0)\n",
    "df2[\"label\"] = df2[\"label\"].astype(\"float\")\n",
    "# TODO: the mathberta tokenizer also recognizes latex within [MATH]...[/MATH] -> convert latex markupp in titles accordingly\n",
    "df2.sample(5)"
   ]
  },
  {
   "cell_type": "code",
   "execution_count": 5,
   "id": "9953d6cf-1545-4a1f-98eb-ee319a9005d2",
   "metadata": {},
   "outputs": [
    {
     "name": "stdout",
     "output_type": "stream",
     "text": [
      "train: 351472 eval: 43935 test: 43935\n"
     ]
    }
   ],
   "source": [
    "X_treval2, X_test2 = train_test_split(df2, train_size=0.9, random_state=RANDOM_STATE)\n",
    "X_train2, X_eval2 = train_test_split(X_treval2, train_size=0.888889, random_state=RANDOM_STATE)\n",
    "print(\"train:\", len(X_train2), \"eval:\", len(X_eval2), \"test:\", len(X_test2))"
   ]
  },
  {
   "cell_type": "code",
   "execution_count": 6,
   "id": "4ae0fdc0-439a-4f5a-9928-a78297ca22ce",
   "metadata": {},
   "outputs": [
    {
     "data": {
      "text/html": [
       "<div>\n",
       "<style scoped>\n",
       "    .dataframe tbody tr th:only-of-type {\n",
       "        vertical-align: middle;\n",
       "    }\n",
       "\n",
       "    .dataframe tbody tr th {\n",
       "        vertical-align: top;\n",
       "    }\n",
       "\n",
       "    .dataframe thead th {\n",
       "        text-align: right;\n",
       "    }\n",
       "</style>\n",
       "<table border=\"1\" class=\"dataframe\">\n",
       "  <thead>\n",
       "    <tr style=\"text-align: right;\">\n",
       "      <th></th>\n",
       "      <th>label</th>\n",
       "      <th>categories_a</th>\n",
       "      <th>text_a</th>\n",
       "      <th>categories_b</th>\n",
       "      <th>text_b</th>\n",
       "    </tr>\n",
       "  </thead>\n",
       "  <tbody>\n",
       "    <tr>\n",
       "      <th>31838</th>\n",
       "      <td>0.0</td>\n",
       "      <td>('math.HO',)</td>\n",
       "      <td>Course of analytical geometry. This book is a ...</td>\n",
       "      <td>('math.DG',)</td>\n",
       "      <td>Helicoidal minimal surfaces of prescribed genu...</td>\n",
       "    </tr>\n",
       "    <tr>\n",
       "      <th>13384</th>\n",
       "      <td>1.0</td>\n",
       "      <td>('math.CO',)</td>\n",
       "      <td>On reformulated zagreb indices with respect to...</td>\n",
       "      <td>('math.CO',)</td>\n",
       "      <td>Cycle decompositions of pathwidth-6 graphs. Ha...</td>\n",
       "    </tr>\n",
       "    <tr>\n",
       "      <th>48292</th>\n",
       "      <td>1.0</td>\n",
       "      <td>('math.RA',)</td>\n",
       "      <td>Remarks on Vector Space Generated by the Multi...</td>\n",
       "      <td>('math.RA',)</td>\n",
       "      <td>Explicit Description of Centralizers for a Mat...</td>\n",
       "    </tr>\n",
       "    <tr>\n",
       "      <th>38103</th>\n",
       "      <td>0.0</td>\n",
       "      <td>('math.NT',)</td>\n",
       "      <td>Bounds on the largest prime factor of a negati...</td>\n",
       "      <td>('math.OC',)</td>\n",
       "      <td>Approximate dynamic programming for profit est...</td>\n",
       "    </tr>\n",
       "    <tr>\n",
       "      <th>18383</th>\n",
       "      <td>1.0</td>\n",
       "      <td>('math.CT',)</td>\n",
       "      <td>Non abelian cohomology: the point of view of g...</td>\n",
       "      <td>('math.CT',)</td>\n",
       "      <td>Modal Descent. Any modality in homotopy type t...</td>\n",
       "    </tr>\n",
       "  </tbody>\n",
       "</table>\n",
       "</div>"
      ],
      "text/plain": [
       "       label  categories_a                                             text_a  \\\n",
       "31838    0.0  ('math.HO',)  Course of analytical geometry. This book is a ...   \n",
       "13384    1.0  ('math.CO',)  On reformulated zagreb indices with respect to...   \n",
       "48292    1.0  ('math.RA',)  Remarks on Vector Space Generated by the Multi...   \n",
       "38103    0.0  ('math.NT',)  Bounds on the largest prime factor of a negati...   \n",
       "18383    1.0  ('math.CT',)  Non abelian cohomology: the point of view of g...   \n",
       "\n",
       "       categories_b                                             text_b  \n",
       "31838  ('math.DG',)  Helicoidal minimal surfaces of prescribed genu...  \n",
       "13384  ('math.CO',)  Cycle decompositions of pathwidth-6 graphs. Ha...  \n",
       "48292  ('math.RA',)  Explicit Description of Centralizers for a Mat...  \n",
       "38103  ('math.OC',)  Approximate dynamic programming for profit est...  \n",
       "18383  ('math.CT',)  Modal Descent. Any modality in homotopy type t...  "
      ]
     },
     "execution_count": 6,
     "metadata": {},
     "output_type": "execute_result"
    }
   ],
   "source": [
    "df3 = pd.read_csv(\"class-arxiv-dataset.csv\", index_col=0)\n",
    "df3[\"label\"] = df3[\"label\"].astype(\"float\")\n",
    "# TODO: the mathberta tokenizer also recognizes latex within [MATH]...[/MATH] -> convert latex markupp in titles accordingly\n",
    "df3.sample(5)"
   ]
  },
  {
   "cell_type": "code",
   "execution_count": 7,
   "id": "e12a586b-ca2f-4ddd-b5c7-c255b159854a",
   "metadata": {},
   "outputs": [
    {
     "name": "stdout",
     "output_type": "stream",
     "text": [
      "train: 43572 eval: 5447 test: 5447\n"
     ]
    }
   ],
   "source": [
    "X_treval3, X_test3 = train_test_split(df3, train_size=0.9, random_state=RANDOM_STATE)\n",
    "X_train3, X_eval3 = train_test_split(X_treval3, train_size=0.888889, random_state=RANDOM_STATE)\n",
    "print(\"train:\", len(X_train3), \"eval:\", len(X_eval3), \"test:\", len(X_test3))"
   ]
  },
  {
   "cell_type": "raw",
   "id": "7ba8bade-b18f-4a7e-b8b2-0fd0e027c1a6",
   "metadata": {},
   "source": [
    "# prepare evaluation data1\n",
    "eval_examples1 = X_eval1.reset_index(drop=True).apply(lambda r: InputExample(texts=[r[\"a\"], r[\"p\"], r[\"n\"]]), axis=1)\n",
    "evaluator1 = evaluation.TripletEvaluator.from_input_examples(eval_examples1)"
   ]
  },
  {
   "cell_type": "code",
   "execution_count": 8,
   "id": "3b6c5675-cb1c-4213-9d04-fb64d09c7c3c",
   "metadata": {},
   "outputs": [],
   "source": [
    "# prepare evaluation data2\n",
    "eval_examples2 = X_eval2.reset_index(drop=True).apply(lambda r: InputExample(texts=[r[\"title_a\"], r[\"title_b\"]], label=r[\"label\"]), axis=1)\n",
    "#eval_examples3 = X_eval3.reset_index(drop=True).apply(lambda r: InputExample(texts=[r[\"text_a\"], r[\"text_b\"]], label=r[\"label\"]), axis=1)\n",
    "#eval_examples = pd.concat([eval_examples2, eval_examples3], ignore_index=True)\n",
    "#eval_examples = eval_examples.sample(len(eval_examples)).reset_index(drop=True)\n",
    "evaluator = evaluation.EmbeddingSimilarityEvaluator.from_input_examples(eval_examples2)"
   ]
  },
  {
   "cell_type": "code",
   "execution_count": 9,
   "id": "f08b9ac6-b863-473d-8efb-a5894997ce23",
   "metadata": {},
   "outputs": [],
   "source": [
    "# prepare re-training: training data, loss\n",
    "retrain_examples1 = X_train1.reset_index(drop=True).apply(lambda r: InputExample(texts=[r[\"a\"], r[\"p\"], r[\"n\"]]), axis=1)\n",
    "retrain_dataloader1 = DataLoader(retrain_examples1, shuffle=True, batch_size=8)\n",
    "retrain_loss1 = losses.TripletLoss(model=MODEL, triplet_margin=5) # TODO: triplet_margin: hyperparameter to optimize"
   ]
  },
  {
   "cell_type": "code",
   "execution_count": 10,
   "id": "1912fa00-02e2-49bf-b487-0978e931b27f",
   "metadata": {},
   "outputs": [],
   "source": [
    "# prepare re-training: training data, loss\n",
    "retrain_examples2 = X_train2.reset_index(drop=True).apply(lambda r: InputExample(texts=[r[\"title_a\"], r[\"title_b\"]], label=r[\"label\"]), axis=1)\n",
    "retrain_dataloader2 = DataLoader(retrain_examples2, shuffle=True, batch_size=8)\n",
    "retrain_loss2 = losses.CosineSimilarityLoss(model=MODEL)"
   ]
  },
  {
   "cell_type": "code",
   "execution_count": 11,
   "id": "e240e31a-96cb-45aa-a590-de8066f592bf",
   "metadata": {},
   "outputs": [],
   "source": [
    "# prepare re-training: training data, loss\n",
    "retrain_examples3 = X_train3.reset_index(drop=True).apply(lambda r: InputExample(texts=[r[\"text_a\"], r[\"text_b\"]], label=r[\"label\"]), axis=1)\n",
    "retrain_dataloader3 = DataLoader(retrain_examples3, shuffle=True, batch_size=8)\n",
    "retrain_loss3 = losses.CosineSimilarityLoss(model=MODEL)"
   ]
  },
  {
   "cell_type": "code",
   "execution_count": null,
   "id": "79a31f6d-20ce-4786-9d3e-d4148257b610",
   "metadata": {},
   "outputs": [
    {
     "data": {
      "application/vnd.jupyter.widget-view+json": {
       "model_id": "47a174c656ae4054903deb17e7549213",
       "version_major": 2,
       "version_minor": 0
      },
      "text/plain": [
       "Epoch:   0%|          | 0/20 [00:00<?, ?it/s]"
      ]
     },
     "metadata": {},
     "output_type": "display_data"
    },
    {
     "data": {
      "application/vnd.jupyter.widget-view+json": {
       "model_id": "7e1166f845114d4cbed6b64819b22495",
       "version_major": 2,
       "version_minor": 0
      },
      "text/plain": [
       "Iteration:   0%|          | 0/5447 [00:00<?, ?it/s]"
      ]
     },
     "metadata": {},
     "output_type": "display_data"
    }
   ],
   "source": [
    "%%time\n",
    "# finetune model\n",
    "MODEL.fit(train_objectives=[(retrain_dataloader3, retrain_loss3), (retrain_dataloader2, retrain_loss2), (retrain_dataloader1, retrain_loss1)],\n",
    "          evaluator=evaluator, epochs=20,\n",
    "        output_path=\"bert+re-train_mlm_abstracts_arxiv+mean-pooling+retrain_class_arxiv_class_zbmath_anchor_arxiv\") "
   ]
  },
  {
   "cell_type": "code",
   "execution_count": null,
   "id": "c0881483-5bb2-4aa8-8fe8-914f815a4229",
   "metadata": {},
   "outputs": [],
   "source": [
    "%%time\n",
    "# evaluate Spearman-Pearson-rank-coefficient on test data\n",
    "spear_ranc = MODEL.evaluate(evaluator)\n",
    "spear_ranc"
   ]
  },
  {
   "cell_type": "code",
   "execution_count": null,
   "id": "2c8f2335-2b62-446a-8ad4-90dc01a44bf9",
   "metadata": {},
   "outputs": [],
   "source": [
    "spear_ranc"
   ]
  },
  {
   "cell_type": "code",
   "execution_count": null,
   "id": "ccc7cb4d-055d-460e-9aa9-50e91fd9cbb3",
   "metadata": {},
   "outputs": [],
   "source": []
  }
 ],
 "metadata": {
  "kernelspec": {
   "display_name": "Python 3 (ipykernel)",
   "language": "python",
   "name": "python3"
  },
  "language_info": {
   "codemirror_mode": {
    "name": "ipython",
    "version": 3
   },
   "file_extension": ".py",
   "mimetype": "text/x-python",
   "name": "python",
   "nbconvert_exporter": "python",
   "pygments_lexer": "ipython3",
   "version": "3.9.19"
  }
 },
 "nbformat": 4,
 "nbformat_minor": 5
}
