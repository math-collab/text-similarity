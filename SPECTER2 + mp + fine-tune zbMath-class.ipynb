{
 "cells": [
  {
   "cell_type": "code",
   "execution_count": 1,
   "id": "6c8295b0-a5d1-4ab1-8c3e-2dc6d1377558",
   "metadata": {},
   "outputs": [
    {
     "name": "stderr",
     "output_type": "stream",
     "text": [
      "2023-09-08 23:06:15.056599: I tensorflow/core/util/util.cc:169] oneDNN custom operations are on. You may see slightly different numerical results due to floating-point round-off errors from different computation orders. To turn them off, set the environment variable `TF_ENABLE_ONEDNN_OPTS=0`.\n"
     ]
    }
   ],
   "source": [
    "import simi\n",
    "\n",
    "import pandas as pd\n",
    "from sentence_transformers import evaluation, losses, models, InputExample, SentenceTransformer\n",
    "from sklearn.model_selection import train_test_split\n",
    "from torch.utils.data import DataLoader\n",
    "\n",
    "EMBEDDING = models.Transformer('allenai/specter2_base')\n",
    "POOLING = models.Pooling(EMBEDDING.get_word_embedding_dimension())\n",
    "# POOLING = models.Pooling(EMBEDDING.get_word_embedding_dimension(), pooling_mode=\"cls\") # CLS pooling\n",
    "\n",
    "MODEL = SentenceTransformer(modules=[EMBEDDING, POOLING])\n",
    "\n",
    "RANDOM_STATE = 1\n",
    "\n",
    "def similarity_scoring(df, model, append=False):\n",
    "    scores = df.apply(lambda r: simi.pairwise_cosine_similarity(simi.model_embeddings(model, [r[\"title_a\"], r[\"title_b\"]]))[0][0], axis=1)\n",
    "    scores = pd.Series(scores, index=df.index, name=\"cosine-sim\")\n",
    "    if append:\n",
    "        return df.merge(scores.to_frame(), left_index=True, right_index=True)\n",
    "    return scores"
   ]
  },
  {
   "cell_type": "code",
   "execution_count": 2,
   "id": "d1fb23dc-5e83-467f-bfb9-bf9611400db9",
   "metadata": {},
   "outputs": [
    {
     "data": {
      "text/html": [
       "<div>\n",
       "<style scoped>\n",
       "    .dataframe tbody tr th:only-of-type {\n",
       "        vertical-align: middle;\n",
       "    }\n",
       "\n",
       "    .dataframe tbody tr th {\n",
       "        vertical-align: top;\n",
       "    }\n",
       "\n",
       "    .dataframe thead th {\n",
       "        text-align: right;\n",
       "    }\n",
       "</style>\n",
       "<table border=\"1\" class=\"dataframe\">\n",
       "  <thead>\n",
       "    <tr style=\"text-align: right;\">\n",
       "      <th></th>\n",
       "      <th>title_a</th>\n",
       "      <th>MSC_a</th>\n",
       "      <th>MSC2_a</th>\n",
       "      <th>title_b</th>\n",
       "      <th>MSC_b</th>\n",
       "      <th>MSC2_b</th>\n",
       "      <th>label</th>\n",
       "    </tr>\n",
       "  </thead>\n",
       "  <tbody>\n",
       "    <tr>\n",
       "      <th>278544</th>\n",
       "      <td>The inert doublet model of dark matter revisited</td>\n",
       "      <td>83F05</td>\n",
       "      <td>('81V22',)</td>\n",
       "      <td>Aligned natural inflation: monodromies of two ...</td>\n",
       "      <td>83F05</td>\n",
       "      <td>('81V22',)</td>\n",
       "      <td>1.0</td>\n",
       "    </tr>\n",
       "    <tr>\n",
       "      <th>352494</th>\n",
       "      <td>The effect of contact on the decohesion of lam...</td>\n",
       "      <td>74M15</td>\n",
       "      <td>('74K10', '74E30')</td>\n",
       "      <td>2-D normal compliances for elastic and viscoel...</td>\n",
       "      <td>74M15</td>\n",
       "      <td>('74E30', '74D05', '74Q15', '74Q20')</td>\n",
       "      <td>1.0</td>\n",
       "    </tr>\n",
       "    <tr>\n",
       "      <th>7670</th>\n",
       "      <td>A Markovian stochastic model of the profit's g...</td>\n",
       "      <td>91B62</td>\n",
       "      <td>('90C40', '90C90')</td>\n",
       "      <td>Stochastic evolutionary dynamics resolve the t...</td>\n",
       "      <td>91A22</td>\n",
       "      <td>('91A15',)</td>\n",
       "      <td>0.0</td>\n",
       "    </tr>\n",
       "    <tr>\n",
       "      <th>394974</th>\n",
       "      <td>Measure of departure from symmetric associatio...</td>\n",
       "      <td>62H17</td>\n",
       "      <td>('62H20',)</td>\n",
       "      <td>Parameter estimation in nonlinear regression m...</td>\n",
       "      <td>62J02</td>\n",
       "      <td>('62E20', '62F10', '62F25')</td>\n",
       "      <td>0.0</td>\n",
       "    </tr>\n",
       "    <tr>\n",
       "      <th>331493</th>\n",
       "      <td>A wavelet-based model of one-dimensional perio...</td>\n",
       "      <td>42C40</td>\n",
       "      <td>('65T60',)</td>\n",
       "      <td>Triangular summability and Lebesgue points of ...</td>\n",
       "      <td>42B08</td>\n",
       "      <td>('42B10', '42B25')</td>\n",
       "      <td>0.0</td>\n",
       "    </tr>\n",
       "  </tbody>\n",
       "</table>\n",
       "</div>"
      ],
      "text/plain": [
       "                                                  title_a  MSC_a  \\\n",
       "278544   The inert doublet model of dark matter revisited  83F05   \n",
       "352494  The effect of contact on the decohesion of lam...  74M15   \n",
       "7670    A Markovian stochastic model of the profit's g...  91B62   \n",
       "394974  Measure of departure from symmetric associatio...  62H17   \n",
       "331493  A wavelet-based model of one-dimensional perio...  42C40   \n",
       "\n",
       "                    MSC2_a                                            title_b  \\\n",
       "278544          ('81V22',)  Aligned natural inflation: monodromies of two ...   \n",
       "352494  ('74K10', '74E30')  2-D normal compliances for elastic and viscoel...   \n",
       "7670    ('90C40', '90C90')  Stochastic evolutionary dynamics resolve the t...   \n",
       "394974          ('62H20',)  Parameter estimation in nonlinear regression m...   \n",
       "331493          ('65T60',)  Triangular summability and Lebesgue points of ...   \n",
       "\n",
       "        MSC_b                                MSC2_b  label  \n",
       "278544  83F05                            ('81V22',)    1.0  \n",
       "352494  74M15  ('74E30', '74D05', '74Q15', '74Q20')    1.0  \n",
       "7670    91A22                            ('91A15',)    0.0  \n",
       "394974  62J02           ('62E20', '62F10', '62F25')    0.0  \n",
       "331493  42B08                    ('42B10', '42B25')    0.0  "
      ]
     },
     "execution_count": 2,
     "metadata": {},
     "output_type": "execute_result"
    }
   ],
   "source": [
    "df = pd.read_csv(\"class-zbmath-dataset.csv\", index_col=0)\n",
    "df[\"label\"] = df[\"label\"].astype(\"float\")\n",
    "# TODO: the mathberta tokenizer also recognizes latex within [MATH]...[/MATH] -> convert latex markupp in titles accordingly\n",
    "df.sample(5)"
   ]
  },
  {
   "cell_type": "code",
   "execution_count": 3,
   "id": "d375f0ab-11ea-4afa-be28-f1287dc187cc",
   "metadata": {},
   "outputs": [
    {
     "name": "stdout",
     "output_type": "stream",
     "text": [
      "train: 351472 eval: 43935 test: 43935\n"
     ]
    }
   ],
   "source": [
    "X_treval, X_test = train_test_split(df, train_size=0.9, random_state=RANDOM_STATE)\n",
    "X_train, X_eval = train_test_split(X_treval, train_size=0.888889, random_state=RANDOM_STATE)\n",
    "print(\"train:\", len(X_train), \"eval:\", len(X_eval), \"test:\", len(X_test))"
   ]
  },
  {
   "cell_type": "code",
   "execution_count": 4,
   "id": "f13a203b-ec71-48a5-a4dc-d5729fd96ed5",
   "metadata": {},
   "outputs": [],
   "source": [
    "# prepare evaluation data\n",
    "eval_examples = X_eval.reset_index(drop=True).apply(lambda r: InputExample(texts=[r[\"title_a\"], r[\"title_b\"]], label=r[\"label\"]), axis=1)\n",
    "evaluator = evaluation.EmbeddingSimilarityEvaluator.from_input_examples(eval_examples)"
   ]
  },
  {
   "cell_type": "code",
   "execution_count": 5,
   "id": "f08b9ac6-b863-473d-8efb-a5894997ce23",
   "metadata": {},
   "outputs": [],
   "source": [
    "# prepare re-training: training data, loss\n",
    "retrain_examples = X_train.reset_index(drop=True).apply(lambda r: InputExample(texts=[r[\"title_a\"], r[\"title_b\"]], label=r[\"label\"]), axis=1)\n",
    "retrain_dataloader = DataLoader(retrain_examples, shuffle=True, batch_size=8)\n",
    "#retrain_loss = losses.SoftmaxLoss(model=MODEL, num_labels=2,\n",
    "#        sentence_embedding_dimension=MODEL.get_sentence_embedding_dimension())\n",
    "#retrain_loss = losses.ContrastiveLoss(model=MODEL)\n",
    "retrain_loss = losses.CosineSimilarityLoss(model=MODEL)"
   ]
  },
  {
   "cell_type": "code",
   "execution_count": 6,
   "id": "79a31f6d-20ce-4786-9d3e-d4148257b610",
   "metadata": {},
   "outputs": [
    {
     "data": {
      "application/vnd.jupyter.widget-view+json": {
       "model_id": "d3bd7e8f6c9545aaaaea9f9fbb6a2661",
       "version_major": 2,
       "version_minor": 0
      },
      "text/plain": [
       "Epoch:   0%|          | 0/10 [00:00<?, ?it/s]"
      ]
     },
     "metadata": {},
     "output_type": "display_data"
    },
    {
     "data": {
      "application/vnd.jupyter.widget-view+json": {
       "model_id": "f009c3b8188b4bf789291156385ef657",
       "version_major": 2,
       "version_minor": 0
      },
      "text/plain": [
       "Iteration:   0%|          | 0/43934 [00:00<?, ?it/s]"
      ]
     },
     "metadata": {},
     "output_type": "display_data"
    },
    {
     "data": {
      "application/vnd.jupyter.widget-view+json": {
       "model_id": "060e7446c88f434fbd91a1acfd8d3a98",
       "version_major": 2,
       "version_minor": 0
      },
      "text/plain": [
       "Iteration:   0%|          | 0/43934 [00:00<?, ?it/s]"
      ]
     },
     "metadata": {},
     "output_type": "display_data"
    },
    {
     "data": {
      "application/vnd.jupyter.widget-view+json": {
       "model_id": "401fcd59fc7e4495a9de32bda086e667",
       "version_major": 2,
       "version_minor": 0
      },
      "text/plain": [
       "Iteration:   0%|          | 0/43934 [00:00<?, ?it/s]"
      ]
     },
     "metadata": {},
     "output_type": "display_data"
    },
    {
     "data": {
      "application/vnd.jupyter.widget-view+json": {
       "model_id": "2d686a5967e14e4c927cb78a92644ccd",
       "version_major": 2,
       "version_minor": 0
      },
      "text/plain": [
       "Iteration:   0%|          | 0/43934 [00:00<?, ?it/s]"
      ]
     },
     "metadata": {},
     "output_type": "display_data"
    },
    {
     "data": {
      "application/vnd.jupyter.widget-view+json": {
       "model_id": "a0a3fe31514f4f75a8da2c72eda32848",
       "version_major": 2,
       "version_minor": 0
      },
      "text/plain": [
       "Iteration:   0%|          | 0/43934 [00:00<?, ?it/s]"
      ]
     },
     "metadata": {},
     "output_type": "display_data"
    },
    {
     "data": {
      "application/vnd.jupyter.widget-view+json": {
       "model_id": "06f586140def4cb3a6fab3464c6a0e01",
       "version_major": 2,
       "version_minor": 0
      },
      "text/plain": [
       "Iteration:   0%|          | 0/43934 [00:00<?, ?it/s]"
      ]
     },
     "metadata": {},
     "output_type": "display_data"
    },
    {
     "data": {
      "application/vnd.jupyter.widget-view+json": {
       "model_id": "3489ade8187d462cbf672510ebc2a4bd",
       "version_major": 2,
       "version_minor": 0
      },
      "text/plain": [
       "Iteration:   0%|          | 0/43934 [00:00<?, ?it/s]"
      ]
     },
     "metadata": {},
     "output_type": "display_data"
    },
    {
     "data": {
      "application/vnd.jupyter.widget-view+json": {
       "model_id": "6118797a733743f9a347a42542047e3e",
       "version_major": 2,
       "version_minor": 0
      },
      "text/plain": [
       "Iteration:   0%|          | 0/43934 [00:00<?, ?it/s]"
      ]
     },
     "metadata": {},
     "output_type": "display_data"
    },
    {
     "data": {
      "application/vnd.jupyter.widget-view+json": {
       "model_id": "22b66a10b5d04be082f5a073b7aa773d",
       "version_major": 2,
       "version_minor": 0
      },
      "text/plain": [
       "Iteration:   0%|          | 0/43934 [00:00<?, ?it/s]"
      ]
     },
     "metadata": {},
     "output_type": "display_data"
    },
    {
     "name": "stderr",
     "output_type": "stream",
     "text": [
      "IOPub message rate exceeded.\n",
      "The Jupyter server will temporarily stop sending output\n",
      "to the client in order to avoid crashing it.\n",
      "To change this limit, set the config variable\n",
      "`--ServerApp.iopub_msg_rate_limit`.\n",
      "\n",
      "Current values:\n",
      "ServerApp.iopub_msg_rate_limit=1000.0 (msgs/sec)\n",
      "ServerApp.rate_limit_window=3.0 (secs)\n",
      "\n",
      "IOPub message rate exceeded.\n",
      "The Jupyter server will temporarily stop sending output\n",
      "to the client in order to avoid crashing it.\n",
      "To change this limit, set the config variable\n",
      "`--ServerApp.iopub_msg_rate_limit`.\n",
      "\n",
      "Current values:\n",
      "ServerApp.iopub_msg_rate_limit=1000.0 (msgs/sec)\n",
      "ServerApp.rate_limit_window=3.0 (secs)\n",
      "\n",
      "IOPub message rate exceeded.\n",
      "The Jupyter server will temporarily stop sending output\n",
      "to the client in order to avoid crashing it.\n",
      "To change this limit, set the config variable\n",
      "`--ServerApp.iopub_msg_rate_limit`.\n",
      "\n",
      "Current values:\n",
      "ServerApp.iopub_msg_rate_limit=1000.0 (msgs/sec)\n",
      "ServerApp.rate_limit_window=3.0 (secs)\n",
      "\n"
     ]
    }
   ],
   "source": [
    "%%time\n",
    "# finetune model\n",
    "MODEL.fit(train_objectives=[(retrain_dataloader, retrain_loss)], evaluator=evaluator, epochs=10,\n",
    "        output_path=\"specter2+mp+retrain_class_zbmath\") "
   ]
  },
  {
   "cell_type": "code",
   "execution_count": 7,
   "id": "c0881483-5bb2-4aa8-8fe8-914f815a4229",
   "metadata": {},
   "outputs": [
    {
     "name": "stdout",
     "output_type": "stream",
     "text": [
      "CPU times: user 9min 5s, sys: 37.7 s, total: 9min 43s\n",
      "Wall time: 1min 31s\n"
     ]
    },
    {
     "data": {
      "text/plain": [
       "0.5370127892961544"
      ]
     },
     "execution_count": 7,
     "metadata": {},
     "output_type": "execute_result"
    }
   ],
   "source": [
    "%%time\n",
    "# evaluate Spearman-Pearson-rank-coefficient on test data\n",
    "spear_ranc = MODEL.evaluate(evaluator)\n",
    "spear_ranc"
   ]
  },
  {
   "cell_type": "code",
   "execution_count": 8,
   "id": "96f923dd-efec-4df5-b1e5-72399a3b866b",
   "metadata": {},
   "outputs": [
    {
     "name": "stdout",
     "output_type": "stream",
     "text": [
      "CPU times: user 7min 51s, sys: 16.5 s, total: 8min 7s\n",
      "Wall time: 5min 38s\n"
     ]
    }
   ],
   "source": [
    "%%time\n",
    "# evaluate model with test data\n",
    "X_test_score = similarity_scoring(X_test, MODEL, append=True)"
   ]
  },
  {
   "cell_type": "code",
   "execution_count": 9,
   "id": "4f21b364-27fe-43d5-96c2-d69db4d07f3c",
   "metadata": {},
   "outputs": [],
   "source": [
    "pd.set_option('display.max_colwidth', 160)"
   ]
  },
  {
   "cell_type": "code",
   "execution_count": 10,
   "id": "668707e7-400a-4efd-be37-c79b0374257b",
   "metadata": {},
   "outputs": [
    {
     "data": {
      "text/html": [
       "<div>\n",
       "<style scoped>\n",
       "    .dataframe tbody tr th:only-of-type {\n",
       "        vertical-align: middle;\n",
       "    }\n",
       "\n",
       "    .dataframe tbody tr th {\n",
       "        vertical-align: top;\n",
       "    }\n",
       "\n",
       "    .dataframe thead th {\n",
       "        text-align: right;\n",
       "    }\n",
       "</style>\n",
       "<table border=\"1\" class=\"dataframe\">\n",
       "  <thead>\n",
       "    <tr style=\"text-align: right;\">\n",
       "      <th></th>\n",
       "      <th>title_a</th>\n",
       "      <th>MSC_a</th>\n",
       "      <th>MSC2_a</th>\n",
       "      <th>title_b</th>\n",
       "      <th>MSC_b</th>\n",
       "      <th>MSC2_b</th>\n",
       "      <th>label</th>\n",
       "      <th>cosine-sim</th>\n",
       "    </tr>\n",
       "  </thead>\n",
       "  <tbody>\n",
       "    <tr>\n",
       "      <th>15960</th>\n",
       "      <td>Global exact quadratization of continuous-time nonlinear control systems</td>\n",
       "      <td>93C10</td>\n",
       "      <td>('93C15', '93A10', '34H05', '34H99', '34A34', '53A04')</td>\n",
       "      <td>Mixed \\(\\mathcal{H}_2/\\mathcal{H}_\\infty\\) control of hidden Markov jump systems</td>\n",
       "      <td>93E03</td>\n",
       "      <td>('60J75', '93B36', '93C55', '93C05')</td>\n",
       "      <td>0.0</td>\n",
       "      <td>-0.091918</td>\n",
       "    </tr>\n",
       "    <tr>\n",
       "      <th>186573</th>\n",
       "      <td>Edge operators with conditions of Toeplitz type</td>\n",
       "      <td>58J40</td>\n",
       "      <td>('35S15', '47G30', '35A17', '35J70', '58J32')</td>\n",
       "      <td>A Bismut type theorem for subelliptic heat semigroups</td>\n",
       "      <td>58J20</td>\n",
       "      <td>('35H20', '47D06')</td>\n",
       "      <td>0.0</td>\n",
       "      <td>0.057823</td>\n",
       "    </tr>\n",
       "    <tr>\n",
       "      <th>181977</th>\n",
       "      <td>1-cohomology and splitting of group extensions</td>\n",
       "      <td>20E22</td>\n",
       "      <td>('20J99', '20E07')</td>\n",
       "      <td>On some products of nilpotent groups</td>\n",
       "      <td>20E22</td>\n",
       "      <td>('20F16', '20F18', '20E07', '20F14', '20H25')</td>\n",
       "      <td>1.0</td>\n",
       "      <td>0.292061</td>\n",
       "    </tr>\n",
       "    <tr>\n",
       "      <th>299961</th>\n",
       "      <td>Reputation in the long-run with imperfect monitoring</td>\n",
       "      <td>91A20</td>\n",
       "      <td>('91A05',)</td>\n",
       "      <td>Parallel repetition via fortification: analytic view and the quantum case</td>\n",
       "      <td>91A20</td>\n",
       "      <td>('81P40', '81P45', '91A05', '91A06', '91A12', '91A80')</td>\n",
       "      <td>1.0</td>\n",
       "      <td>0.238634</td>\n",
       "    </tr>\n",
       "    <tr>\n",
       "      <th>226982</th>\n",
       "      <td>Traces and quasi-traces on the Boutet de Monvel algebra.</td>\n",
       "      <td>58J42</td>\n",
       "      <td>('35S15',)</td>\n",
       "      <td>The local and global parts of the basic zeta coefficient for operators on manifolds with boundary</td>\n",
       "      <td>58J42</td>\n",
       "      <td>('35S15',)</td>\n",
       "      <td>1.0</td>\n",
       "      <td>0.037171</td>\n",
       "    </tr>\n",
       "    <tr>\n",
       "      <th>306772</th>\n",
       "      <td>A cyclic weight algorithm of decoding the \\((47, 24, 11)\\) quadratic residue code</td>\n",
       "      <td>94B35</td>\n",
       "      <td>('94B40',)</td>\n",
       "      <td>A result on the weight distributions of binary quadratic residue codes</td>\n",
       "      <td>94B35</td>\n",
       "      <td>('94B40',)</td>\n",
       "      <td>1.0</td>\n",
       "      <td>0.965497</td>\n",
       "    </tr>\n",
       "    <tr>\n",
       "      <th>205892</th>\n",
       "      <td>Properties of the Székely-Móri symmetry criterion statistics in the case of binary vectors</td>\n",
       "      <td>60E05</td>\n",
       "      <td>('62E20', '62H10')</td>\n",
       "      <td>On deformation technique of the hyperbolic secant distribution</td>\n",
       "      <td>60E05</td>\n",
       "      <td>('60E10', '62E17', '62E20')</td>\n",
       "      <td>1.0</td>\n",
       "      <td>0.856848</td>\n",
       "    </tr>\n",
       "    <tr>\n",
       "      <th>218358</th>\n",
       "      <td>Simultaneous visibility representations of plane \\(st\\)-graphs using L-shapes</td>\n",
       "      <td>05C62</td>\n",
       "      <td>('05C10', '05C85', '68R10')</td>\n",
       "      <td>On the minimum order of graphs with given semigroup</td>\n",
       "      <td>05C99</td>\n",
       "      <td>('05C65', '20M30')</td>\n",
       "      <td>0.0</td>\n",
       "      <td>0.671497</td>\n",
       "    </tr>\n",
       "    <tr>\n",
       "      <th>77078</th>\n",
       "      <td>The unsteady MHD boundary-layer flow on a shrinking sheet</td>\n",
       "      <td>76W05</td>\n",
       "      <td>('76N20', '76M45')</td>\n",
       "      <td>Meridional trapping and zonal propagation of inertial waves in a rotating fluid shell</td>\n",
       "      <td>76U05</td>\n",
       "      <td>('76B55', '86A05')</td>\n",
       "      <td>0.0</td>\n",
       "      <td>0.034627</td>\n",
       "    </tr>\n",
       "    <tr>\n",
       "      <th>63150</th>\n",
       "      <td>On unified contact metric manifold</td>\n",
       "      <td>53C15</td>\n",
       "      <td>('53C25',)</td>\n",
       "      <td>Two characterizations of the Chern connection</td>\n",
       "      <td>53C10</td>\n",
       "      <td>('53A55', '53B05', '58A20', '58A32')</td>\n",
       "      <td>0.0</td>\n",
       "      <td>-0.002014</td>\n",
       "    </tr>\n",
       "    <tr>\n",
       "      <th>422297</th>\n",
       "      <td>On a Waring-Goldbach problem for mixed powers</td>\n",
       "      <td>11P32</td>\n",
       "      <td>('11P05', '11N36')</td>\n",
       "      <td>On the uniform distribution of numbers mod. 1</td>\n",
       "      <td>11K06</td>\n",
       "      <td>('11J71',)</td>\n",
       "      <td>0.0</td>\n",
       "      <td>0.519037</td>\n",
       "    </tr>\n",
       "    <tr>\n",
       "      <th>156367</th>\n",
       "      <td>Thermomagnetic power and figure of merit for spin-1/2 Heisenberg chain</td>\n",
       "      <td>82D40</td>\n",
       "      <td>('82-04',)</td>\n",
       "      <td>Weak coupling limits in a stochastic model of heat conduction</td>\n",
       "      <td>82C31</td>\n",
       "      <td>('82C35', '60J65', '80A20')</td>\n",
       "      <td>0.0</td>\n",
       "      <td>0.033689</td>\n",
       "    </tr>\n",
       "    <tr>\n",
       "      <th>276046</th>\n",
       "      <td>Quantization of reductive Lie algebras: Construction and universality</td>\n",
       "      <td>17B37</td>\n",
       "      <td>('16W30',)</td>\n",
       "      <td>Modules over linear spaces admitting a multiplicative basis</td>\n",
       "      <td>17A60</td>\n",
       "      <td>('17B10', '15A78')</td>\n",
       "      <td>0.0</td>\n",
       "      <td>-0.018825</td>\n",
       "    </tr>\n",
       "    <tr>\n",
       "      <th>336155</th>\n",
       "      <td>Numerical solution of two-dimensional time fractional cable equation with Mittag-Leffler kernel</td>\n",
       "      <td>65M70</td>\n",
       "      <td>('35R11',)</td>\n",
       "      <td>Mollified hyperbolic method for coefficient identification problems</td>\n",
       "      <td>65Z05</td>\n",
       "      <td>('65M30', '35R30', '35K15')</td>\n",
       "      <td>0.0</td>\n",
       "      <td>0.302364</td>\n",
       "    </tr>\n",
       "    <tr>\n",
       "      <th>124871</th>\n",
       "      <td>Discrete functions with a given range and a given C-spectrum</td>\n",
       "      <td>03B50</td>\n",
       "      <td>('05A15',)</td>\n",
       "      <td>On fundamental transformation groups in the algebra of logic</td>\n",
       "      <td>03B50</td>\n",
       "      <td>('03G20', '20B25', '05A15', '08A35')</td>\n",
       "      <td>1.0</td>\n",
       "      <td>-0.034558</td>\n",
       "    </tr>\n",
       "  </tbody>\n",
       "</table>\n",
       "</div>"
      ],
      "text/plain": [
       "                                                                                                title_a  \\\n",
       "15960                          Global exact quadratization of continuous-time nonlinear control systems   \n",
       "186573                                                  Edge operators with conditions of Toeplitz type   \n",
       "181977                                                   1-cohomology and splitting of group extensions   \n",
       "299961                                             Reputation in the long-run with imperfect monitoring   \n",
       "226982                                         Traces and quasi-traces on the Boutet de Monvel algebra.   \n",
       "306772                A cyclic weight algorithm of decoding the \\((47, 24, 11)\\) quadratic residue code   \n",
       "205892       Properties of the Székely-Móri symmetry criterion statistics in the case of binary vectors   \n",
       "218358                    Simultaneous visibility representations of plane \\(st\\)-graphs using L-shapes   \n",
       "77078                                         The unsteady MHD boundary-layer flow on a shrinking sheet   \n",
       "63150                                                                On unified contact metric manifold   \n",
       "422297                                                    On a Waring-Goldbach problem for mixed powers   \n",
       "156367                           Thermomagnetic power and figure of merit for spin-1/2 Heisenberg chain   \n",
       "276046                            Quantization of reductive Lie algebras: Construction and universality   \n",
       "336155  Numerical solution of two-dimensional time fractional cable equation with Mittag-Leffler kernel   \n",
       "124871                                     Discrete functions with a given range and a given C-spectrum   \n",
       "\n",
       "        MSC_a                                                  MSC2_a  \\\n",
       "15960   93C10  ('93C15', '93A10', '34H05', '34H99', '34A34', '53A04')   \n",
       "186573  58J40           ('35S15', '47G30', '35A17', '35J70', '58J32')   \n",
       "181977  20E22                                      ('20J99', '20E07')   \n",
       "299961  91A20                                              ('91A05',)   \n",
       "226982  58J42                                              ('35S15',)   \n",
       "306772  94B35                                              ('94B40',)   \n",
       "205892  60E05                                      ('62E20', '62H10')   \n",
       "218358  05C62                             ('05C10', '05C85', '68R10')   \n",
       "77078   76W05                                      ('76N20', '76M45')   \n",
       "63150   53C15                                              ('53C25',)   \n",
       "422297  11P32                                      ('11P05', '11N36')   \n",
       "156367  82D40                                              ('82-04',)   \n",
       "276046  17B37                                              ('16W30',)   \n",
       "336155  65M70                                              ('35R11',)   \n",
       "124871  03B50                                              ('05A15',)   \n",
       "\n",
       "                                                                                                  title_b  \\\n",
       "15960                    Mixed \\(\\mathcal{H}_2/\\mathcal{H}_\\infty\\) control of hidden Markov jump systems   \n",
       "186573                                              A Bismut type theorem for subelliptic heat semigroups   \n",
       "181977                                                               On some products of nilpotent groups   \n",
       "299961                          Parallel repetition via fortification: analytic view and the quantum case   \n",
       "226982  The local and global parts of the basic zeta coefficient for operators on manifolds with boundary   \n",
       "306772                             A result on the weight distributions of binary quadratic residue codes   \n",
       "205892                                     On deformation technique of the hyperbolic secant distribution   \n",
       "218358                                                On the minimum order of graphs with given semigroup   \n",
       "77078               Meridional trapping and zonal propagation of inertial waves in a rotating fluid shell   \n",
       "63150                                                       Two characterizations of the Chern connection   \n",
       "422297                                                      On the uniform distribution of numbers mod. 1   \n",
       "156367                                      Weak coupling limits in a stochastic model of heat conduction   \n",
       "276046                                        Modules over linear spaces admitting a multiplicative basis   \n",
       "336155                                Mollified hyperbolic method for coefficient identification problems   \n",
       "124871                                       On fundamental transformation groups in the algebra of logic   \n",
       "\n",
       "        MSC_b                                                  MSC2_b  label  \\\n",
       "15960   93E03                    ('60J75', '93B36', '93C55', '93C05')    0.0   \n",
       "186573  58J20                                      ('35H20', '47D06')    0.0   \n",
       "181977  20E22           ('20F16', '20F18', '20E07', '20F14', '20H25')    1.0   \n",
       "299961  91A20  ('81P40', '81P45', '91A05', '91A06', '91A12', '91A80')    1.0   \n",
       "226982  58J42                                              ('35S15',)    1.0   \n",
       "306772  94B35                                              ('94B40',)    1.0   \n",
       "205892  60E05                             ('60E10', '62E17', '62E20')    1.0   \n",
       "218358  05C99                                      ('05C65', '20M30')    0.0   \n",
       "77078   76U05                                      ('76B55', '86A05')    0.0   \n",
       "63150   53C10                    ('53A55', '53B05', '58A20', '58A32')    0.0   \n",
       "422297  11K06                                              ('11J71',)    0.0   \n",
       "156367  82C31                             ('82C35', '60J65', '80A20')    0.0   \n",
       "276046  17A60                                      ('17B10', '15A78')    0.0   \n",
       "336155  65Z05                             ('65M30', '35R30', '35K15')    0.0   \n",
       "124871  03B50                    ('03G20', '20B25', '05A15', '08A35')    1.0   \n",
       "\n",
       "        cosine-sim  \n",
       "15960    -0.091918  \n",
       "186573    0.057823  \n",
       "181977    0.292061  \n",
       "299961    0.238634  \n",
       "226982    0.037171  \n",
       "306772    0.965497  \n",
       "205892    0.856848  \n",
       "218358    0.671497  \n",
       "77078     0.034627  \n",
       "63150    -0.002014  \n",
       "422297    0.519037  \n",
       "156367    0.033689  \n",
       "276046   -0.018825  \n",
       "336155    0.302364  \n",
       "124871   -0.034558  "
      ]
     },
     "execution_count": 10,
     "metadata": {},
     "output_type": "execute_result"
    }
   ],
   "source": [
    "X_test_score.sample(15, random_state=RANDOM_STATE)"
   ]
  },
  {
   "cell_type": "code",
   "execution_count": 11,
   "id": "01bb8f38-d2a0-4253-8b4f-fa35857827ce",
   "metadata": {},
   "outputs": [
    {
     "data": {
      "text/html": [
       "<div>\n",
       "<style scoped>\n",
       "    .dataframe tbody tr th:only-of-type {\n",
       "        vertical-align: middle;\n",
       "    }\n",
       "\n",
       "    .dataframe tbody tr th {\n",
       "        vertical-align: top;\n",
       "    }\n",
       "\n",
       "    .dataframe thead th {\n",
       "        text-align: right;\n",
       "    }\n",
       "</style>\n",
       "<table border=\"1\" class=\"dataframe\">\n",
       "  <thead>\n",
       "    <tr style=\"text-align: right;\">\n",
       "      <th></th>\n",
       "      <th>label</th>\n",
       "      <th>cosine-sim</th>\n",
       "    </tr>\n",
       "  </thead>\n",
       "  <tbody>\n",
       "    <tr>\n",
       "      <th>count</th>\n",
       "      <td>21860.0</td>\n",
       "      <td>21860.000000</td>\n",
       "    </tr>\n",
       "    <tr>\n",
       "      <th>mean</th>\n",
       "      <td>1.0</td>\n",
       "      <td>0.585343</td>\n",
       "    </tr>\n",
       "    <tr>\n",
       "      <th>std</th>\n",
       "      <td>0.0</td>\n",
       "      <td>0.318441</td>\n",
       "    </tr>\n",
       "    <tr>\n",
       "      <th>min</th>\n",
       "      <td>1.0</td>\n",
       "      <td>-0.204495</td>\n",
       "    </tr>\n",
       "    <tr>\n",
       "      <th>25%</th>\n",
       "      <td>1.0</td>\n",
       "      <td>0.313754</td>\n",
       "    </tr>\n",
       "    <tr>\n",
       "      <th>50%</th>\n",
       "      <td>1.0</td>\n",
       "      <td>0.651043</td>\n",
       "    </tr>\n",
       "    <tr>\n",
       "      <th>75%</th>\n",
       "      <td>1.0</td>\n",
       "      <td>0.878361</td>\n",
       "    </tr>\n",
       "    <tr>\n",
       "      <th>max</th>\n",
       "      <td>1.0</td>\n",
       "      <td>0.999384</td>\n",
       "    </tr>\n",
       "  </tbody>\n",
       "</table>\n",
       "</div>"
      ],
      "text/plain": [
       "         label    cosine-sim\n",
       "count  21860.0  21860.000000\n",
       "mean       1.0      0.585343\n",
       "std        0.0      0.318441\n",
       "min        1.0     -0.204495\n",
       "25%        1.0      0.313754\n",
       "50%        1.0      0.651043\n",
       "75%        1.0      0.878361\n",
       "max        1.0      0.999384"
      ]
     },
     "execution_count": 11,
     "metadata": {},
     "output_type": "execute_result"
    }
   ],
   "source": [
    "X_test_score[X_test_score[\"label\"] == 1].describe()"
   ]
  },
  {
   "cell_type": "code",
   "execution_count": 12,
   "id": "711f67df-fe23-41cc-8d66-85bc80dea15c",
   "metadata": {},
   "outputs": [
    {
     "data": {
      "text/html": [
       "<div>\n",
       "<style scoped>\n",
       "    .dataframe tbody tr th:only-of-type {\n",
       "        vertical-align: middle;\n",
       "    }\n",
       "\n",
       "    .dataframe tbody tr th {\n",
       "        vertical-align: top;\n",
       "    }\n",
       "\n",
       "    .dataframe thead th {\n",
       "        text-align: right;\n",
       "    }\n",
       "</style>\n",
       "<table border=\"1\" class=\"dataframe\">\n",
       "  <thead>\n",
       "    <tr style=\"text-align: right;\">\n",
       "      <th></th>\n",
       "      <th>label</th>\n",
       "      <th>cosine-sim</th>\n",
       "    </tr>\n",
       "  </thead>\n",
       "  <tbody>\n",
       "    <tr>\n",
       "      <th>count</th>\n",
       "      <td>22075.0</td>\n",
       "      <td>22075.000000</td>\n",
       "    </tr>\n",
       "    <tr>\n",
       "      <th>mean</th>\n",
       "      <td>0.0</td>\n",
       "      <td>0.205488</td>\n",
       "    </tr>\n",
       "    <tr>\n",
       "      <th>std</th>\n",
       "      <td>0.0</td>\n",
       "      <td>0.271258</td>\n",
       "    </tr>\n",
       "    <tr>\n",
       "      <th>min</th>\n",
       "      <td>0.0</td>\n",
       "      <td>-0.266328</td>\n",
       "    </tr>\n",
       "    <tr>\n",
       "      <th>25%</th>\n",
       "      <td>0.0</td>\n",
       "      <td>-0.002529</td>\n",
       "    </tr>\n",
       "    <tr>\n",
       "      <th>50%</th>\n",
       "      <td>0.0</td>\n",
       "      <td>0.104405</td>\n",
       "    </tr>\n",
       "    <tr>\n",
       "      <th>75%</th>\n",
       "      <td>0.0</td>\n",
       "      <td>0.355813</td>\n",
       "    </tr>\n",
       "    <tr>\n",
       "      <th>max</th>\n",
       "      <td>0.0</td>\n",
       "      <td>0.996512</td>\n",
       "    </tr>\n",
       "  </tbody>\n",
       "</table>\n",
       "</div>"
      ],
      "text/plain": [
       "         label    cosine-sim\n",
       "count  22075.0  22075.000000\n",
       "mean       0.0      0.205488\n",
       "std        0.0      0.271258\n",
       "min        0.0     -0.266328\n",
       "25%        0.0     -0.002529\n",
       "50%        0.0      0.104405\n",
       "75%        0.0      0.355813\n",
       "max        0.0      0.996512"
      ]
     },
     "execution_count": 12,
     "metadata": {},
     "output_type": "execute_result"
    }
   ],
   "source": [
    "X_test_score[X_test_score[\"label\"] == 0].describe()"
   ]
  }
 ],
 "metadata": {
  "kernelspec": {
   "display_name": "Python 3 (ipykernel)",
   "language": "python",
   "name": "python3"
  },
  "language_info": {
   "codemirror_mode": {
    "name": "ipython",
    "version": 3
   },
   "file_extension": ".py",
   "mimetype": "text/x-python",
   "name": "python",
   "nbconvert_exporter": "python",
   "pygments_lexer": "ipython3",
   "version": "3.9.19"
  }
 },
 "nbformat": 4,
 "nbformat_minor": 5
}
