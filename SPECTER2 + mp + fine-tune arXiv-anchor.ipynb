{
 "cells": [
  {
   "cell_type": "code",
   "execution_count": 1,
   "id": "6c8295b0-a5d1-4ab1-8c3e-2dc6d1377558",
   "metadata": {},
   "outputs": [
    {
     "name": "stderr",
     "output_type": "stream",
     "text": [
      "2023-09-08 23:14:56.594539: I tensorflow/core/util/util.cc:169] oneDNN custom operations are on. You may see slightly different numerical results due to floating-point round-off errors from different computation orders. To turn them off, set the environment variable `TF_ENABLE_ONEDNN_OPTS=0`.\n"
     ]
    }
   ],
   "source": [
    "import sys\n",
    "import os\n",
    "sys.path.append(os.path.abspath(\"../\"))\n",
    "import simi\n",
    "\n",
    "import pandas as pd\n",
    "from sentence_transformers import evaluation, losses, models, InputExample, SentenceTransformer\n",
    "from sklearn.model_selection import train_test_split\n",
    "from torch.utils.data import DataLoader\n",
    "\n",
    "EMBEDDING = models.Transformer('allenai/specter2_base')\n",
    "POOLING = models.Pooling(EMBEDDING.get_word_embedding_dimension())\n",
    "# POOLING = models.Pooling(EMBEDDING.get_word_embedding_dimension(), pooling_mode=\"cls\") # CLS pooling\n",
    "\n",
    "MODEL = SentenceTransformer(modules=[EMBEDDING, POOLING])\n",
    "\n",
    "RANDOM_STATE = 1"
   ]
  },
  {
   "cell_type": "code",
   "execution_count": 2,
   "id": "d1fb23dc-5e83-467f-bfb9-bf9611400db9",
   "metadata": {},
   "outputs": [
    {
     "data": {
      "text/html": [
       "<div>\n",
       "<style scoped>\n",
       "    .dataframe tbody tr th:only-of-type {\n",
       "        vertical-align: middle;\n",
       "    }\n",
       "\n",
       "    .dataframe tbody tr th {\n",
       "        vertical-align: top;\n",
       "    }\n",
       "\n",
       "    .dataframe thead th {\n",
       "        text-align: right;\n",
       "    }\n",
       "</style>\n",
       "<table border=\"1\" class=\"dataframe\">\n",
       "  <thead>\n",
       "    <tr style=\"text-align: right;\">\n",
       "      <th></th>\n",
       "      <th>title</th>\n",
       "      <th>abstract</th>\n",
       "      <th>categories</th>\n",
       "      <th>doi</th>\n",
       "      <th>a</th>\n",
       "      <th>p</th>\n",
       "      <th>n</th>\n",
       "    </tr>\n",
       "  </thead>\n",
       "  <tbody>\n",
       "    <tr>\n",
       "      <th>27623</th>\n",
       "      <td>Total nonnegativity of infinite Hurwitz matric...</td>\n",
       "      <td>In this paper we fully describe functions ge...</td>\n",
       "      <td>('math.CV', 'math.CA')</td>\n",
       "      <td>10.1007/s11785-013-0344-0</td>\n",
       "      <td>An alternative criterion for entire functions ...</td>\n",
       "      <td>The results are based on a connection between ...</td>\n",
       "      <td>We construct a bounded domain $\\Omega$ in $\\m...</td>\n",
       "    </tr>\n",
       "    <tr>\n",
       "      <th>20264</th>\n",
       "      <td>Clifford Prolate Spheroidal wave Functions</td>\n",
       "      <td>In the present paper, we introduce the multi...</td>\n",
       "      <td>('math.CA',)</td>\n",
       "      <td>NaN</td>\n",
       "      <td>Then we investigate the role of the CPSWFs in ...</td>\n",
       "      <td>In the present paper, we introduce the multid...</td>\n",
       "      <td>We prove the total positivity of the Narayana...</td>\n",
       "    </tr>\n",
       "    <tr>\n",
       "      <th>16502</th>\n",
       "      <td>Analysis of the Energy Decay of a Degenerated ...</td>\n",
       "      <td>In this paper, we study a system of thermoel...</td>\n",
       "      <td>('math.AP',)</td>\n",
       "      <td>NaN</td>\n",
       "      <td>In this paper, we study a system of thermoela...</td>\n",
       "      <td>In the first case and under special assumption...</td>\n",
       "      <td>The paper deals with output feedback stabiliz...</td>\n",
       "    </tr>\n",
       "    <tr>\n",
       "      <th>17091</th>\n",
       "      <td>Well-posedness for the continuity equation for...</td>\n",
       "      <td>We prove well-posedness of linear scalar con...</td>\n",
       "      <td>('math.AP', 'math.CA')</td>\n",
       "      <td>NaN</td>\n",
       "      <td>As an application, we obtain uniqueness of sol...</td>\n",
       "      <td>We prove well-posedness of linear scalar cons...</td>\n",
       "      <td>Unstable behavior is `discouraged' by the runn...</td>\n",
       "    </tr>\n",
       "    <tr>\n",
       "      <th>68469</th>\n",
       "      <td>Isomorphisms between determinantal point proce...</td>\n",
       "      <td>We prove the Bernoulli property for determin...</td>\n",
       "      <td>('math.PR', 'math.DS')</td>\n",
       "      <td>NaN</td>\n",
       "      <td>For this purpose, we also prove the Bernoulli ...</td>\n",
       "      <td>As its continuum version, we prove an isomorph...</td>\n",
       "      <td>For each system, we derive a closed-form expre...</td>\n",
       "    </tr>\n",
       "  </tbody>\n",
       "</table>\n",
       "</div>"
      ],
      "text/plain": [
       "                                                   title  \\\n",
       "27623  Total nonnegativity of infinite Hurwitz matric...   \n",
       "20264         Clifford Prolate Spheroidal wave Functions   \n",
       "16502  Analysis of the Energy Decay of a Degenerated ...   \n",
       "17091  Well-posedness for the continuity equation for...   \n",
       "68469  Isomorphisms between determinantal point proce...   \n",
       "\n",
       "                                                abstract  \\\n",
       "27623    In this paper we fully describe functions ge...   \n",
       "20264    In the present paper, we introduce the multi...   \n",
       "16502    In this paper, we study a system of thermoel...   \n",
       "17091    We prove well-posedness of linear scalar con...   \n",
       "68469    We prove the Bernoulli property for determin...   \n",
       "\n",
       "                   categories                        doi  \\\n",
       "27623  ('math.CV', 'math.CA')  10.1007/s11785-013-0344-0   \n",
       "20264            ('math.CA',)                        NaN   \n",
       "16502            ('math.AP',)                        NaN   \n",
       "17091  ('math.AP', 'math.CA')                        NaN   \n",
       "68469  ('math.PR', 'math.DS')                        NaN   \n",
       "\n",
       "                                                       a  \\\n",
       "27623  An alternative criterion for entire functions ...   \n",
       "20264  Then we investigate the role of the CPSWFs in ...   \n",
       "16502   In this paper, we study a system of thermoela...   \n",
       "17091  As an application, we obtain uniqueness of sol...   \n",
       "68469  For this purpose, we also prove the Bernoulli ...   \n",
       "\n",
       "                                                       p  \\\n",
       "27623  The results are based on a connection between ...   \n",
       "20264   In the present paper, we introduce the multid...   \n",
       "16502  In the first case and under special assumption...   \n",
       "17091   We prove well-posedness of linear scalar cons...   \n",
       "68469  As its continuum version, we prove an isomorph...   \n",
       "\n",
       "                                                       n  \n",
       "27623   We construct a bounded domain $\\Omega$ in $\\m...  \n",
       "20264   We prove the total positivity of the Narayana...  \n",
       "16502   The paper deals with output feedback stabiliz...  \n",
       "17091  Unstable behavior is `discouraged' by the runn...  \n",
       "68469  For each system, we derive a closed-form expre...  "
      ]
     },
     "execution_count": 2,
     "metadata": {},
     "output_type": "execute_result"
    }
   ],
   "source": [
    "df = pd.read_csv(\"anchor-arxiv-dataset.csv\", index_col=0)\n",
    "# TODO: the mathberta tokenizer also recognizes latex within [MATH]...[/MATH] -> convert latex markupp in titles accordingly\n",
    "df.sample(5)"
   ]
  },
  {
   "cell_type": "code",
   "execution_count": 3,
   "id": "d375f0ab-11ea-4afa-be28-f1287dc187cc",
   "metadata": {},
   "outputs": [
    {
     "name": "stdout",
     "output_type": "stream",
     "text": [
      "train: 73760 eval: 9221 test: 9221\n"
     ]
    }
   ],
   "source": [
    "X_treval, X_test = train_test_split(df, train_size=0.9, random_state=RANDOM_STATE)\n",
    "X_train, X_eval = train_test_split(X_treval, train_size=0.888889, random_state=RANDOM_STATE)\n",
    "print(\"train:\", len(X_train), \"eval:\", len(X_eval), \"test:\", len(X_test))"
   ]
  },
  {
   "cell_type": "code",
   "execution_count": 4,
   "id": "f13a203b-ec71-48a5-a4dc-d5729fd96ed5",
   "metadata": {},
   "outputs": [],
   "source": [
    "# prepare evaluation data\n",
    "eval_examples = X_eval.reset_index(drop=True).apply(lambda r: InputExample(texts=[r[\"a\"], r[\"p\"], r[\"n\"]]), axis=1)\n",
    "evaluator = evaluation.TripletEvaluator.from_input_examples(eval_examples)"
   ]
  },
  {
   "cell_type": "code",
   "execution_count": 5,
   "id": "f08b9ac6-b863-473d-8efb-a5894997ce23",
   "metadata": {},
   "outputs": [],
   "source": [
    "# prepare re-training: training data, loss\n",
    "retrain_examples = X_train.reset_index(drop=True).apply(lambda r: InputExample(texts=[r[\"a\"], r[\"p\"], r[\"n\"]]), axis=1)\n",
    "retrain_dataloader = DataLoader(retrain_examples, shuffle=True, batch_size=8)\n",
    "retrain_loss = losses.TripletLoss(model=MODEL, triplet_margin=5) # TODO: triplet_margin: hyperparameter to optimize"
   ]
  },
  {
   "cell_type": "code",
   "execution_count": 6,
   "id": "79a31f6d-20ce-4786-9d3e-d4148257b610",
   "metadata": {},
   "outputs": [
    {
     "data": {
      "application/vnd.jupyter.widget-view+json": {
       "model_id": "c1dfeee01cb6424d8a0970baa6bbd8c1",
       "version_major": 2,
       "version_minor": 0
      },
      "text/plain": [
       "Epoch:   0%|          | 0/10 [00:00<?, ?it/s]"
      ]
     },
     "metadata": {},
     "output_type": "display_data"
    },
    {
     "data": {
      "application/vnd.jupyter.widget-view+json": {
       "model_id": "689fdce600ed4c6ab02df30a4dbbd9d1",
       "version_major": 2,
       "version_minor": 0
      },
      "text/plain": [
       "Iteration:   0%|          | 0/9220 [00:00<?, ?it/s]"
      ]
     },
     "metadata": {},
     "output_type": "display_data"
    },
    {
     "data": {
      "application/vnd.jupyter.widget-view+json": {
       "model_id": "e5aed22bf55340dbb74bd9e1c0b463b1",
       "version_major": 2,
       "version_minor": 0
      },
      "text/plain": [
       "Iteration:   0%|          | 0/9220 [00:00<?, ?it/s]"
      ]
     },
     "metadata": {},
     "output_type": "display_data"
    },
    {
     "data": {
      "application/vnd.jupyter.widget-view+json": {
       "model_id": "f605832e6f654a0fb90e17ff1d43ed97",
       "version_major": 2,
       "version_minor": 0
      },
      "text/plain": [
       "Iteration:   0%|          | 0/9220 [00:00<?, ?it/s]"
      ]
     },
     "metadata": {},
     "output_type": "display_data"
    },
    {
     "data": {
      "application/vnd.jupyter.widget-view+json": {
       "model_id": "eb94bf0b06d24e798ea1f77d0c475331",
       "version_major": 2,
       "version_minor": 0
      },
      "text/plain": [
       "Iteration:   0%|          | 0/9220 [00:00<?, ?it/s]"
      ]
     },
     "metadata": {},
     "output_type": "display_data"
    },
    {
     "data": {
      "application/vnd.jupyter.widget-view+json": {
       "model_id": "b3f88c1bd11f4e1e9cb41b8b281a71cb",
       "version_major": 2,
       "version_minor": 0
      },
      "text/plain": [
       "Iteration:   0%|          | 0/9220 [00:00<?, ?it/s]"
      ]
     },
     "metadata": {},
     "output_type": "display_data"
    },
    {
     "data": {
      "application/vnd.jupyter.widget-view+json": {
       "model_id": "2bc14a7d177d4506b8ac52e0b28cc62a",
       "version_major": 2,
       "version_minor": 0
      },
      "text/plain": [
       "Iteration:   0%|          | 0/9220 [00:00<?, ?it/s]"
      ]
     },
     "metadata": {},
     "output_type": "display_data"
    },
    {
     "data": {
      "application/vnd.jupyter.widget-view+json": {
       "model_id": "0037d123c2a34957b8d44643b6c91099",
       "version_major": 2,
       "version_minor": 0
      },
      "text/plain": [
       "Iteration:   0%|          | 0/9220 [00:00<?, ?it/s]"
      ]
     },
     "metadata": {},
     "output_type": "display_data"
    },
    {
     "data": {
      "application/vnd.jupyter.widget-view+json": {
       "model_id": "1c67287938b94bac98c7c53ce52ab4f4",
       "version_major": 2,
       "version_minor": 0
      },
      "text/plain": [
       "Iteration:   0%|          | 0/9220 [00:00<?, ?it/s]"
      ]
     },
     "metadata": {},
     "output_type": "display_data"
    },
    {
     "data": {
      "application/vnd.jupyter.widget-view+json": {
       "model_id": "d7f6db409da546e5a68aa4ab24155bd0",
       "version_major": 2,
       "version_minor": 0
      },
      "text/plain": [
       "Iteration:   0%|          | 0/9220 [00:00<?, ?it/s]"
      ]
     },
     "metadata": {},
     "output_type": "display_data"
    },
    {
     "data": {
      "application/vnd.jupyter.widget-view+json": {
       "model_id": "6af280e06e7c4e29a899e4e6e1453892",
       "version_major": 2,
       "version_minor": 0
      },
      "text/plain": [
       "Iteration:   0%|          | 0/9220 [00:00<?, ?it/s]"
      ]
     },
     "metadata": {},
     "output_type": "display_data"
    },
    {
     "name": "stdout",
     "output_type": "stream",
     "text": [
      "CPU times: user 10h 32min 28s, sys: 2h 2min 15s, total: 12h 34min 44s\n",
      "Wall time: 8h 53min 35s\n"
     ]
    }
   ],
   "source": [
    "%%time\n",
    "# finetune model\n",
    "MODEL.fit(train_objectives=[(retrain_dataloader, retrain_loss)], evaluator=evaluator, epochs=10,\n",
    "        output_path=\"specter2+mp+retrain_anchor_arxiv\") "
   ]
  },
  {
   "cell_type": "code",
   "execution_count": 7,
   "id": "c0881483-5bb2-4aa8-8fe8-914f815a4229",
   "metadata": {},
   "outputs": [
    {
     "name": "stdout",
     "output_type": "stream",
     "text": [
      "CPU times: user 4min 28s, sys: 15.7 s, total: 4min 43s\n",
      "Wall time: 1min 46s\n"
     ]
    },
    {
     "data": {
      "text/plain": [
       "0.8958898167226982"
      ]
     },
     "execution_count": 7,
     "metadata": {},
     "output_type": "execute_result"
    }
   ],
   "source": [
    "%%time\n",
    "# evaluate Spearman-Pearson-rank-coefficient on test data\n",
    "spear_ranc = MODEL.evaluate(evaluator)\n",
    "spear_ranc"
   ]
  }
 ],
 "metadata": {
  "kernelspec": {
   "display_name": "Python 3 (ipykernel)",
   "language": "python",
   "name": "python3"
  },
  "language_info": {
   "codemirror_mode": {
    "name": "ipython",
    "version": 3
   },
   "file_extension": ".py",
   "mimetype": "text/x-python",
   "name": "python",
   "nbconvert_exporter": "python",
   "pygments_lexer": "ipython3",
   "version": "3.9.19"
  }
 },
 "nbformat": 4,
 "nbformat_minor": 5
}
