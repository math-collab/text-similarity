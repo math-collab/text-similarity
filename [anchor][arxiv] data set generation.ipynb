{
 "cells": [
  {
   "cell_type": "code",
   "execution_count": 9,
   "id": "23fda201-e1d8-4799-86fe-8b5190f938f9",
   "metadata": {},
   "outputs": [
    {
     "data": {
      "text/plain": [
       "('1234567890.', 'of a political party, government or religion.')"
      ]
     },
     "execution_count": 9,
     "metadata": {},
     "output_type": "execute_result"
    }
   ],
   "source": [
    "import nltk.data\n",
    "import random\n",
    "import re\n",
    "\n",
    "\n",
    "def draw_sentences(s, n, min_len):\n",
    "    t = nltk.data.load('tokenizers/punkt/PY3/english.pickle')\n",
    "    ss = [sn.replace(\"\\n\", \" \") for sn in t.tokenize(re.sub(r\"\\s+\", \" \", s)) if len(sn) >= min_len]\n",
    "    try:\n",
    "        return tuple(random.sample(ss, n))\n",
    "    except Exception as e:\n",
    "        pass\n",
    "    return tuple([\"\"]*n)\n",
    "\n",
    "draw_sentences(\"1234567890. \"\n",
    "    \"Disagreement with the ideas, doctrines, decrees, etc. of a political party, government or religion. \"\n",
    "    \"An act of disagreeing with, or deviating from, the views and opinions of those holding authority. \"\n",
    "    \"(Anglo-American common law) A separate opinion filed in a case by judges who disagree with the outcome of the majority of the court in that case. \"\n",
    "    \"(sports) A violation that arises when disagreement with an official call is expressed in an inappropriate manner such as foul language, rude gestures, of failure to comply.\", 2, 10)"
   ]
  },
  {
   "cell_type": "code",
   "execution_count": 7,
   "id": "e7294708-2dac-4924-8fa0-a6f58c39ab4c",
   "metadata": {},
   "outputs": [],
   "source": [
    "import itertools\n",
    "import json\n",
    "import random\n",
    "import re\n",
    "import zipfile\n",
    "\n",
    "import nltk.data\n",
    "import pandas as pd\n",
    "\n",
    "from tqdm.auto import tqdm\n",
    "tqdm.pandas()\n",
    "\n",
    "# if you get an error\n",
    "# nltk.download('punkt')\n",
    "\n",
    "ARXIV_ZIP = \"arxiv dump/arxiv-metadata-oai-snapshot-version111.json.zip\"\n",
    "DUMP_JSON = \"arxiv-metadata-oai-snapshot.json\"\n",
    "RANDOM_STATE = 1\n",
    "\n",
    "random.seed(RANDOM_STATE)\n",
    "\n",
    "\n",
    "def draw_sentences(s, n, min_len):\n",
    "    t = nltk.data.load('tokenizers/punkt/PY3/english.pickle')\n",
    "    ss = [sn.replace(\"\\n\", \" \") for sn in t.tokenize(re.sub(r\"\\s+\", \" \", s)) if len(sn) >= min_len]\n",
    "    try:\n",
    "        return tuple(random.sample(ss, n))\n",
    "    except Exception as e:\n",
    "        pass\n",
    "    return tuple([\"\"]*n)\n",
    "    \n",
    "\n",
    "def draw(df, cat, min_len=10, ratio=0.1, random_state=None):\n",
    "    sdf = df[df[\"categories\"].map(lambda c: cat in c)]\n",
    "    if len(sdf)==0:\n",
    "        return pd.DataFrame()\n",
    "    num_samples = int(len(sdf)*ratio)\n",
    "    if num_samples == 0:\n",
    "        num_samples = 1\n",
    "    samples = sdf.sample(num_samples, random_state=RANDOM_STATE)\n",
    "    samples[\"a\"], samples[\"p\"] = zip(*samples[\"abstract\"].map(lambda c: draw_sentences(c, 2, min_len)))\n",
    "    samples[\"n\"] = list(tqdm(map(lambda c: draw_sentences(random.sample(tuple(sdf[sdf[\"title\"] != c][\"abstract\"].values), 1)[0], 1, min_len)[0], samples[\"title\"].values), total=len(samples[\"title\"]), desc=cat))\n",
    "    return samples"
   ]
  },
  {
   "cell_type": "markdown",
   "id": "72e548ed-0837-4d6b-bfd9-a7b1a8da7951",
   "metadata": {},
   "source": [
    "## Read publications from zipped arXiv JSON-dump"
   ]
  },
  {
   "cell_type": "code",
   "execution_count": 2,
   "id": "2be0feb7-74e3-4d5e-9218-71565ab77682",
   "metadata": {},
   "outputs": [
    {
     "data": {
      "application/vnd.jupyter.widget-view+json": {
       "model_id": "45c1592e64fc4f2797c768055aa62dfd",
       "version_major": 2,
       "version_minor": 0
      },
      "text/plain": [
       "arxiv-metadata-oai-snapshot.json:   0%|          | 0.00/3.37G [00:00<?, ?b/s]"
      ]
     },
     "metadata": {},
     "output_type": "display_data"
    },
    {
     "name": "stdout",
     "output_type": "stream",
     "text": [
      "CPU times: user 7min 36s, sys: 9.04 s, total: 7min 45s\n",
      "Wall time: 7min 43s\n"
     ]
    }
   ],
   "source": [
    "%%time\n",
    "dfs = []\n",
    "with zipfile.ZipFile(ARXIV_ZIP) as za:\n",
    "    with tqdm(total=za.getinfo(DUMP_JSON).file_size, unit=\"b\", unit_divisor=1024, unit_scale=True, desc=DUMP_JSON) as pb:\n",
    "        with za.open(DUMP_JSON) as f:       \n",
    "            for l in f:\n",
    "                j = json.loads(l)\n",
    "                dfs.append(pd.DataFrame([[j[\"title\"], j[\"abstract\"], j[\"categories\"], j[\"doi\"]]], columns=[\"title\", \"abstract\", \"categories\", \"doi\"]))\n",
    "                pb.update(len(l))\n",
    "df = pd.concat(dfs, ignore_index=True).reset_index(drop=True)"
   ]
  },
  {
   "cell_type": "code",
   "execution_count": 3,
   "id": "505380a1-19fe-438e-891e-f52509fe282a",
   "metadata": {},
   "outputs": [
    {
     "data": {
      "text/html": [
       "<div>\n",
       "<style scoped>\n",
       "    .dataframe tbody tr th:only-of-type {\n",
       "        vertical-align: middle;\n",
       "    }\n",
       "\n",
       "    .dataframe tbody tr th {\n",
       "        vertical-align: top;\n",
       "    }\n",
       "\n",
       "    .dataframe thead th {\n",
       "        text-align: right;\n",
       "    }\n",
       "</style>\n",
       "<table border=\"1\" class=\"dataframe\">\n",
       "  <thead>\n",
       "    <tr style=\"text-align: right;\">\n",
       "      <th></th>\n",
       "      <th>title</th>\n",
       "      <th>abstract</th>\n",
       "      <th>categories</th>\n",
       "      <th>doi</th>\n",
       "    </tr>\n",
       "  </thead>\n",
       "  <tbody>\n",
       "    <tr>\n",
       "      <th>1067979</th>\n",
       "      <td>Open Power System Data - Frictionless data for...</td>\n",
       "      <td>The quality of electricity system modelling ...</td>\n",
       "      <td>(cs.CY,)</td>\n",
       "      <td>10.1016/j.apenergy.2018.11.097</td>\n",
       "    </tr>\n",
       "    <tr>\n",
       "      <th>199986</th>\n",
       "      <td>F_2^bbbar measurement at ZEUS</td>\n",
       "      <td>Two recent measurements of beauty production...</td>\n",
       "      <td>(hep-ex,)</td>\n",
       "      <td>None</td>\n",
       "    </tr>\n",
       "    <tr>\n",
       "      <th>1527128</th>\n",
       "      <td>OPIRL: Sample Efficient Off-Policy Inverse Rei...</td>\n",
       "      <td>Inverse Reinforcement Learning (IRL) is attr...</td>\n",
       "      <td>(cs.LG, cs.AI, cs.RO)</td>\n",
       "      <td>None</td>\n",
       "    </tr>\n",
       "    <tr>\n",
       "      <th>1842109</th>\n",
       "      <td>A model for OH(1720 MHz) masers associated wit...</td>\n",
       "      <td>OH(1720 MHz) masers unaccompanied by 1665/7 ...</td>\n",
       "      <td>(astro-ph,)</td>\n",
       "      <td>None</td>\n",
       "    </tr>\n",
       "    <tr>\n",
       "      <th>2090350</th>\n",
       "      <td>Green's formulas for cone differential operators</td>\n",
       "      <td>Green's formulas for elliptic cone different...</td>\n",
       "      <td>(math.AP,)</td>\n",
       "      <td>None</td>\n",
       "    </tr>\n",
       "  </tbody>\n",
       "</table>\n",
       "</div>"
      ],
      "text/plain": [
       "                                                     title  \\\n",
       "1067979  Open Power System Data - Frictionless data for...   \n",
       "199986                       F_2^bbbar measurement at ZEUS   \n",
       "1527128  OPIRL: Sample Efficient Off-Policy Inverse Rei...   \n",
       "1842109  A model for OH(1720 MHz) masers associated wit...   \n",
       "2090350   Green's formulas for cone differential operators   \n",
       "\n",
       "                                                  abstract  \\\n",
       "1067979    The quality of electricity system modelling ...   \n",
       "199986     Two recent measurements of beauty production...   \n",
       "1527128    Inverse Reinforcement Learning (IRL) is attr...   \n",
       "1842109    OH(1720 MHz) masers unaccompanied by 1665/7 ...   \n",
       "2090350    Green's formulas for elliptic cone different...   \n",
       "\n",
       "                    categories                             doi  \n",
       "1067979               (cs.CY,)  10.1016/j.apenergy.2018.11.097  \n",
       "199986               (hep-ex,)                            None  \n",
       "1527128  (cs.LG, cs.AI, cs.RO)                            None  \n",
       "1842109            (astro-ph,)                            None  \n",
       "2090350             (math.AP,)                            None  "
      ]
     },
     "execution_count": 3,
     "metadata": {},
     "output_type": "execute_result"
    }
   ],
   "source": [
    "# preprocessing\n",
    "df[\"categories\"] = df[\"categories\"].map(lambda c: tuple(c.split()))\n",
    "df.sample(5)"
   ]
  },
  {
   "cell_type": "code",
   "execution_count": 4,
   "id": "035d73bc-ba5c-4731-9eb8-248d6490a77d",
   "metadata": {},
   "outputs": [
    {
     "data": {
      "text/plain": [
       "2187423"
      ]
     },
     "execution_count": 4,
     "metadata": {},
     "output_type": "execute_result"
    }
   ],
   "source": [
    "len(df)"
   ]
  },
  {
   "cell_type": "markdown",
   "id": "2882e6b7-7467-4eae-ab5c-0eb2d7b8c6e9",
   "metadata": {},
   "source": [
    "## Draw triplet-samples per arXiv math category"
   ]
  },
  {
   "cell_type": "code",
   "execution_count": 7,
   "id": "55f47fae-ea3e-4abb-b09d-f1e8acc45dcd",
   "metadata": {},
   "outputs": [
    {
     "data": {
      "application/vnd.jupyter.widget-view+json": {
       "model_id": "8403b7c4cc7b44a08d6be9f4b9bf67e0",
       "version_major": 2,
       "version_minor": 0
      },
      "text/plain": [
       "Categories:   0%|          | 0/39 [00:00<?, ?it/s]"
      ]
     },
     "metadata": {},
     "output_type": "display_data"
    },
    {
     "data": {
      "application/vnd.jupyter.widget-view+json": {
       "model_id": "cebfb4184cb3457fa01b481c0e02e133",
       "version_major": 2,
       "version_minor": 0
      },
      "text/plain": [
       "math-ph:   0%|          | 0/7265 [00:00<?, ?it/s]"
      ]
     },
     "metadata": {},
     "output_type": "display_data"
    },
    {
     "data": {
      "application/vnd.jupyter.widget-view+json": {
       "model_id": "02a9167d83e14ca4b86ff9d3e2a60422",
       "version_major": 2,
       "version_minor": 0
      },
      "text/plain": [
       "math.AC:   0%|          | 0/1160 [00:00<?, ?it/s]"
      ]
     },
     "metadata": {},
     "output_type": "display_data"
    },
    {
     "data": {
      "application/vnd.jupyter.widget-view+json": {
       "model_id": "22ba937c8425434ca9654d902ce8b6f0",
       "version_major": 2,
       "version_minor": 0
      },
      "text/plain": [
       "math.AG:   0%|          | 0/4771 [00:00<?, ?it/s]"
      ]
     },
     "metadata": {},
     "output_type": "display_data"
    },
    {
     "data": {
      "application/vnd.jupyter.widget-view+json": {
       "model_id": "212b314046d346139af87871779e4144",
       "version_major": 2,
       "version_minor": 0
      },
      "text/plain": [
       "math.AP:   0%|          | 0/5413 [00:00<?, ?it/s]"
      ]
     },
     "metadata": {},
     "output_type": "display_data"
    },
    {
     "data": {
      "application/vnd.jupyter.widget-view+json": {
       "model_id": "0c9b747e93774dc2a0e2e0b1d8d85c42",
       "version_major": 2,
       "version_minor": 0
      },
      "text/plain": [
       "math.CT:   0%|          | 0/742 [00:00<?, ?it/s]"
      ]
     },
     "metadata": {},
     "output_type": "display_data"
    },
    {
     "data": {
      "application/vnd.jupyter.widget-view+json": {
       "model_id": "dc1fd8715cb04f1c8a46ff145c53e0d1",
       "version_major": 2,
       "version_minor": 0
      },
      "text/plain": [
       "math.CV:   0%|          | 0/1542 [00:00<?, ?it/s]"
      ]
     },
     "metadata": {},
     "output_type": "display_data"
    },
    {
     "data": {
      "application/vnd.jupyter.widget-view+json": {
       "model_id": "1d601fda2d634b62af43a1d095c0f92c",
       "version_major": 2,
       "version_minor": 0
      },
      "text/plain": [
       "math.DG:   0%|          | 0/3828 [00:00<?, ?it/s]"
      ]
     },
     "metadata": {},
     "output_type": "display_data"
    },
    {
     "data": {
      "application/vnd.jupyter.widget-view+json": {
       "model_id": "24d74d8724634edaa17cef5d87c53b22",
       "version_major": 2,
       "version_minor": 0
      },
      "text/plain": [
       "math.DS:   0%|          | 0/3224 [00:00<?, ?it/s]"
      ]
     },
     "metadata": {},
     "output_type": "display_data"
    },
    {
     "data": {
      "application/vnd.jupyter.widget-view+json": {
       "model_id": "a1d4df847b79495daf834b3657236c65",
       "version_major": 2,
       "version_minor": 0
      },
      "text/plain": [
       "math.FA:   0%|          | 0/2775 [00:00<?, ?it/s]"
      ]
     },
     "metadata": {},
     "output_type": "display_data"
    },
    {
     "data": {
      "application/vnd.jupyter.widget-view+json": {
       "model_id": "31e3f07916db495f82984bd7b1929d2e",
       "version_major": 2,
       "version_minor": 0
      },
      "text/plain": [
       "math.GM:   0%|          | 0/353 [00:00<?, ?it/s]"
      ]
     },
     "metadata": {},
     "output_type": "display_data"
    },
    {
     "data": {
      "application/vnd.jupyter.widget-view+json": {
       "model_id": "dbe70649ea1d4b45803f7f898a3d833c",
       "version_major": 2,
       "version_minor": 0
      },
      "text/plain": [
       "math.GN:   0%|          | 0/461 [00:00<?, ?it/s]"
      ]
     },
     "metadata": {},
     "output_type": "display_data"
    },
    {
     "data": {
      "application/vnd.jupyter.widget-view+json": {
       "model_id": "bed88c1a9d9740739c09cf8a97c60b91",
       "version_major": 2,
       "version_minor": 0
      },
      "text/plain": [
       "math.GR:   0%|          | 0/1988 [00:00<?, ?it/s]"
      ]
     },
     "metadata": {},
     "output_type": "display_data"
    },
    {
     "data": {
      "application/vnd.jupyter.widget-view+json": {
       "model_id": "3adf9e7ba41345a5b72d3fe22a2a4ff0",
       "version_major": 2,
       "version_minor": 0
      },
      "text/plain": [
       "math.GT:   0%|          | 0/2076 [00:00<?, ?it/s]"
      ]
     },
     "metadata": {},
     "output_type": "display_data"
    },
    {
     "data": {
      "application/vnd.jupyter.widget-view+json": {
       "model_id": "66b20f5b6cc845828c3f06dd0ab88642",
       "version_major": 2,
       "version_minor": 0
      },
      "text/plain": [
       "math.HO:   0%|          | 0/322 [00:00<?, ?it/s]"
      ]
     },
     "metadata": {},
     "output_type": "display_data"
    },
    {
     "data": {
      "application/vnd.jupyter.widget-view+json": {
       "model_id": "daae4fadcadd4fd790d58276746b3c76",
       "version_major": 2,
       "version_minor": 0
      },
      "text/plain": [
       "math.IT:   0%|          | 0/4134 [00:00<?, ?it/s]"
      ]
     },
     "metadata": {},
     "output_type": "display_data"
    },
    {
     "data": {
      "application/vnd.jupyter.widget-view+json": {
       "model_id": "26e8aa20145b422b9b7261b4a22597e4",
       "version_major": 2,
       "version_minor": 0
      },
      "text/plain": [
       "math.KT:   0%|          | 0/540 [00:00<?, ?it/s]"
      ]
     },
     "metadata": {},
     "output_type": "display_data"
    },
    {
     "data": {
      "application/vnd.jupyter.widget-view+json": {
       "model_id": "84dd00119443463aa6dac926a30bbd09",
       "version_major": 2,
       "version_minor": 0
      },
      "text/plain": [
       "math.LO:   0%|          | 0/1167 [00:00<?, ?it/s]"
      ]
     },
     "metadata": {},
     "output_type": "display_data"
    },
    {
     "data": {
      "application/vnd.jupyter.widget-view+json": {
       "model_id": "e8439e1ab68546f982236f9a55a6f8a8",
       "version_major": 2,
       "version_minor": 0
      },
      "text/plain": [
       "math.MG:   0%|          | 0/997 [00:00<?, ?it/s]"
      ]
     },
     "metadata": {},
     "output_type": "display_data"
    },
    {
     "data": {
      "application/vnd.jupyter.widget-view+json": {
       "model_id": "fee798722c4f43af9e7981c469bad468",
       "version_major": 2,
       "version_minor": 0
      },
      "text/plain": [
       "math.MP:   0%|          | 0/7265 [00:00<?, ?it/s]"
      ]
     },
     "metadata": {},
     "output_type": "display_data"
    },
    {
     "data": {
      "application/vnd.jupyter.widget-view+json": {
       "model_id": "6e8374c507e84e8f85cd0a9f890a1eee",
       "version_major": 2,
       "version_minor": 0
      },
      "text/plain": [
       "math.NA:   0%|          | 0/3138 [00:00<?, ?it/s]"
      ]
     },
     "metadata": {},
     "output_type": "display_data"
    },
    {
     "data": {
      "application/vnd.jupyter.widget-view+json": {
       "model_id": "7182c0f0616040d4a195df8a3952d5aa",
       "version_major": 2,
       "version_minor": 0
      },
      "text/plain": [
       "math.NT:   0%|          | 0/3713 [00:00<?, ?it/s]"
      ]
     },
     "metadata": {},
     "output_type": "display_data"
    },
    {
     "data": {
      "application/vnd.jupyter.widget-view+json": {
       "model_id": "294e6424288942f59f0405dc6c2d4cad",
       "version_major": 2,
       "version_minor": 0
      },
      "text/plain": [
       "math.OA:   0%|          | 0/1155 [00:00<?, ?it/s]"
      ]
     },
     "metadata": {},
     "output_type": "display_data"
    },
    {
     "data": {
      "application/vnd.jupyter.widget-view+json": {
       "model_id": "6b47e02b97c44106a16bdd2a193b47c4",
       "version_major": 2,
       "version_minor": 0
      },
      "text/plain": [
       "math.OC:   0%|          | 0/3989 [00:00<?, ?it/s]"
      ]
     },
     "metadata": {},
     "output_type": "display_data"
    },
    {
     "data": {
      "application/vnd.jupyter.widget-view+json": {
       "model_id": "5627809914e941dcaaf428e46bf8b857",
       "version_major": 2,
       "version_minor": 0
      },
      "text/plain": [
       "math.PR:   0%|          | 0/5006 [00:00<?, ?it/s]"
      ]
     },
     "metadata": {},
     "output_type": "display_data"
    },
    {
     "data": {
      "application/vnd.jupyter.widget-view+json": {
       "model_id": "146c123ab4ba4c0a96686244b25df94c",
       "version_major": 2,
       "version_minor": 0
      },
      "text/plain": [
       "math.QA:   0%|          | 0/1771 [00:00<?, ?it/s]"
      ]
     },
     "metadata": {},
     "output_type": "display_data"
    },
    {
     "data": {
      "application/vnd.jupyter.widget-view+json": {
       "model_id": "06f36a3869f24b738beb3b6b2474fabc",
       "version_major": 2,
       "version_minor": 0
      },
      "text/plain": [
       "math.RA:   0%|          | 0/1558 [00:00<?, ?it/s]"
      ]
     },
     "metadata": {},
     "output_type": "display_data"
    },
    {
     "data": {
      "application/vnd.jupyter.widget-view+json": {
       "model_id": "cbeb06f16fe948a68bf23003cc3797ba",
       "version_major": 2,
       "version_minor": 0
      },
      "text/plain": [
       "math.RT:   0%|          | 0/2349 [00:00<?, ?it/s]"
      ]
     },
     "metadata": {},
     "output_type": "display_data"
    },
    {
     "data": {
      "application/vnd.jupyter.widget-view+json": {
       "model_id": "1212d945f98741b4bbe8491728c58384",
       "version_major": 2,
       "version_minor": 0
      },
      "text/plain": [
       "math.SG:   0%|          | 0/830 [00:00<?, ?it/s]"
      ]
     },
     "metadata": {},
     "output_type": "display_data"
    },
    {
     "data": {
      "application/vnd.jupyter.widget-view+json": {
       "model_id": "4c41c0266c4944f79f0808ec95b8c175",
       "version_major": 2,
       "version_minor": 0
      },
      "text/plain": [
       "math.SP:   0%|          | 0/876 [00:00<?, ?it/s]"
      ]
     },
     "metadata": {},
     "output_type": "display_data"
    },
    {
     "data": {
      "application/vnd.jupyter.widget-view+json": {
       "model_id": "d026342ca7d74b018b349433a1ee5d66",
       "version_major": 2,
       "version_minor": 0
      },
      "text/plain": [
       "math.ST:   0%|          | 0/2004 [00:00<?, ?it/s]"
      ]
     },
     "metadata": {},
     "output_type": "display_data"
    },
    {
     "data": {
      "application/vnd.jupyter.widget-view+json": {
       "model_id": "0a9cb8d8086944c7a84914b5165ce6db",
       "version_major": 2,
       "version_minor": 0
      },
      "text/plain": [
       "stat.AP:   0%|          | 0/1548 [00:00<?, ?it/s]"
      ]
     },
     "metadata": {},
     "output_type": "display_data"
    },
    {
     "data": {
      "application/vnd.jupyter.widget-view+json": {
       "model_id": "3b077c28a90f4a0d8de359f6b4907870",
       "version_major": 2,
       "version_minor": 0
      },
      "text/plain": [
       "stat.CO:   0%|          | 0/704 [00:00<?, ?it/s]"
      ]
     },
     "metadata": {},
     "output_type": "display_data"
    },
    {
     "data": {
      "application/vnd.jupyter.widget-view+json": {
       "model_id": "26b904e27de246929920525d0c832acd",
       "version_major": 2,
       "version_minor": 0
      },
      "text/plain": [
       "stat.ME:   0%|          | 0/2168 [00:00<?, ?it/s]"
      ]
     },
     "metadata": {},
     "output_type": "display_data"
    },
    {
     "data": {
      "application/vnd.jupyter.widget-view+json": {
       "model_id": "f19ae66b31e2465f9a3225eb7a2cf51b",
       "version_major": 2,
       "version_minor": 0
      },
      "text/plain": [
       "stat.ML:   0%|          | 0/5735 [00:00<?, ?it/s]"
      ]
     },
     "metadata": {},
     "output_type": "display_data"
    },
    {
     "data": {
      "application/vnd.jupyter.widget-view+json": {
       "model_id": "07060bb832ee43ca80a8f9c64f843c87",
       "version_major": 2,
       "version_minor": 0
      },
      "text/plain": [
       "stat.OT:   0%|          | 0/113 [00:00<?, ?it/s]"
      ]
     },
     "metadata": {},
     "output_type": "display_data"
    },
    {
     "data": {
      "application/vnd.jupyter.widget-view+json": {
       "model_id": "a153a20844b04ef09924d76447f08df2",
       "version_major": 2,
       "version_minor": 0
      },
      "text/plain": [
       "stat.TH:   0%|          | 0/2004 [00:00<?, ?it/s]"
      ]
     },
     "metadata": {},
     "output_type": "display_data"
    },
    {
     "name": "stdout",
     "output_type": "stream",
     "text": [
      "num examples: 92202\n",
      "unique a: 89350\n",
      "unique p: 89293\n",
      "unique n: 89865\n",
      "unique a & p 172826\n",
      "unique a & p & n 255671\n",
      "CPU times: user 11min 59s, sys: 6.33 s, total: 12min 6s\n",
      "Wall time: 12min 2s\n"
     ]
    }
   ],
   "source": [
    "%%time\n",
    "math_cats = sorted([c for c in set(itertools.chain.from_iterable(df[\"categories\"])) if c.startswith(\"math\") or c.startswith(\"stat\")])\n",
    "# draw samples per math class\n",
    "math_dfs = dict(tqdm(((c, draw(df, c, min_len=35, random_state=RANDOM_STATE)) for c in math_cats), total=len(math_cats), desc=\"Categories\"))\n",
    "#{ k: draw(df, k, min_len=35, random_state=RANDOM_STATE) for k in set(itertools.chain.from_iterable(df[\"categories\"])) if k.startswith(\"math\") or k.startswith(\"stat\") }\n",
    "\n",
    "# combine results as final dataset\n",
    "math_dataset = pd.concat(math_dfs.values(), ignore_index=True)\n",
    "# remove rows with empty a, p, or n column\n",
    "math_dataset = math_dataset[(math_dataset[\"a\"] != \"\") & (math_dataset[\"p\"] != \"\") & (math_dataset[\"n\"] != \"\")].reset_index(drop=True)\n",
    "\n",
    "print(\"num examples:\", len(math_dataset))\n",
    "print(\"unique a:\", len(math_dataset[\"a\"].unique()))\n",
    "print(\"unique p:\", len(math_dataset[\"p\"].unique()))\n",
    "print(\"unique n:\", len(math_dataset[\"n\"].unique()))\n",
    "print(\"unique a & p\", len(pd.concat([math_dataset[\"a\"], math_dataset[\"p\"]], ignore_index=True).unique()))\n",
    "print(\"unique a & p & n\", len(pd.concat([math_dataset[\"a\"], math_dataset[\"p\"], math_dataset[\"n\"]], ignore_index=True).unique()))"
   ]
  },
  {
   "cell_type": "code",
   "execution_count": 8,
   "id": "88b1ab7c-3458-4762-9f99-69ae9c3ec30e",
   "metadata": {},
   "outputs": [
    {
     "data": {
      "text/html": [
       "<div>\n",
       "<style scoped>\n",
       "    .dataframe tbody tr th:only-of-type {\n",
       "        vertical-align: middle;\n",
       "    }\n",
       "\n",
       "    .dataframe tbody tr th {\n",
       "        vertical-align: top;\n",
       "    }\n",
       "\n",
       "    .dataframe thead th {\n",
       "        text-align: right;\n",
       "    }\n",
       "</style>\n",
       "<table border=\"1\" class=\"dataframe\">\n",
       "  <thead>\n",
       "    <tr style=\"text-align: right;\">\n",
       "      <th></th>\n",
       "      <th>title</th>\n",
       "      <th>abstract</th>\n",
       "      <th>categories</th>\n",
       "      <th>doi</th>\n",
       "      <th>a</th>\n",
       "      <th>p</th>\n",
       "      <th>n</th>\n",
       "    </tr>\n",
       "  </thead>\n",
       "  <tbody>\n",
       "    <tr>\n",
       "      <th>48677</th>\n",
       "      <td>A generalisation of the relation between zeros...</td>\n",
       "      <td>The zeros of the random Laurent series $1/\\m...</td>\n",
       "      <td>(math-ph, math.MP, math.PR)</td>\n",
       "      <td>None</td>\n",
       "      <td>The zeros of the random Laurent series $1/\\mu...</td>\n",
       "      <td>Since the correlation functions of the latter ...</td>\n",
       "      <td>In this limit, the power dissipated by the fie...</td>\n",
       "    </tr>\n",
       "    <tr>\n",
       "      <th>50760</th>\n",
       "      <td>Homogenization for a Class of Generalized Lang...</td>\n",
       "      <td>We study a class of systems whose dynamics a...</td>\n",
       "      <td>(math-ph, math.MP, math.PR)</td>\n",
       "      <td>10.1007/s10955-018-2192-9</td>\n",
       "      <td>The convergence results are obtained using the...</td>\n",
       "      <td>We apply our results to study thermophoresis o...</td>\n",
       "      <td>Motivated by this, we seek for explicit soluti...</td>\n",
       "    </tr>\n",
       "    <tr>\n",
       "      <th>26042</th>\n",
       "      <td>Global Dimension of Polynomial Rings in Partia...</td>\n",
       "      <td>For any free partially commutative monoid $M...</td>\n",
       "      <td>(math.CT, math.KT)</td>\n",
       "      <td>10.1007/s00233-010-9264-8</td>\n",
       "      <td>As a corollary, we generalize Hilbert's Syzygy...</td>\n",
       "      <td>For any free partially commutative monoid $M(...</td>\n",
       "      <td>A modified version of the join construction ca...</td>\n",
       "    </tr>\n",
       "    <tr>\n",
       "      <th>30353</th>\n",
       "      <td>Snapping elastic curves as a one-dimensional a...</td>\n",
       "      <td>In order to study a one-dimensional analogue...</td>\n",
       "      <td>(math.AP, math-ph, math.DG, math.MP)</td>\n",
       "      <td>10.1142/S0218202511005234</td>\n",
       "      <td>Each phase induces a preferred curvature to th...</td>\n",
       "      <td>The theoretical result is illustrated by some ...</td>\n",
       "      <td>We prove several vanishing theorems for a cla...</td>\n",
       "    </tr>\n",
       "    <tr>\n",
       "      <th>63552</th>\n",
       "      <td>Online Convex Optimization Using Coordinate De...</td>\n",
       "      <td>This paper considers the problem of online o...</td>\n",
       "      <td>(math.OC, cs.SY, eess.SY)</td>\n",
       "      <td>None</td>\n",
       "      <td>This paper considers the problem of online op...</td>\n",
       "      <td>Instead of solving the problem exactly at each...</td>\n",
       "      <td>The monograph can be useful for undergraduate ...</td>\n",
       "    </tr>\n",
       "    <tr>\n",
       "      <th>54172</th>\n",
       "      <td>A multisymplectic approach to defects in integ...</td>\n",
       "      <td>We introduce the concept of multisymplectic ...</td>\n",
       "      <td>(math-ph, hep-th, math.MP, nlin.SI)</td>\n",
       "      <td>10.1007/JHEP02(2015)088</td>\n",
       "      <td>Taking the nonlinear Schr\\\"odinger (NLS) equat...</td>\n",
       "      <td>It allows us to reinterpret the defect conditi...</td>\n",
       "      <td>We determine various new equivalence pairs for...</td>\n",
       "    </tr>\n",
       "    <tr>\n",
       "      <th>2703</th>\n",
       "      <td>Four-parameter families of complex Hadamard ma...</td>\n",
       "      <td>In this paper we provide a general method to...</td>\n",
       "      <td>(math-ph, math.MP, quant-ph)</td>\n",
       "      <td>None</td>\n",
       "      <td>Our approach is to write a 6-dimensional matri...</td>\n",
       "      <td>We hope that the problem of mutually unbiased ...</td>\n",
       "      <td>We prove that the $k$-particle density matrice...</td>\n",
       "    </tr>\n",
       "    <tr>\n",
       "      <th>57714</th>\n",
       "      <td>New efficient time-stepping schemes for the an...</td>\n",
       "      <td>In this paper, we propose and analyze a firs...</td>\n",
       "      <td>(math.NA, cs.NA)</td>\n",
       "      <td>None</td>\n",
       "      <td>That is, it only requires solving four linear ...</td>\n",
       "      <td>A detailed comparison with existing schemes is...</td>\n",
       "      <td>Some sharp inequalities of Gruss type for seq...</td>\n",
       "    </tr>\n",
       "    <tr>\n",
       "      <th>15432</th>\n",
       "      <td>Blow-up problems for nonlinear parabolic equat...</td>\n",
       "      <td>Let $G=(V,E)$ be a locally finite connected ...</td>\n",
       "      <td>(math.AP,)</td>\n",
       "      <td>None</td>\n",
       "      <td>The blow-up phenomenons of the equation are di...</td>\n",
       "      <td>Let $G=(V,E)$ be a locally finite connected w...</td>\n",
       "      <td>Additionally, we establish a blowup criterion ...</td>\n",
       "    </tr>\n",
       "    <tr>\n",
       "      <th>1940</th>\n",
       "      <td>The Galois coaction on the electron anomalous ...</td>\n",
       "      <td>Recently S. Laporta published a partial resu...</td>\n",
       "      <td>(math-ph, hep-th, math.MP, math.NT, quant-ph)</td>\n",
       "      <td>None</td>\n",
       "      <td>We prove this conjecture in the motivic setup.</td>\n",
       "      <td>The conversion into the $f$ alphabet relies on...</td>\n",
       "      <td>The rate of wear of the contact surface is des...</td>\n",
       "    </tr>\n",
       "  </tbody>\n",
       "</table>\n",
       "</div>"
      ],
      "text/plain": [
       "                                                   title  \\\n",
       "48677  A generalisation of the relation between zeros...   \n",
       "50760  Homogenization for a Class of Generalized Lang...   \n",
       "26042  Global Dimension of Polynomial Rings in Partia...   \n",
       "30353  Snapping elastic curves as a one-dimensional a...   \n",
       "63552  Online Convex Optimization Using Coordinate De...   \n",
       "54172  A multisymplectic approach to defects in integ...   \n",
       "2703   Four-parameter families of complex Hadamard ma...   \n",
       "57714  New efficient time-stepping schemes for the an...   \n",
       "15432  Blow-up problems for nonlinear parabolic equat...   \n",
       "1940   The Galois coaction on the electron anomalous ...   \n",
       "\n",
       "                                                abstract  \\\n",
       "48677    The zeros of the random Laurent series $1/\\m...   \n",
       "50760    We study a class of systems whose dynamics a...   \n",
       "26042    For any free partially commutative monoid $M...   \n",
       "30353    In order to study a one-dimensional analogue...   \n",
       "63552    This paper considers the problem of online o...   \n",
       "54172    We introduce the concept of multisymplectic ...   \n",
       "2703     In this paper we provide a general method to...   \n",
       "57714    In this paper, we propose and analyze a firs...   \n",
       "15432    Let $G=(V,E)$ be a locally finite connected ...   \n",
       "1940     Recently S. Laporta published a partial resu...   \n",
       "\n",
       "                                          categories  \\\n",
       "48677                    (math-ph, math.MP, math.PR)   \n",
       "50760                    (math-ph, math.MP, math.PR)   \n",
       "26042                             (math.CT, math.KT)   \n",
       "30353           (math.AP, math-ph, math.DG, math.MP)   \n",
       "63552                      (math.OC, cs.SY, eess.SY)   \n",
       "54172            (math-ph, hep-th, math.MP, nlin.SI)   \n",
       "2703                    (math-ph, math.MP, quant-ph)   \n",
       "57714                               (math.NA, cs.NA)   \n",
       "15432                                     (math.AP,)   \n",
       "1940   (math-ph, hep-th, math.MP, math.NT, quant-ph)   \n",
       "\n",
       "                             doi  \\\n",
       "48677                       None   \n",
       "50760  10.1007/s10955-018-2192-9   \n",
       "26042  10.1007/s00233-010-9264-8   \n",
       "30353  10.1142/S0218202511005234   \n",
       "63552                       None   \n",
       "54172    10.1007/JHEP02(2015)088   \n",
       "2703                        None   \n",
       "57714                       None   \n",
       "15432                       None   \n",
       "1940                        None   \n",
       "\n",
       "                                                       a  \\\n",
       "48677   The zeros of the random Laurent series $1/\\mu...   \n",
       "50760  The convergence results are obtained using the...   \n",
       "26042  As a corollary, we generalize Hilbert's Syzygy...   \n",
       "30353  Each phase induces a preferred curvature to th...   \n",
       "63552   This paper considers the problem of online op...   \n",
       "54172  Taking the nonlinear Schr\\\"odinger (NLS) equat...   \n",
       "2703   Our approach is to write a 6-dimensional matri...   \n",
       "57714  That is, it only requires solving four linear ...   \n",
       "15432  The blow-up phenomenons of the equation are di...   \n",
       "1940      We prove this conjecture in the motivic setup.   \n",
       "\n",
       "                                                       p  \\\n",
       "48677  Since the correlation functions of the latter ...   \n",
       "50760  We apply our results to study thermophoresis o...   \n",
       "26042   For any free partially commutative monoid $M(...   \n",
       "30353  The theoretical result is illustrated by some ...   \n",
       "63552  Instead of solving the problem exactly at each...   \n",
       "54172  It allows us to reinterpret the defect conditi...   \n",
       "2703   We hope that the problem of mutually unbiased ...   \n",
       "57714  A detailed comparison with existing schemes is...   \n",
       "15432   Let $G=(V,E)$ be a locally finite connected w...   \n",
       "1940   The conversion into the $f$ alphabet relies on...   \n",
       "\n",
       "                                                       n  \n",
       "48677  In this limit, the power dissipated by the fie...  \n",
       "50760  Motivated by this, we seek for explicit soluti...  \n",
       "26042  A modified version of the join construction ca...  \n",
       "30353   We prove several vanishing theorems for a cla...  \n",
       "63552  The monograph can be useful for undergraduate ...  \n",
       "54172  We determine various new equivalence pairs for...  \n",
       "2703   We prove that the $k$-particle density matrice...  \n",
       "57714   Some sharp inequalities of Gruss type for seq...  \n",
       "15432  Additionally, we establish a blowup criterion ...  \n",
       "1940   The rate of wear of the contact surface is des...  "
      ]
     },
     "execution_count": 8,
     "metadata": {},
     "output_type": "execute_result"
    }
   ],
   "source": [
    "math_dataset.sample(10)"
   ]
  },
  {
   "cell_type": "markdown",
   "id": "8503e5f6-5dc0-4026-a700-d75c5f855825",
   "metadata": {},
   "source": [
    "## Export dataset"
   ]
  },
  {
   "cell_type": "code",
   "execution_count": 9,
   "id": "b804d5e4-ad72-487e-bc84-20f67f50b9bd",
   "metadata": {},
   "outputs": [],
   "source": [
    "math_dataset.to_csv(\"anchor-arxiv-dataset.csv\")"
   ]
  },
  {
   "cell_type": "code",
   "execution_count": null,
   "id": "1dfe943d-233f-41e2-9d21-f283d9da7dda",
   "metadata": {},
   "outputs": [],
   "source": []
  },
  {
   "cell_type": "code",
   "execution_count": null,
   "id": "c26b7ecc-0ba4-4fed-9d17-0d3dcb3fa64b",
   "metadata": {},
   "outputs": [],
   "source": []
  }
 ],
 "metadata": {
  "kernelspec": {
   "display_name": "ML 22/12 (py3.10 cuda11.7 tf2.9)",
   "language": "python",
   "name": "ml_py3.10-cuda11.7-tf2.9"
  },
  "language_info": {
   "codemirror_mode": {
    "name": "ipython",
    "version": 3
   },
   "file_extension": ".py",
   "mimetype": "text/x-python",
   "name": "python",
   "nbconvert_exporter": "python",
   "pygments_lexer": "ipython3",
   "version": "3.10.8"
  }
 },
 "nbformat": 4,
 "nbformat_minor": 5
}
