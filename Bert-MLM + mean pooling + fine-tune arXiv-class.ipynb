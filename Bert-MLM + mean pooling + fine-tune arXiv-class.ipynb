{
 "cells": [
  {
   "cell_type": "code",
   "execution_count": 1,
   "id": "6c8295b0-a5d1-4ab1-8c3e-2dc6d1377558",
   "metadata": {},
   "outputs": [
    {
     "name": "stderr",
     "output_type": "stream",
     "text": [
      "2023-05-10 16:32:05.329025: I tensorflow/core/util/util.cc:169] oneDNN custom operations are on. You may see slightly different numerical results due to floating-point round-off errors from different computation orders. To turn them off, set the environment variable `TF_ENABLE_ONEDNN_OPTS=0`.\n",
      "Some weights of the model checkpoint at ./bert+re-train_mlm_abstracts_arxiv were not used when initializing BertModel: ['cls.predictions.transform.LayerNorm.bias', 'cls.predictions.decoder.bias', 'cls.predictions.transform.LayerNorm.weight', 'cls.predictions.bias', 'cls.predictions.transform.dense.bias', 'cls.predictions.transform.dense.weight', 'cls.predictions.decoder.weight']\n",
      "- This IS expected if you are initializing BertModel from the checkpoint of a model trained on another task or with another architecture (e.g. initializing a BertForSequenceClassification model from a BertForPreTraining model).\n",
      "- This IS NOT expected if you are initializing BertModel from the checkpoint of a model that you expect to be exactly identical (initializing a BertForSequenceClassification model from a BertForSequenceClassification model).\n",
      "Some weights of BertModel were not initialized from the model checkpoint at ./bert+re-train_mlm_abstracts_arxiv and are newly initialized: ['bert.pooler.dense.bias', 'bert.pooler.dense.weight']\n",
      "You should probably TRAIN this model on a down-stream task to be able to use it for predictions and inference.\n"
     ]
    }
   ],
   "source": [
    "import simi\n",
    "\n",
    "import pandas as pd\n",
    "from sentence_transformers import evaluation, losses, models, InputExample, SentenceTransformer\n",
    "from sklearn.model_selection import train_test_split\n",
    "from torch.utils.data import DataLoader\n",
    "\n",
    "EMBEDDING = models.Transformer('math-similarity/Bert-MLM_arXiv') # use model hosted on huggingface\n",
    "# EMBEDDING = models.Transformer('./bert+re-train_mlm_abstracts_arxiv') # use locally generated model\n",
    "POOLING = models.Pooling(EMBEDDING.get_word_embedding_dimension())\n",
    "# POOLING = models.Pooling(EMBEDDING.get_word_embedding_dimension(), pooling_mode=\"cls\") # CLS pooling\n",
    "\n",
    "MODEL = SentenceTransformer(modules=[EMBEDDING, POOLING])\n",
    "\n",
    "RANDOM_STATE = 1\n",
    "\n",
    "def similarity_scoring(df, model, append=False):\n",
    "    scores = df.apply(lambda r: simi.pairwise_cosine_similarity(simi.model_embeddings(model, [r[\"text_a\"], r[\"text_b\"]]))[0][0], axis=1)\n",
    "    scores = pd.Series(scores, index=df.index, name=\"cosine-sim\")\n",
    "    if append:\n",
    "        return df.merge(scores.to_frame(), left_index=True, right_index=True)\n",
    "    return scores"
   ]
  },
  {
   "cell_type": "code",
   "execution_count": 2,
   "id": "d1fb23dc-5e83-467f-bfb9-bf9611400db9",
   "metadata": {},
   "outputs": [
    {
     "data": {
      "text/html": [
       "<div>\n",
       "<style scoped>\n",
       "    .dataframe tbody tr th:only-of-type {\n",
       "        vertical-align: middle;\n",
       "    }\n",
       "\n",
       "    .dataframe tbody tr th {\n",
       "        vertical-align: top;\n",
       "    }\n",
       "\n",
       "    .dataframe thead th {\n",
       "        text-align: right;\n",
       "    }\n",
       "</style>\n",
       "<table border=\"1\" class=\"dataframe\">\n",
       "  <thead>\n",
       "    <tr style=\"text-align: right;\">\n",
       "      <th></th>\n",
       "      <th>label</th>\n",
       "      <th>categories_a</th>\n",
       "      <th>text_a</th>\n",
       "      <th>categories_b</th>\n",
       "      <th>text_b</th>\n",
       "    </tr>\n",
       "  </thead>\n",
       "  <tbody>\n",
       "    <tr>\n",
       "      <th>49557</th>\n",
       "      <td>1.0</td>\n",
       "      <td>('math.RT',)</td>\n",
       "      <td>Generic bases for cluster algebras and the Cha...</td>\n",
       "      <td>('math.RT',)</td>\n",
       "      <td>Super-representations of quivers and related p...</td>\n",
       "    </tr>\n",
       "    <tr>\n",
       "      <th>27681</th>\n",
       "      <td>1.0</td>\n",
       "      <td>('math.GM',)</td>\n",
       "      <td>Probabilistic approach to the distribution of ...</td>\n",
       "      <td>('math.GM',)</td>\n",
       "      <td>Random Distances Associated with Hexagons. In ...</td>\n",
       "    </tr>\n",
       "    <tr>\n",
       "      <th>39931</th>\n",
       "      <td>0.0</td>\n",
       "      <td>('math.OA',)</td>\n",
       "      <td>The Dixmier-Douady Class of Groupoid Crossed P...</td>\n",
       "      <td>('math.NT',)</td>\n",
       "      <td>Topological properties of $q$-analogues of mul...</td>\n",
       "    </tr>\n",
       "    <tr>\n",
       "      <th>5282</th>\n",
       "      <td>1.0</td>\n",
       "      <td>('math.AP',)</td>\n",
       "      <td>Convergence problem of Schr\\\"odinger equation ...</td>\n",
       "      <td>('math.AP',)</td>\n",
       "      <td>On the speed rate of convergence of solutions ...</td>\n",
       "    </tr>\n",
       "    <tr>\n",
       "      <th>39609</th>\n",
       "      <td>1.0</td>\n",
       "      <td>('math.OA',)</td>\n",
       "      <td>Stable isomorphism of dual operator spaces. We...</td>\n",
       "      <td>('math.OA',)</td>\n",
       "      <td>The Operator System Generated by Cuntz Isometr...</td>\n",
       "    </tr>\n",
       "  </tbody>\n",
       "</table>\n",
       "</div>"
      ],
      "text/plain": [
       "       label  categories_a                                             text_a  \\\n",
       "49557    1.0  ('math.RT',)  Generic bases for cluster algebras and the Cha...   \n",
       "27681    1.0  ('math.GM',)  Probabilistic approach to the distribution of ...   \n",
       "39931    0.0  ('math.OA',)  The Dixmier-Douady Class of Groupoid Crossed P...   \n",
       "5282     1.0  ('math.AP',)  Convergence problem of Schr\\\"odinger equation ...   \n",
       "39609    1.0  ('math.OA',)  Stable isomorphism of dual operator spaces. We...   \n",
       "\n",
       "       categories_b                                             text_b  \n",
       "49557  ('math.RT',)  Super-representations of quivers and related p...  \n",
       "27681  ('math.GM',)  Random Distances Associated with Hexagons. In ...  \n",
       "39931  ('math.NT',)  Topological properties of $q$-analogues of mul...  \n",
       "5282   ('math.AP',)  On the speed rate of convergence of solutions ...  \n",
       "39609  ('math.OA',)  The Operator System Generated by Cuntz Isometr...  "
      ]
     },
     "execution_count": 2,
     "metadata": {},
     "output_type": "execute_result"
    }
   ],
   "source": [
    "df = pd.read_csv(\"class-arxiv-dataset.csv\", index_col=0)\n",
    "df[\"label\"] = df[\"label\"].astype(\"float\")\n",
    "# TODO: the mathberta tokenizer also recognizes latex within [MATH]...[/MATH] -> convert latex markupp in titles accordingly\n",
    "df.sample(5)"
   ]
  },
  {
   "cell_type": "code",
   "execution_count": 3,
   "id": "d375f0ab-11ea-4afa-be28-f1287dc187cc",
   "metadata": {},
   "outputs": [
    {
     "name": "stdout",
     "output_type": "stream",
     "text": [
      "train: 43572 eval: 5447 test: 5447\n"
     ]
    }
   ],
   "source": [
    "X_treval, X_test = train_test_split(df, train_size=0.9, random_state=RANDOM_STATE)\n",
    "X_train, X_eval = train_test_split(X_treval, train_size=0.888889, random_state=RANDOM_STATE)\n",
    "print(\"train:\", len(X_train), \"eval:\", len(X_eval), \"test:\", len(X_test))"
   ]
  },
  {
   "cell_type": "code",
   "execution_count": 4,
   "id": "f13a203b-ec71-48a5-a4dc-d5729fd96ed5",
   "metadata": {},
   "outputs": [],
   "source": [
    "# prepare evaluation data\n",
    "eval_examples = X_eval.reset_index(drop=True).apply(lambda r: InputExample(texts=[r[\"text_a\"], r[\"text_b\"]], label=r[\"label\"]), axis=1)\n",
    "evaluator = evaluation.EmbeddingSimilarityEvaluator.from_input_examples(eval_examples)"
   ]
  },
  {
   "cell_type": "code",
   "execution_count": 5,
   "id": "f08b9ac6-b863-473d-8efb-a5894997ce23",
   "metadata": {},
   "outputs": [],
   "source": [
    "# prepare re-training: training data, loss\n",
    "retrain_examples = X_train.reset_index(drop=True).apply(lambda r: InputExample(texts=[r[\"text_a\"], r[\"text_b\"]], label=r[\"label\"]), axis=1)\n",
    "retrain_dataloader = DataLoader(retrain_examples, shuffle=True, batch_size=10)\n",
    "#retrain_loss = losses.SoftmaxLoss(model=MODEL, num_labels=2,\n",
    "#        sentence_embedding_dimension=MODEL.get_sentence_embedding_dimension())\n",
    "#retrain_loss = losses.ContrastiveLoss(model=MODEL)\n",
    "retrain_loss = losses.CosineSimilarityLoss(model=MODEL)"
   ]
  },
  {
   "cell_type": "code",
   "execution_count": 6,
   "id": "79a31f6d-20ce-4786-9d3e-d4148257b610",
   "metadata": {},
   "outputs": [
    {
     "data": {
      "application/vnd.jupyter.widget-view+json": {
       "model_id": "32528c36cd8f441487c1ff901262246f",
       "version_major": 2,
       "version_minor": 0
      },
      "text/plain": [
       "Epoch:   0%|          | 0/10 [00:00<?, ?it/s]"
      ]
     },
     "metadata": {},
     "output_type": "display_data"
    },
    {
     "data": {
      "application/vnd.jupyter.widget-view+json": {
       "model_id": "4b224e2c7eb14dddb0f2da2232019b01",
       "version_major": 2,
       "version_minor": 0
      },
      "text/plain": [
       "Iteration:   0%|          | 0/4358 [00:00<?, ?it/s]"
      ]
     },
     "metadata": {},
     "output_type": "display_data"
    },
    {
     "data": {
      "application/vnd.jupyter.widget-view+json": {
       "model_id": "d5c76fb624d54b178be9f5fba718c1ae",
       "version_major": 2,
       "version_minor": 0
      },
      "text/plain": [
       "Iteration:   0%|          | 0/4358 [00:00<?, ?it/s]"
      ]
     },
     "metadata": {},
     "output_type": "display_data"
    },
    {
     "data": {
      "application/vnd.jupyter.widget-view+json": {
       "model_id": "ec49246dc3ef42adb76bec4aef9e0bba",
       "version_major": 2,
       "version_minor": 0
      },
      "text/plain": [
       "Iteration:   0%|          | 0/4358 [00:00<?, ?it/s]"
      ]
     },
     "metadata": {},
     "output_type": "display_data"
    },
    {
     "data": {
      "application/vnd.jupyter.widget-view+json": {
       "model_id": "7c2ac514c8864d21bd3e2f2612c0526b",
       "version_major": 2,
       "version_minor": 0
      },
      "text/plain": [
       "Iteration:   0%|          | 0/4358 [00:00<?, ?it/s]"
      ]
     },
     "metadata": {},
     "output_type": "display_data"
    },
    {
     "data": {
      "application/vnd.jupyter.widget-view+json": {
       "model_id": "c4d02194eb4440d38e51d5cc14756e55",
       "version_major": 2,
       "version_minor": 0
      },
      "text/plain": [
       "Iteration:   0%|          | 0/4358 [00:00<?, ?it/s]"
      ]
     },
     "metadata": {},
     "output_type": "display_data"
    },
    {
     "data": {
      "application/vnd.jupyter.widget-view+json": {
       "model_id": "3478d0bb88af49bb9e7539c8187012c0",
       "version_major": 2,
       "version_minor": 0
      },
      "text/plain": [
       "Iteration:   0%|          | 0/4358 [00:00<?, ?it/s]"
      ]
     },
     "metadata": {},
     "output_type": "display_data"
    },
    {
     "data": {
      "application/vnd.jupyter.widget-view+json": {
       "model_id": "659d72ef8ddd4c6a9d261de14474430b",
       "version_major": 2,
       "version_minor": 0
      },
      "text/plain": [
       "Iteration:   0%|          | 0/4358 [00:00<?, ?it/s]"
      ]
     },
     "metadata": {},
     "output_type": "display_data"
    },
    {
     "data": {
      "application/vnd.jupyter.widget-view+json": {
       "model_id": "5498fd634ea54ddda60d1cbe869ffed8",
       "version_major": 2,
       "version_minor": 0
      },
      "text/plain": [
       "Iteration:   0%|          | 0/4358 [00:00<?, ?it/s]"
      ]
     },
     "metadata": {},
     "output_type": "display_data"
    },
    {
     "data": {
      "application/vnd.jupyter.widget-view+json": {
       "model_id": "972191b27d6643469b8c762b121b991c",
       "version_major": 2,
       "version_minor": 0
      },
      "text/plain": [
       "Iteration:   0%|          | 0/4358 [00:00<?, ?it/s]"
      ]
     },
     "metadata": {},
     "output_type": "display_data"
    },
    {
     "name": "stderr",
     "output_type": "stream",
     "text": [
      "IOPub message rate exceeded.\n",
      "The Jupyter server will temporarily stop sending output\n",
      "to the client in order to avoid crashing it.\n",
      "To change this limit, set the config variable\n",
      "`--ServerApp.iopub_msg_rate_limit`.\n",
      "\n",
      "Current values:\n",
      "ServerApp.iopub_msg_rate_limit=1000.0 (msgs/sec)\n",
      "ServerApp.rate_limit_window=3.0 (secs)\n",
      "\n"
     ]
    },
    {
     "name": "stdout",
     "output_type": "stream",
     "text": [
      "CPU times: user 14h 26min 42s, sys: 2h 8min 42s, total: 16h 35min 24s\n",
      "Wall time: 14h 59min 40s\n"
     ]
    }
   ],
   "source": [
    "%%time\n",
    "# finetune model\n",
    "MODEL.fit(train_objectives=[(retrain_dataloader, retrain_loss)], evaluator=evaluator, epochs=10,\n",
    "        output_path=\"bert+re-train_mlm_abstracts_arxiv+mean-pooling+retrain_class_arxiv\") "
   ]
  },
  {
   "cell_type": "code",
   "execution_count": 7,
   "id": "c0881483-5bb2-4aa8-8fe8-914f815a4229",
   "metadata": {},
   "outputs": [
    {
     "name": "stdout",
     "output_type": "stream",
     "text": [
      "CPU times: user 3min 33s, sys: 7.32 s, total: 3min 40s\n",
      "Wall time: 2min 12s\n"
     ]
    },
    {
     "data": {
      "text/plain": [
       "0.7971517440229714"
      ]
     },
     "execution_count": 7,
     "metadata": {},
     "output_type": "execute_result"
    }
   ],
   "source": [
    "%%time\n",
    "# evaluate Spearman-Pearson-rank-coefficient on test data\n",
    "spear_ranc = MODEL.evaluate(evaluator)\n",
    "spear_ranc"
   ]
  },
  {
   "cell_type": "code",
   "execution_count": 8,
   "id": "96f923dd-efec-4df5-b1e5-72399a3b866b",
   "metadata": {},
   "outputs": [
    {
     "name": "stdout",
     "output_type": "stream",
     "text": [
      "CPU times: user 3min 15s, sys: 2.98 s, total: 3min 18s\n",
      "Wall time: 2min 48s\n"
     ]
    }
   ],
   "source": [
    "%%time\n",
    "# evaluate model with test data\n",
    "X_test_score = similarity_scoring(X_test, MODEL, append=True)"
   ]
  },
  {
   "cell_type": "code",
   "execution_count": 9,
   "id": "4f21b364-27fe-43d5-96c2-d69db4d07f3c",
   "metadata": {},
   "outputs": [],
   "source": [
    "pd.set_option('display.max_colwidth', 160)"
   ]
  },
  {
   "cell_type": "code",
   "execution_count": 10,
   "id": "668707e7-400a-4efd-be37-c79b0374257b",
   "metadata": {},
   "outputs": [
    {
     "data": {
      "text/html": [
       "<div>\n",
       "<style scoped>\n",
       "    .dataframe tbody tr th:only-of-type {\n",
       "        vertical-align: middle;\n",
       "    }\n",
       "\n",
       "    .dataframe tbody tr th {\n",
       "        vertical-align: top;\n",
       "    }\n",
       "\n",
       "    .dataframe thead th {\n",
       "        text-align: right;\n",
       "    }\n",
       "</style>\n",
       "<table border=\"1\" class=\"dataframe\">\n",
       "  <thead>\n",
       "    <tr style=\"text-align: right;\">\n",
       "      <th></th>\n",
       "      <th>label</th>\n",
       "      <th>categories_a</th>\n",
       "      <th>text_a</th>\n",
       "      <th>categories_b</th>\n",
       "      <th>text_b</th>\n",
       "      <th>cosine-sim</th>\n",
       "    </tr>\n",
       "  </thead>\n",
       "  <tbody>\n",
       "    <tr>\n",
       "      <th>14175</th>\n",
       "      <td>1.0</td>\n",
       "      <td>('math.CO',)</td>\n",
       "      <td>On Weak Chromatic Polynomials of Mixed Graphs. A \\emph{mixed graph} is a graph with directed edges, called arcs, and undirected edges. A $k$-coloring of the...</td>\n",
       "      <td>('math.CO',)</td>\n",
       "      <td>Projective Equivalences of k-neighbourly Polytopes. We prove the following theorem, which is related to McMullen's problem on projective transformations of ...</td>\n",
       "      <td>0.998671</td>\n",
       "    </tr>\n",
       "    <tr>\n",
       "      <th>29240</th>\n",
       "      <td>1.0</td>\n",
       "      <td>('math.GR',)</td>\n",
       "      <td>Galois Theory - a first course. These notes are a self-contained introduction to Galois theory, designed for the student who has done a first course in abst...</td>\n",
       "      <td>('math.GR',)</td>\n",
       "      <td>On p-stability in groups and fusion systems. The aim of this paper is to generalise the notion of p-stability to fusion systems. We study the question how Q...</td>\n",
       "      <td>0.482188</td>\n",
       "    </tr>\n",
       "    <tr>\n",
       "      <th>31864</th>\n",
       "      <td>1.0</td>\n",
       "      <td>('math.KT',)</td>\n",
       "      <td>Controlled $K$-theory and $K$-Homology. An operator $T$ in a $C^*$-algebra is called an $\\epsilon$-projection if it satisfies $T=T^*$ and $\\|T^2-T\\|&lt;\\epsilo...</td>\n",
       "      <td>('math.KT',)</td>\n",
       "      <td>Cyclic homology of braided Hopf crossed products. Let k be a field, A a unitary associative k-algebra and V a k-vector space endowed with a distinguished el...</td>\n",
       "      <td>0.855590</td>\n",
       "    </tr>\n",
       "    <tr>\n",
       "      <th>48373</th>\n",
       "      <td>1.0</td>\n",
       "      <td>('math.RA',)</td>\n",
       "      <td>Simple subalgebras of simple special Jordan algebras. In this paper we determine all types and the canonical forms of simple subalgebras for each type of si...</td>\n",
       "      <td>('math.RA',)</td>\n",
       "      <td>Normalization of Quaternionic Polynomials. Quaternionic polynomials are generated by quaternionic variables and the quaternionic product. This paper propose...</td>\n",
       "      <td>0.681340</td>\n",
       "    </tr>\n",
       "    <tr>\n",
       "      <th>11994</th>\n",
       "      <td>1.0</td>\n",
       "      <td>('math.CA',)</td>\n",
       "      <td>On some Hadamard-Type Inequalities for Co-ordinated Convex Functions. In this paper, we prove some new inequalities of Hadamard-type for convex functions on...</td>\n",
       "      <td>('math.CA',)</td>\n",
       "      <td>Non-differentiable solutions for local fractional nonlinear Riccati differential equations. We investigate local fractional nonlinear Riccati differential e...</td>\n",
       "      <td>0.698279</td>\n",
       "    </tr>\n",
       "    <tr>\n",
       "      <th>48427</th>\n",
       "      <td>1.0</td>\n",
       "      <td>('math.RA',)</td>\n",
       "      <td>Basic superranks for varieties of algebras. We introduce the notion of basic superrank for varieties of algebras which generalizes that of basic rank. First...</td>\n",
       "      <td>('math.RA',)</td>\n",
       "      <td>A note on solvable maximal subgroups in subnormal subgroups of ${\\mathrm GL}_n(D)$. Let $D$ be a non-commutative division ring, $G$ a subnormal subgroup of ...</td>\n",
       "      <td>0.966041</td>\n",
       "    </tr>\n",
       "    <tr>\n",
       "      <th>22315</th>\n",
       "      <td>0.0</td>\n",
       "      <td>('math.DG',)</td>\n",
       "      <td>Tensor tomography on Cartan-Hadamard manifolds. We study the geodesic X-ray transform on Cartan-Hadamard manifolds, and prove solenoidal injectivity of this...</td>\n",
       "      <td>('math.OC',)</td>\n",
       "      <td>A new conical internal evolutive LP algorithm. In a previous paper, published in 1992, a primal conical LP algorithm with exact finite coonvergence was pres...</td>\n",
       "      <td>-0.015448</td>\n",
       "    </tr>\n",
       "    <tr>\n",
       "      <th>51367</th>\n",
       "      <td>1.0</td>\n",
       "      <td>('stat.AP',)</td>\n",
       "      <td>Data-driven dynamic treatment planning for chronic diseases. In order to deliver effective care, health management must consider the distinctive trajectorie...</td>\n",
       "      <td>('stat.AP',)</td>\n",
       "      <td>Statistical analysis of stellar evolution. Color-Magnitude Diagrams (CMDs) are plots that compare the magnitudes (luminosities) of stars in different wavele...</td>\n",
       "      <td>0.994058</td>\n",
       "    </tr>\n",
       "    <tr>\n",
       "      <th>39212</th>\n",
       "      <td>0.0</td>\n",
       "      <td>('math.NT',)</td>\n",
       "      <td>The distribution of spacings between the fractional parts of $\\boldsymbol{n^d\\alpha}$. We study the distribution of spacings between the fractional parts of...</td>\n",
       "      <td>('math.FA',)</td>\n",
       "      <td>Canonical graph contractions of linear relations on Hilbert spaces. Given a closed linear relation $T$ between two Hilbert spaces $\\mathcal H$ and $\\mathcal...</td>\n",
       "      <td>0.043190</td>\n",
       "    </tr>\n",
       "    <tr>\n",
       "      <th>51254</th>\n",
       "      <td>1.0</td>\n",
       "      <td>('stat.AP',)</td>\n",
       "      <td>Bayesian model averaging for mortality forecasting using leave-future-out validation. Predicting the evolution of mortality rates plays a central role for l...</td>\n",
       "      <td>('stat.AP',)</td>\n",
       "      <td>Selection of multiple donor gauges via Graphical Lasso for estimation of daily streamflow time series. A fundamental challenge in estimations of daily strea...</td>\n",
       "      <td>0.991670</td>\n",
       "    </tr>\n",
       "    <tr>\n",
       "      <th>51502</th>\n",
       "      <td>1.0</td>\n",
       "      <td>('stat.AP',)</td>\n",
       "      <td>Discussion of: Bayesian views of an archaeological find. Discussion of ``Statistical analysis of an archeological find'' by Andrey Feuerverger [arXiv:0804.0...</td>\n",
       "      <td>('stat.AP',)</td>\n",
       "      <td>A Bayesian Approach to Modelling Fine-Scale Spatial Dynamics of Non-State Terrorism: World Study, 2002-2013. To this day, terrorism persists as a worldwide ...</td>\n",
       "      <td>0.993976</td>\n",
       "    </tr>\n",
       "    <tr>\n",
       "      <th>3080</th>\n",
       "      <td>0.0</td>\n",
       "      <td>('math.AG',)</td>\n",
       "      <td>Vanishing theorems for parabolic Higgs bundles. This is a sequel to \"Kodaira-Saito vanishing via Higgs bundles in positive characteristic\" (arXiv:1611.09880...</td>\n",
       "      <td>('math.DG',)</td>\n",
       "      <td>$\\mathcal{W}$-Entropy formulae and differential Harnack estimates for porous medium equations on Riemannian manifolds. In this paper, we prove Perelman type...</td>\n",
       "      <td>-0.012972</td>\n",
       "    </tr>\n",
       "    <tr>\n",
       "      <th>13900</th>\n",
       "      <td>1.0</td>\n",
       "      <td>('math.CO',)</td>\n",
       "      <td>On linear sets of minimum size. An $\\mathbb{F}_q$-linear set of rank $k$ on a projective line $\\mathrm{PG}(1,q^h)$, containing at least one point of weight ...</td>\n",
       "      <td>('math.CO',)</td>\n",
       "      <td>Poly-Cauchy numbers -- the combinatorics behind. We introduce poly-Cauchy permutations that are enumerated by the poly-Cauchy numbers. We provide combinator...</td>\n",
       "      <td>0.998912</td>\n",
       "    </tr>\n",
       "    <tr>\n",
       "      <th>37052</th>\n",
       "      <td>1.0</td>\n",
       "      <td>('math.NT',)</td>\n",
       "      <td>Lower bounds for negative moments of $\\zeta'(\\rho)$. We establish lower bounds for the discrete $2k$-th moment of the derivative of the Riemann zeta functio...</td>\n",
       "      <td>('math.NT',)</td>\n",
       "      <td>Symmetric matrices related to the Mertens function. In this paper we explore a family of congruences over $\\N^\\ast$ from which one builds a sequence of symm...</td>\n",
       "      <td>0.996553</td>\n",
       "    </tr>\n",
       "    <tr>\n",
       "      <th>41744</th>\n",
       "      <td>0.0</td>\n",
       "      <td>('math.OC',)</td>\n",
       "      <td>Outer limits of subdifferentials for min-max type functions. We generalise the outer subdifferential constructon suggested by C\\'anovas, Henrion, L\\'opez an...</td>\n",
       "      <td>('math.PR',)</td>\n",
       "      <td>Asymptotic properties of power variations of L\\'{e}vy processes. We determine the asymptotic behavior of the realized power variations, or more generally of...</td>\n",
       "      <td>-0.008512</td>\n",
       "    </tr>\n",
       "  </tbody>\n",
       "</table>\n",
       "</div>"
      ],
      "text/plain": [
       "       label  categories_a  \\\n",
       "14175    1.0  ('math.CO',)   \n",
       "29240    1.0  ('math.GR',)   \n",
       "31864    1.0  ('math.KT',)   \n",
       "48373    1.0  ('math.RA',)   \n",
       "11994    1.0  ('math.CA',)   \n",
       "48427    1.0  ('math.RA',)   \n",
       "22315    0.0  ('math.DG',)   \n",
       "51367    1.0  ('stat.AP',)   \n",
       "39212    0.0  ('math.NT',)   \n",
       "51254    1.0  ('stat.AP',)   \n",
       "51502    1.0  ('stat.AP',)   \n",
       "3080     0.0  ('math.AG',)   \n",
       "13900    1.0  ('math.CO',)   \n",
       "37052    1.0  ('math.NT',)   \n",
       "41744    0.0  ('math.OC',)   \n",
       "\n",
       "                                                                                                                                                                text_a  \\\n",
       "14175  On Weak Chromatic Polynomials of Mixed Graphs. A \\emph{mixed graph} is a graph with directed edges, called arcs, and undirected edges. A $k$-coloring of the...   \n",
       "29240  Galois Theory - a first course. These notes are a self-contained introduction to Galois theory, designed for the student who has done a first course in abst...   \n",
       "31864  Controlled $K$-theory and $K$-Homology. An operator $T$ in a $C^*$-algebra is called an $\\epsilon$-projection if it satisfies $T=T^*$ and $\\|T^2-T\\|<\\epsilo...   \n",
       "48373  Simple subalgebras of simple special Jordan algebras. In this paper we determine all types and the canonical forms of simple subalgebras for each type of si...   \n",
       "11994  On some Hadamard-Type Inequalities for Co-ordinated Convex Functions. In this paper, we prove some new inequalities of Hadamard-type for convex functions on...   \n",
       "48427  Basic superranks for varieties of algebras. We introduce the notion of basic superrank for varieties of algebras which generalizes that of basic rank. First...   \n",
       "22315  Tensor tomography on Cartan-Hadamard manifolds. We study the geodesic X-ray transform on Cartan-Hadamard manifolds, and prove solenoidal injectivity of this...   \n",
       "51367  Data-driven dynamic treatment planning for chronic diseases. In order to deliver effective care, health management must consider the distinctive trajectorie...   \n",
       "39212  The distribution of spacings between the fractional parts of $\\boldsymbol{n^d\\alpha}$. We study the distribution of spacings between the fractional parts of...   \n",
       "51254  Bayesian model averaging for mortality forecasting using leave-future-out validation. Predicting the evolution of mortality rates plays a central role for l...   \n",
       "51502  Discussion of: Bayesian views of an archaeological find. Discussion of ``Statistical analysis of an archeological find'' by Andrey Feuerverger [arXiv:0804.0...   \n",
       "3080   Vanishing theorems for parabolic Higgs bundles. This is a sequel to \"Kodaira-Saito vanishing via Higgs bundles in positive characteristic\" (arXiv:1611.09880...   \n",
       "13900  On linear sets of minimum size. An $\\mathbb{F}_q$-linear set of rank $k$ on a projective line $\\mathrm{PG}(1,q^h)$, containing at least one point of weight ...   \n",
       "37052  Lower bounds for negative moments of $\\zeta'(\\rho)$. We establish lower bounds for the discrete $2k$-th moment of the derivative of the Riemann zeta functio...   \n",
       "41744  Outer limits of subdifferentials for min-max type functions. We generalise the outer subdifferential constructon suggested by C\\'anovas, Henrion, L\\'opez an...   \n",
       "\n",
       "       categories_b  \\\n",
       "14175  ('math.CO',)   \n",
       "29240  ('math.GR',)   \n",
       "31864  ('math.KT',)   \n",
       "48373  ('math.RA',)   \n",
       "11994  ('math.CA',)   \n",
       "48427  ('math.RA',)   \n",
       "22315  ('math.OC',)   \n",
       "51367  ('stat.AP',)   \n",
       "39212  ('math.FA',)   \n",
       "51254  ('stat.AP',)   \n",
       "51502  ('stat.AP',)   \n",
       "3080   ('math.DG',)   \n",
       "13900  ('math.CO',)   \n",
       "37052  ('math.NT',)   \n",
       "41744  ('math.PR',)   \n",
       "\n",
       "                                                                                                                                                                text_b  \\\n",
       "14175  Projective Equivalences of k-neighbourly Polytopes. We prove the following theorem, which is related to McMullen's problem on projective transformations of ...   \n",
       "29240  On p-stability in groups and fusion systems. The aim of this paper is to generalise the notion of p-stability to fusion systems. We study the question how Q...   \n",
       "31864  Cyclic homology of braided Hopf crossed products. Let k be a field, A a unitary associative k-algebra and V a k-vector space endowed with a distinguished el...   \n",
       "48373  Normalization of Quaternionic Polynomials. Quaternionic polynomials are generated by quaternionic variables and the quaternionic product. This paper propose...   \n",
       "11994  Non-differentiable solutions for local fractional nonlinear Riccati differential equations. We investigate local fractional nonlinear Riccati differential e...   \n",
       "48427  A note on solvable maximal subgroups in subnormal subgroups of ${\\mathrm GL}_n(D)$. Let $D$ be a non-commutative division ring, $G$ a subnormal subgroup of ...   \n",
       "22315  A new conical internal evolutive LP algorithm. In a previous paper, published in 1992, a primal conical LP algorithm with exact finite coonvergence was pres...   \n",
       "51367  Statistical analysis of stellar evolution. Color-Magnitude Diagrams (CMDs) are plots that compare the magnitudes (luminosities) of stars in different wavele...   \n",
       "39212  Canonical graph contractions of linear relations on Hilbert spaces. Given a closed linear relation $T$ between two Hilbert spaces $\\mathcal H$ and $\\mathcal...   \n",
       "51254  Selection of multiple donor gauges via Graphical Lasso for estimation of daily streamflow time series. A fundamental challenge in estimations of daily strea...   \n",
       "51502  A Bayesian Approach to Modelling Fine-Scale Spatial Dynamics of Non-State Terrorism: World Study, 2002-2013. To this day, terrorism persists as a worldwide ...   \n",
       "3080   $\\mathcal{W}$-Entropy formulae and differential Harnack estimates for porous medium equations on Riemannian manifolds. In this paper, we prove Perelman type...   \n",
       "13900  Poly-Cauchy numbers -- the combinatorics behind. We introduce poly-Cauchy permutations that are enumerated by the poly-Cauchy numbers. We provide combinator...   \n",
       "37052  Symmetric matrices related to the Mertens function. In this paper we explore a family of congruences over $\\N^\\ast$ from which one builds a sequence of symm...   \n",
       "41744  Asymptotic properties of power variations of L\\'{e}vy processes. We determine the asymptotic behavior of the realized power variations, or more generally of...   \n",
       "\n",
       "       cosine-sim  \n",
       "14175    0.998671  \n",
       "29240    0.482188  \n",
       "31864    0.855590  \n",
       "48373    0.681340  \n",
       "11994    0.698279  \n",
       "48427    0.966041  \n",
       "22315   -0.015448  \n",
       "51367    0.994058  \n",
       "39212    0.043190  \n",
       "51254    0.991670  \n",
       "51502    0.993976  \n",
       "3080    -0.012972  \n",
       "13900    0.998912  \n",
       "37052    0.996553  \n",
       "41744   -0.008512  "
      ]
     },
     "execution_count": 10,
     "metadata": {},
     "output_type": "execute_result"
    }
   ],
   "source": [
    "X_test_score.sample(15, random_state=RANDOM_STATE)"
   ]
  },
  {
   "cell_type": "code",
   "execution_count": 11,
   "id": "01bb8f38-d2a0-4253-8b4f-fa35857827ce",
   "metadata": {},
   "outputs": [
    {
     "data": {
      "text/html": [
       "<div>\n",
       "<style scoped>\n",
       "    .dataframe tbody tr th:only-of-type {\n",
       "        vertical-align: middle;\n",
       "    }\n",
       "\n",
       "    .dataframe tbody tr th {\n",
       "        vertical-align: top;\n",
       "    }\n",
       "\n",
       "    .dataframe thead th {\n",
       "        text-align: right;\n",
       "    }\n",
       "</style>\n",
       "<table border=\"1\" class=\"dataframe\">\n",
       "  <thead>\n",
       "    <tr style=\"text-align: right;\">\n",
       "      <th></th>\n",
       "      <th>label</th>\n",
       "      <th>cosine-sim</th>\n",
       "    </tr>\n",
       "  </thead>\n",
       "  <tbody>\n",
       "    <tr>\n",
       "      <th>count</th>\n",
       "      <td>2766.0</td>\n",
       "      <td>2766.000000</td>\n",
       "    </tr>\n",
       "    <tr>\n",
       "      <th>mean</th>\n",
       "      <td>1.0</td>\n",
       "      <td>0.782865</td>\n",
       "    </tr>\n",
       "    <tr>\n",
       "      <th>std</th>\n",
       "      <td>0.0</td>\n",
       "      <td>0.338063</td>\n",
       "    </tr>\n",
       "    <tr>\n",
       "      <th>min</th>\n",
       "      <td>1.0</td>\n",
       "      <td>-0.046600</td>\n",
       "    </tr>\n",
       "    <tr>\n",
       "      <th>25%</th>\n",
       "      <td>1.0</td>\n",
       "      <td>0.695575</td>\n",
       "    </tr>\n",
       "    <tr>\n",
       "      <th>50%</th>\n",
       "      <td>1.0</td>\n",
       "      <td>0.981008</td>\n",
       "    </tr>\n",
       "    <tr>\n",
       "      <th>75%</th>\n",
       "      <td>1.0</td>\n",
       "      <td>0.996659</td>\n",
       "    </tr>\n",
       "    <tr>\n",
       "      <th>max</th>\n",
       "      <td>1.0</td>\n",
       "      <td>0.999727</td>\n",
       "    </tr>\n",
       "  </tbody>\n",
       "</table>\n",
       "</div>"
      ],
      "text/plain": [
       "        label   cosine-sim\n",
       "count  2766.0  2766.000000\n",
       "mean      1.0     0.782865\n",
       "std       0.0     0.338063\n",
       "min       1.0    -0.046600\n",
       "25%       1.0     0.695575\n",
       "50%       1.0     0.981008\n",
       "75%       1.0     0.996659\n",
       "max       1.0     0.999727"
      ]
     },
     "execution_count": 11,
     "metadata": {},
     "output_type": "execute_result"
    }
   ],
   "source": [
    "X_test_score[X_test_score[\"label\"] == 1].describe()"
   ]
  },
  {
   "cell_type": "code",
   "execution_count": 12,
   "id": "711f67df-fe23-41cc-8d66-85bc80dea15c",
   "metadata": {},
   "outputs": [
    {
     "data": {
      "text/html": [
       "<div>\n",
       "<style scoped>\n",
       "    .dataframe tbody tr th:only-of-type {\n",
       "        vertical-align: middle;\n",
       "    }\n",
       "\n",
       "    .dataframe tbody tr th {\n",
       "        vertical-align: top;\n",
       "    }\n",
       "\n",
       "    .dataframe thead th {\n",
       "        text-align: right;\n",
       "    }\n",
       "</style>\n",
       "<table border=\"1\" class=\"dataframe\">\n",
       "  <thead>\n",
       "    <tr style=\"text-align: right;\">\n",
       "      <th></th>\n",
       "      <th>label</th>\n",
       "      <th>cosine-sim</th>\n",
       "    </tr>\n",
       "  </thead>\n",
       "  <tbody>\n",
       "    <tr>\n",
       "      <th>count</th>\n",
       "      <td>2681.0</td>\n",
       "      <td>2681.000000</td>\n",
       "    </tr>\n",
       "    <tr>\n",
       "      <th>mean</th>\n",
       "      <td>0.0</td>\n",
       "      <td>0.045728</td>\n",
       "    </tr>\n",
       "    <tr>\n",
       "      <th>std</th>\n",
       "      <td>0.0</td>\n",
       "      <td>0.168074</td>\n",
       "    </tr>\n",
       "    <tr>\n",
       "      <th>min</th>\n",
       "      <td>0.0</td>\n",
       "      <td>-0.054597</td>\n",
       "    </tr>\n",
       "    <tr>\n",
       "      <th>25%</th>\n",
       "      <td>0.0</td>\n",
       "      <td>-0.004623</td>\n",
       "    </tr>\n",
       "    <tr>\n",
       "      <th>50%</th>\n",
       "      <td>0.0</td>\n",
       "      <td>0.000386</td>\n",
       "    </tr>\n",
       "    <tr>\n",
       "      <th>75%</th>\n",
       "      <td>0.0</td>\n",
       "      <td>0.010570</td>\n",
       "    </tr>\n",
       "    <tr>\n",
       "      <th>max</th>\n",
       "      <td>0.0</td>\n",
       "      <td>0.998124</td>\n",
       "    </tr>\n",
       "  </tbody>\n",
       "</table>\n",
       "</div>"
      ],
      "text/plain": [
       "        label   cosine-sim\n",
       "count  2681.0  2681.000000\n",
       "mean      0.0     0.045728\n",
       "std       0.0     0.168074\n",
       "min       0.0    -0.054597\n",
       "25%       0.0    -0.004623\n",
       "50%       0.0     0.000386\n",
       "75%       0.0     0.010570\n",
       "max       0.0     0.998124"
      ]
     },
     "execution_count": 12,
     "metadata": {},
     "output_type": "execute_result"
    }
   ],
   "source": [
    "X_test_score[X_test_score[\"label\"] == 0].describe()"
   ]
  },
  {
   "cell_type": "code",
   "execution_count": 13,
   "id": "1b21b29c-763a-4110-8c18-aa45a55eddf8",
   "metadata": {},
   "outputs": [
    {
     "data": {
      "text/plain": [
       "<AxesSubplot:>"
      ]
     },
     "execution_count": 13,
     "metadata": {},
     "output_type": "execute_result"
    },
    {
     "data": {
      "image/png": "[encoded data removed]",
      "text/plain": [
       "<Figure size 640x480 with 1 Axes>"
      ]
     },
     "metadata": {},
     "output_type": "display_data"
    }
   ],
   "source": [
    "X_test_score[X_test_score[\"label\"] == 1].plot.box()"
   ]
  },
  {
   "cell_type": "code",
   "execution_count": 14,
   "id": "3482f390-930a-49dd-82e3-088638fb6fd9",
   "metadata": {},
   "outputs": [
    {
     "data": {
      "text/plain": [
       "<AxesSubplot:>"
      ]
     },
     "execution_count": 14,
     "metadata": {},
     "output_type": "execute_result"
    },
    {
     "data": {
      "image/png": "[encoded data removed]",
      "text/plain": [
       "<Figure size 640x480 with 1 Axes>"
      ]
     },
     "metadata": {},
     "output_type": "display_data"
    }
   ],
   "source": [
    "X_test_score[X_test_score[\"label\"] == 0].plot.box()"
   ]
  },
  {
   "cell_type": "code",
   "execution_count": null,
   "id": "bb4630a4-3e17-4f21-b945-8f07229653d3",
   "metadata": {},
   "outputs": [],
   "source": []
  }
 ],
 "metadata": {
  "kernelspec": {
   "display_name": "Python 3 (ipykernel)",
   "language": "python",
   "name": "python3"
  },
  "language_info": {
   "codemirror_mode": {
    "name": "ipython",
    "version": 3
   },
   "file_extension": ".py",
   "mimetype": "text/x-python",
   "name": "python",
   "nbconvert_exporter": "python",
   "pygments_lexer": "ipython3",
   "version": "3.9.19"
  }
 },
 "nbformat": 4,
 "nbformat_minor": 5
}
