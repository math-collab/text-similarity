{
 "cells": [
  {
   "cell_type": "code",
   "execution_count": 1,
   "id": "6c8295b0-a5d1-4ab1-8c3e-2dc6d1377558",
   "metadata": {},
   "outputs": [
    {
     "name": "stderr",
     "output_type": "stream",
     "text": [
      "2023-05-10 16:29:51.311760: I tensorflow/core/util/util.cc:169] oneDNN custom operations are on. You may see slightly different numerical results due to floating-point round-off errors from different computation orders. To turn them off, set the environment variable `TF_ENABLE_ONEDNN_OPTS=0`.\n",
      "Some weights of the model checkpoint at ./bert+re-train_mlm_abstracts_arxiv were not used when initializing BertModel: ['cls.predictions.transform.LayerNorm.bias', 'cls.predictions.decoder.weight', 'cls.predictions.bias', 'cls.predictions.transform.LayerNorm.weight', 'cls.predictions.transform.dense.bias', 'cls.predictions.decoder.bias', 'cls.predictions.transform.dense.weight']\n",
      "- This IS expected if you are initializing BertModel from the checkpoint of a model trained on another task or with another architecture (e.g. initializing a BertForSequenceClassification model from a BertForPreTraining model).\n",
      "- This IS NOT expected if you are initializing BertModel from the checkpoint of a model that you expect to be exactly identical (initializing a BertForSequenceClassification model from a BertForSequenceClassification model).\n",
      "Some weights of BertModel were not initialized from the model checkpoint at ./bert+re-train_mlm_abstracts_arxiv and are newly initialized: ['bert.pooler.dense.bias', 'bert.pooler.dense.weight']\n",
      "You should probably TRAIN this model on a down-stream task to be able to use it for predictions and inference.\n"
     ]
    }
   ],
   "source": [
    "import simi\n",
    "\n",
    "import pandas as pd\n",
    "from sentence_transformers import evaluation, losses, models, InputExample, SentenceTransformer\n",
    "from sklearn.model_selection import train_test_split\n",
    "from torch.utils.data import DataLoader\n",
    "\n",
    "EMBEDDING = models.Transformer('math-similarity/Bert-MLM_arXiv') # use model hosted on huggingface\n",
    "# EMBEDDING = models.Transformer('./bert+re-train_mlm_abstracts_arxiv') # use locally generated model\n",
    "POOLING = models.Pooling(EMBEDDING.get_word_embedding_dimension())\n",
    "# POOLING = models.Pooling(EMBEDDING.get_word_embedding_dimension(), pooling_mode=\"cls\") # CLS pooling\n",
    "\n",
    "MODEL = SentenceTransformer(modules=[EMBEDDING, POOLING])\n",
    "\n",
    "RANDOM_STATE = 1\n",
    "\n",
    "def similarity_scoring(df, model, append=False):\n",
    "    scores = df.apply(lambda r: simi.pairwise_cosine_similarity(simi.model_embeddings(model, [r[\"title_a\"], r[\"title_b\"]]))[0][0], axis=1)\n",
    "    scores = pd.Series(scores, index=df.index, name=\"cosine-sim\")\n",
    "    if append:\n",
    "        return df.merge(scores.to_frame(), left_index=True, right_index=True)\n",
    "    return scores"
   ]
  },
  {
   "cell_type": "code",
   "execution_count": 2,
   "id": "d1fb23dc-5e83-467f-bfb9-bf9611400db9",
   "metadata": {},
   "outputs": [
    {
     "data": {
      "text/html": [
       "<div>\n",
       "<style scoped>\n",
       "    .dataframe tbody tr th:only-of-type {\n",
       "        vertical-align: middle;\n",
       "    }\n",
       "\n",
       "    .dataframe tbody tr th {\n",
       "        vertical-align: top;\n",
       "    }\n",
       "\n",
       "    .dataframe thead th {\n",
       "        text-align: right;\n",
       "    }\n",
       "</style>\n",
       "<table border=\"1\" class=\"dataframe\">\n",
       "  <thead>\n",
       "    <tr style=\"text-align: right;\">\n",
       "      <th></th>\n",
       "      <th>title_a</th>\n",
       "      <th>MSC_a</th>\n",
       "      <th>MSC2_a</th>\n",
       "      <th>title_b</th>\n",
       "      <th>MSC_b</th>\n",
       "      <th>MSC2_b</th>\n",
       "      <th>label</th>\n",
       "    </tr>\n",
       "  </thead>\n",
       "  <tbody>\n",
       "    <tr>\n",
       "      <th>424172</th>\n",
       "      <td>Hypercentre-by-finite groups</td>\n",
       "      <td>20F18</td>\n",
       "      <td>('20E15', '20E07', '20F19', '20F14', '20F24', ...</td>\n",
       "      <td>On the uniqueness of roots in virtually nilpot...</td>\n",
       "      <td>20F18</td>\n",
       "      <td>('20E07', '20F05')</td>\n",
       "      <td>1.0</td>\n",
       "    </tr>\n",
       "    <tr>\n",
       "      <th>165985</th>\n",
       "      <td>A second order energy stable scheme for the Ca...</td>\n",
       "      <td>65M06</td>\n",
       "      <td>('65M12', '35K55', '76D05', '35Q35', '76D27', ...</td>\n",
       "      <td>On some difficulties in integrating highly osc...</td>\n",
       "      <td>65P10</td>\n",
       "      <td>('37M15',)</td>\n",
       "      <td>0.0</td>\n",
       "    </tr>\n",
       "    <tr>\n",
       "      <th>275161</th>\n",
       "      <td>The constrained longest common subsequence pro...</td>\n",
       "      <td>68W05</td>\n",
       "      <td>('68Q45', '68R15')</td>\n",
       "      <td>Overlap-free symmetric D0L words</td>\n",
       "      <td>68R15</td>\n",
       "      <td>('68Q42',)</td>\n",
       "      <td>0.0</td>\n",
       "    </tr>\n",
       "    <tr>\n",
       "      <th>218992</th>\n",
       "      <td>Some estimations of two-terminal series-parall...</td>\n",
       "      <td>62N05</td>\n",
       "      <td>('60K10',)</td>\n",
       "      <td>On closure of the IFR(2) and NBU(2) classes</td>\n",
       "      <td>62N05</td>\n",
       "      <td>('60E15', '62E10', '60K10')</td>\n",
       "      <td>1.0</td>\n",
       "    </tr>\n",
       "    <tr>\n",
       "      <th>120690</th>\n",
       "      <td>Measure-valued solutions and well-posedness of...</td>\n",
       "      <td>35L65</td>\n",
       "      <td>('76N10', '35L50')</td>\n",
       "      <td>On global Lipshitz-continuous solutions of ise...</td>\n",
       "      <td>35L65</td>\n",
       "      <td>('35B25', '35B65', '76N10', '35L80')</td>\n",
       "      <td>1.0</td>\n",
       "    </tr>\n",
       "  </tbody>\n",
       "</table>\n",
       "</div>"
      ],
      "text/plain": [
       "                                                  title_a  MSC_a  \\\n",
       "424172                       Hypercentre-by-finite groups  20F18   \n",
       "165985  A second order energy stable scheme for the Ca...  65M06   \n",
       "275161  The constrained longest common subsequence pro...  68W05   \n",
       "218992  Some estimations of two-terminal series-parall...  62N05   \n",
       "120690  Measure-valued solutions and well-posedness of...  35L65   \n",
       "\n",
       "                                                   MSC2_a  \\\n",
       "424172  ('20E15', '20E07', '20F19', '20F14', '20F24', ...   \n",
       "165985  ('65M12', '35K55', '76D05', '35Q35', '76D27', ...   \n",
       "275161                                 ('68Q45', '68R15')   \n",
       "218992                                         ('60K10',)   \n",
       "120690                                 ('76N10', '35L50')   \n",
       "\n",
       "                                                  title_b  MSC_b  \\\n",
       "424172  On the uniqueness of roots in virtually nilpot...  20F18   \n",
       "165985  On some difficulties in integrating highly osc...  65P10   \n",
       "275161                   Overlap-free symmetric D0L words  68R15   \n",
       "218992        On closure of the IFR(2) and NBU(2) classes  62N05   \n",
       "120690  On global Lipshitz-continuous solutions of ise...  35L65   \n",
       "\n",
       "                                      MSC2_b  label  \n",
       "424172                    ('20E07', '20F05')    1.0  \n",
       "165985                            ('37M15',)    0.0  \n",
       "275161                            ('68Q42',)    0.0  \n",
       "218992           ('60E15', '62E10', '60K10')    1.0  \n",
       "120690  ('35B25', '35B65', '76N10', '35L80')    1.0  "
      ]
     },
     "execution_count": 2,
     "metadata": {},
     "output_type": "execute_result"
    }
   ],
   "source": [
    "df = pd.read_csv(\"class-zbmath-dataset.csv\", index_col=0)\n",
    "df[\"label\"] = df[\"label\"].astype(\"float\")\n",
    "# TODO: the mathberta tokenizer also recognizes latex within [MATH]...[/MATH] -> convert latex markupp in titles accordingly\n",
    "df.sample(5)"
   ]
  },
  {
   "cell_type": "code",
   "execution_count": 3,
   "id": "d375f0ab-11ea-4afa-be28-f1287dc187cc",
   "metadata": {},
   "outputs": [
    {
     "name": "stdout",
     "output_type": "stream",
     "text": [
      "train: 351472 eval: 43935 test: 43935\n"
     ]
    }
   ],
   "source": [
    "X_treval, X_test = train_test_split(df, train_size=0.9, random_state=RANDOM_STATE)\n",
    "X_train, X_eval = train_test_split(X_treval, train_size=0.888889, random_state=RANDOM_STATE)\n",
    "print(\"train:\", len(X_train), \"eval:\", len(X_eval), \"test:\", len(X_test))"
   ]
  },
  {
   "cell_type": "code",
   "execution_count": 4,
   "id": "f13a203b-ec71-48a5-a4dc-d5729fd96ed5",
   "metadata": {},
   "outputs": [],
   "source": [
    "# prepare evaluation data\n",
    "eval_examples = X_eval.reset_index(drop=True).apply(lambda r: InputExample(texts=[r[\"title_a\"], r[\"title_b\"]], label=r[\"label\"]), axis=1)\n",
    "evaluator = evaluation.EmbeddingSimilarityEvaluator.from_input_examples(eval_examples)"
   ]
  },
  {
   "cell_type": "code",
   "execution_count": 5,
   "id": "f08b9ac6-b863-473d-8efb-a5894997ce23",
   "metadata": {},
   "outputs": [],
   "source": [
    "# prepare re-training: training data, loss\n",
    "retrain_examples = X_train.reset_index(drop=True).apply(lambda r: InputExample(texts=[r[\"title_a\"], r[\"title_b\"]], label=r[\"label\"]), axis=1)\n",
    "retrain_dataloader = DataLoader(retrain_examples, shuffle=True, batch_size=16)\n",
    "#retrain_loss = losses.SoftmaxLoss(model=MODEL, num_labels=2,\n",
    "#        sentence_embedding_dimension=MODEL.get_sentence_embedding_dimension())\n",
    "#retrain_loss = losses.ContrastiveLoss(model=MODEL)\n",
    "retrain_loss = losses.CosineSimilarityLoss(model=MODEL)"
   ]
  },
  {
   "cell_type": "code",
   "execution_count": 6,
   "id": "79a31f6d-20ce-4786-9d3e-d4148257b610",
   "metadata": {},
   "outputs": [
    {
     "data": {
      "application/vnd.jupyter.widget-view+json": {
       "model_id": "2def2327b2dc4bef8d75fc1c1c7bad9b",
       "version_major": 2,
       "version_minor": 0
      },
      "text/plain": [
       "Epoch:   0%|          | 0/10 [00:00<?, ?it/s]"
      ]
     },
     "metadata": {},
     "output_type": "display_data"
    },
    {
     "data": {
      "application/vnd.jupyter.widget-view+json": {
       "model_id": "ee3a78ceb579446f928cefa0225e8117",
       "version_major": 2,
       "version_minor": 0
      },
      "text/plain": [
       "Iteration:   0%|          | 0/21967 [00:00<?, ?it/s]"
      ]
     },
     "metadata": {},
     "output_type": "display_data"
    },
    {
     "data": {
      "application/vnd.jupyter.widget-view+json": {
       "model_id": "ee48eb2065d84156a47353893c07b22d",
       "version_major": 2,
       "version_minor": 0
      },
      "text/plain": [
       "Iteration:   0%|          | 0/21967 [00:00<?, ?it/s]"
      ]
     },
     "metadata": {},
     "output_type": "display_data"
    },
    {
     "data": {
      "application/vnd.jupyter.widget-view+json": {
       "model_id": "e11b5c301f6c4b7ea573a8b91e328b02",
       "version_major": 2,
       "version_minor": 0
      },
      "text/plain": [
       "Iteration:   0%|          | 0/21967 [00:00<?, ?it/s]"
      ]
     },
     "metadata": {},
     "output_type": "display_data"
    },
    {
     "data": {
      "application/vnd.jupyter.widget-view+json": {
       "model_id": "547b2869895c4ff3bbe8c901b3d73386",
       "version_major": 2,
       "version_minor": 0
      },
      "text/plain": [
       "Iteration:   0%|          | 0/21967 [00:00<?, ?it/s]"
      ]
     },
     "metadata": {},
     "output_type": "display_data"
    },
    {
     "data": {
      "application/vnd.jupyter.widget-view+json": {
       "model_id": "d6170054e35a4792a676182599fbb6a0",
       "version_major": 2,
       "version_minor": 0
      },
      "text/plain": [
       "Iteration:   0%|          | 0/21967 [00:00<?, ?it/s]"
      ]
     },
     "metadata": {},
     "output_type": "display_data"
    },
    {
     "data": {
      "application/vnd.jupyter.widget-view+json": {
       "model_id": "bea4300a6b274a80ba791b51ec6c5e11",
       "version_major": 2,
       "version_minor": 0
      },
      "text/plain": [
       "Iteration:   0%|          | 0/21967 [00:00<?, ?it/s]"
      ]
     },
     "metadata": {},
     "output_type": "display_data"
    },
    {
     "data": {
      "application/vnd.jupyter.widget-view+json": {
       "model_id": "e31d151c22434f4ca705cedd986f14b7",
       "version_major": 2,
       "version_minor": 0
      },
      "text/plain": [
       "Iteration:   0%|          | 0/21967 [00:00<?, ?it/s]"
      ]
     },
     "metadata": {},
     "output_type": "display_data"
    },
    {
     "data": {
      "application/vnd.jupyter.widget-view+json": {
       "model_id": "ffa03f38cff24ed0813bca70983241c0",
       "version_major": 2,
       "version_minor": 0
      },
      "text/plain": [
       "Iteration:   0%|          | 0/21967 [00:00<?, ?it/s]"
      ]
     },
     "metadata": {},
     "output_type": "display_data"
    },
    {
     "name": "stderr",
     "output_type": "stream",
     "text": [
      "IOPub message rate exceeded.\n",
      "The Jupyter server will temporarily stop sending output\n",
      "to the client in order to avoid crashing it.\n",
      "To change this limit, set the config variable\n",
      "`--ServerApp.iopub_msg_rate_limit`.\n",
      "\n",
      "Current values:\n",
      "ServerApp.iopub_msg_rate_limit=1000.0 (msgs/sec)\n",
      "ServerApp.rate_limit_window=3.0 (secs)\n",
      "\n",
      "IOPub message rate exceeded.\n",
      "The Jupyter server will temporarily stop sending output\n",
      "to the client in order to avoid crashing it.\n",
      "To change this limit, set the config variable\n",
      "`--ServerApp.iopub_msg_rate_limit`.\n",
      "\n",
      "Current values:\n",
      "ServerApp.iopub_msg_rate_limit=1000.0 (msgs/sec)\n",
      "ServerApp.rate_limit_window=3.0 (secs)\n",
      "\n",
      "IOPub message rate exceeded.\n",
      "The Jupyter server will temporarily stop sending output\n",
      "to the client in order to avoid crashing it.\n",
      "To change this limit, set the config variable\n",
      "`--ServerApp.iopub_msg_rate_limit`.\n",
      "\n",
      "Current values:\n",
      "ServerApp.iopub_msg_rate_limit=1000.0 (msgs/sec)\n",
      "ServerApp.rate_limit_window=3.0 (secs)\n",
      "\n",
      "IOPub message rate exceeded.\n",
      "The Jupyter server will temporarily stop sending output\n",
      "to the client in order to avoid crashing it.\n",
      "To change this limit, set the config variable\n",
      "`--ServerApp.iopub_msg_rate_limit`.\n",
      "\n",
      "Current values:\n",
      "ServerApp.iopub_msg_rate_limit=1000.0 (msgs/sec)\n",
      "ServerApp.rate_limit_window=3.0 (secs)\n",
      "\n",
      "IOPub message rate exceeded.\n",
      "The Jupyter server will temporarily stop sending output\n",
      "to the client in order to avoid crashing it.\n",
      "To change this limit, set the config variable\n",
      "`--ServerApp.iopub_msg_rate_limit`.\n",
      "\n",
      "Current values:\n",
      "ServerApp.iopub_msg_rate_limit=1000.0 (msgs/sec)\n",
      "ServerApp.rate_limit_window=3.0 (secs)\n",
      "\n",
      "IOPub message rate exceeded.\n",
      "The Jupyter server will temporarily stop sending output\n",
      "to the client in order to avoid crashing it.\n",
      "To change this limit, set the config variable\n",
      "`--ServerApp.iopub_msg_rate_limit`.\n",
      "\n",
      "Current values:\n",
      "ServerApp.iopub_msg_rate_limit=1000.0 (msgs/sec)\n",
      "ServerApp.rate_limit_window=3.0 (secs)\n",
      "\n",
      "IOPub message rate exceeded.\n",
      "The Jupyter server will temporarily stop sending output\n",
      "to the client in order to avoid crashing it.\n",
      "To change this limit, set the config variable\n",
      "`--ServerApp.iopub_msg_rate_limit`.\n",
      "\n",
      "Current values:\n",
      "ServerApp.iopub_msg_rate_limit=1000.0 (msgs/sec)\n",
      "ServerApp.rate_limit_window=3.0 (secs)\n",
      "\n",
      "IOPub message rate exceeded.\n",
      "The Jupyter server will temporarily stop sending output\n",
      "to the client in order to avoid crashing it.\n",
      "To change this limit, set the config variable\n",
      "`--ServerApp.iopub_msg_rate_limit`.\n",
      "\n",
      "Current values:\n",
      "ServerApp.iopub_msg_rate_limit=1000.0 (msgs/sec)\n",
      "ServerApp.rate_limit_window=3.0 (secs)\n",
      "\n"
     ]
    },
    {
     "name": "stdout",
     "output_type": "stream",
     "text": [
      "CPU times: user 21h 35min 12s, sys: 5h 29min 2s, total: 1d 3h 4min 15s\n",
      "Wall time: 15h 3min 39s\n"
     ]
    }
   ],
   "source": [
    "%%time\n",
    "# finetune model\n",
    "MODEL.fit(train_objectives=[(retrain_dataloader, retrain_loss)], evaluator=evaluator, epochs=10,\n",
    "        output_path=\"bert+re-train_mlm_abstracts_arxiv+mean-pooling+retrain_class_zbmath\") "
   ]
  },
  {
   "cell_type": "code",
   "execution_count": 7,
   "id": "c0881483-5bb2-4aa8-8fe8-914f815a4229",
   "metadata": {},
   "outputs": [
    {
     "name": "stdout",
     "output_type": "stream",
     "text": [
      "CPU times: user 10min 19s, sys: 36.3 s, total: 10min 56s\n",
      "Wall time: 2min 35s\n"
     ]
    },
    {
     "data": {
      "text/plain": [
       "0.5676464191173025"
      ]
     },
     "execution_count": 7,
     "metadata": {},
     "output_type": "execute_result"
    }
   ],
   "source": [
    "%%time\n",
    "# evaluate Spearman-Pearson-rank-coefficient on test data\n",
    "spear_ranc = MODEL.evaluate(evaluator)\n",
    "spear_ranc"
   ]
  },
  {
   "cell_type": "code",
   "execution_count": 8,
   "id": "96f923dd-efec-4df5-b1e5-72399a3b866b",
   "metadata": {},
   "outputs": [
    {
     "name": "stdout",
     "output_type": "stream",
     "text": [
      "CPU times: user 10min 55s, sys: 23 s, total: 11min 18s\n",
      "Wall time: 7min 53s\n",
      "Parser   : 112 ms\n"
     ]
    }
   ],
   "source": [
    "%%time\n",
    "# evaluate model with test data\n",
    "X_test_score = similarity_scoring(X_test, MODEL, append=True)"
   ]
  },
  {
   "cell_type": "code",
   "execution_count": 9,
   "id": "4f21b364-27fe-43d5-96c2-d69db4d07f3c",
   "metadata": {},
   "outputs": [],
   "source": [
    "pd.set_option('display.max_colwidth', 160)"
   ]
  },
  {
   "cell_type": "code",
   "execution_count": 10,
   "id": "668707e7-400a-4efd-be37-c79b0374257b",
   "metadata": {},
   "outputs": [
    {
     "data": {
      "text/html": [
       "<div>\n",
       "<style scoped>\n",
       "    .dataframe tbody tr th:only-of-type {\n",
       "        vertical-align: middle;\n",
       "    }\n",
       "\n",
       "    .dataframe tbody tr th {\n",
       "        vertical-align: top;\n",
       "    }\n",
       "\n",
       "    .dataframe thead th {\n",
       "        text-align: right;\n",
       "    }\n",
       "</style>\n",
       "<table border=\"1\" class=\"dataframe\">\n",
       "  <thead>\n",
       "    <tr style=\"text-align: right;\">\n",
       "      <th></th>\n",
       "      <th>title_a</th>\n",
       "      <th>MSC_a</th>\n",
       "      <th>MSC2_a</th>\n",
       "      <th>title_b</th>\n",
       "      <th>MSC_b</th>\n",
       "      <th>MSC2_b</th>\n",
       "      <th>label</th>\n",
       "      <th>cosine-sim</th>\n",
       "    </tr>\n",
       "  </thead>\n",
       "  <tbody>\n",
       "    <tr>\n",
       "      <th>15960</th>\n",
       "      <td>Global exact quadratization of continuous-time nonlinear control systems</td>\n",
       "      <td>93C10</td>\n",
       "      <td>('93C15', '93A10', '34H05', '34H99', '34A34', '53A04')</td>\n",
       "      <td>Mixed \\(\\mathcal{H}_2/\\mathcal{H}_\\infty\\) control of hidden Markov jump systems</td>\n",
       "      <td>93E03</td>\n",
       "      <td>('60J75', '93B36', '93C55', '93C05')</td>\n",
       "      <td>0.0</td>\n",
       "      <td>-0.080799</td>\n",
       "    </tr>\n",
       "    <tr>\n",
       "      <th>186573</th>\n",
       "      <td>Edge operators with conditions of Toeplitz type</td>\n",
       "      <td>58J40</td>\n",
       "      <td>('35S15', '47G30', '35A17', '35J70', '58J32')</td>\n",
       "      <td>A Bismut type theorem for subelliptic heat semigroups</td>\n",
       "      <td>58J20</td>\n",
       "      <td>('35H20', '47D06')</td>\n",
       "      <td>0.0</td>\n",
       "      <td>0.232996</td>\n",
       "    </tr>\n",
       "    <tr>\n",
       "      <th>181977</th>\n",
       "      <td>1-cohomology and splitting of group extensions</td>\n",
       "      <td>20E22</td>\n",
       "      <td>('20J99', '20E07')</td>\n",
       "      <td>On some products of nilpotent groups</td>\n",
       "      <td>20E22</td>\n",
       "      <td>('20F16', '20F18', '20E07', '20F14', '20H25')</td>\n",
       "      <td>1.0</td>\n",
       "      <td>0.142818</td>\n",
       "    </tr>\n",
       "    <tr>\n",
       "      <th>299961</th>\n",
       "      <td>Reputation in the long-run with imperfect monitoring</td>\n",
       "      <td>91A20</td>\n",
       "      <td>('91A05',)</td>\n",
       "      <td>Parallel repetition via fortification: analytic view and the quantum case</td>\n",
       "      <td>91A20</td>\n",
       "      <td>('81P40', '81P45', '91A05', '91A06', '91A12', '91A80')</td>\n",
       "      <td>1.0</td>\n",
       "      <td>0.681502</td>\n",
       "    </tr>\n",
       "    <tr>\n",
       "      <th>226982</th>\n",
       "      <td>Traces and quasi-traces on the Boutet de Monvel algebra.</td>\n",
       "      <td>58J42</td>\n",
       "      <td>('35S15',)</td>\n",
       "      <td>The local and global parts of the basic zeta coefficient for operators on manifolds with boundary</td>\n",
       "      <td>58J42</td>\n",
       "      <td>('35S15',)</td>\n",
       "      <td>1.0</td>\n",
       "      <td>0.346429</td>\n",
       "    </tr>\n",
       "    <tr>\n",
       "      <th>306772</th>\n",
       "      <td>A cyclic weight algorithm of decoding the \\((47, 24, 11)\\) quadratic residue code</td>\n",
       "      <td>94B35</td>\n",
       "      <td>('94B40',)</td>\n",
       "      <td>A result on the weight distributions of binary quadratic residue codes</td>\n",
       "      <td>94B35</td>\n",
       "      <td>('94B40',)</td>\n",
       "      <td>1.0</td>\n",
       "      <td>0.792618</td>\n",
       "    </tr>\n",
       "    <tr>\n",
       "      <th>205892</th>\n",
       "      <td>Properties of the Székely-Móri symmetry criterion statistics in the case of binary vectors</td>\n",
       "      <td>60E05</td>\n",
       "      <td>('62E20', '62H10')</td>\n",
       "      <td>On deformation technique of the hyperbolic secant distribution</td>\n",
       "      <td>60E05</td>\n",
       "      <td>('60E10', '62E17', '62E20')</td>\n",
       "      <td>1.0</td>\n",
       "      <td>0.367520</td>\n",
       "    </tr>\n",
       "    <tr>\n",
       "      <th>218358</th>\n",
       "      <td>Simultaneous visibility representations of plane \\(st\\)-graphs using L-shapes</td>\n",
       "      <td>05C62</td>\n",
       "      <td>('05C10', '05C85', '68R10')</td>\n",
       "      <td>On the minimum order of graphs with given semigroup</td>\n",
       "      <td>05C99</td>\n",
       "      <td>('05C65', '20M30')</td>\n",
       "      <td>0.0</td>\n",
       "      <td>0.604398</td>\n",
       "    </tr>\n",
       "    <tr>\n",
       "      <th>77078</th>\n",
       "      <td>The unsteady MHD boundary-layer flow on a shrinking sheet</td>\n",
       "      <td>76W05</td>\n",
       "      <td>('76N20', '76M45')</td>\n",
       "      <td>Meridional trapping and zonal propagation of inertial waves in a rotating fluid shell</td>\n",
       "      <td>76U05</td>\n",
       "      <td>('76B55', '86A05')</td>\n",
       "      <td>0.0</td>\n",
       "      <td>-0.028774</td>\n",
       "    </tr>\n",
       "    <tr>\n",
       "      <th>63150</th>\n",
       "      <td>On unified contact metric manifold</td>\n",
       "      <td>53C15</td>\n",
       "      <td>('53C25',)</td>\n",
       "      <td>Two characterizations of the Chern connection</td>\n",
       "      <td>53C10</td>\n",
       "      <td>('53A55', '53B05', '58A20', '58A32')</td>\n",
       "      <td>0.0</td>\n",
       "      <td>0.295331</td>\n",
       "    </tr>\n",
       "    <tr>\n",
       "      <th>422297</th>\n",
       "      <td>On a Waring-Goldbach problem for mixed powers</td>\n",
       "      <td>11P32</td>\n",
       "      <td>('11P05', '11N36')</td>\n",
       "      <td>On the uniform distribution of numbers mod. 1</td>\n",
       "      <td>11K06</td>\n",
       "      <td>('11J71',)</td>\n",
       "      <td>0.0</td>\n",
       "      <td>0.185436</td>\n",
       "    </tr>\n",
       "    <tr>\n",
       "      <th>156367</th>\n",
       "      <td>Thermomagnetic power and figure of merit for spin-1/2 Heisenberg chain</td>\n",
       "      <td>82D40</td>\n",
       "      <td>('82-04',)</td>\n",
       "      <td>Weak coupling limits in a stochastic model of heat conduction</td>\n",
       "      <td>82C31</td>\n",
       "      <td>('82C35', '60J65', '80A20')</td>\n",
       "      <td>0.0</td>\n",
       "      <td>0.230213</td>\n",
       "    </tr>\n",
       "    <tr>\n",
       "      <th>276046</th>\n",
       "      <td>Quantization of reductive Lie algebras: Construction and universality</td>\n",
       "      <td>17B37</td>\n",
       "      <td>('16W30',)</td>\n",
       "      <td>Modules over linear spaces admitting a multiplicative basis</td>\n",
       "      <td>17A60</td>\n",
       "      <td>('17B10', '15A78')</td>\n",
       "      <td>0.0</td>\n",
       "      <td>0.405382</td>\n",
       "    </tr>\n",
       "    <tr>\n",
       "      <th>336155</th>\n",
       "      <td>Numerical solution of two-dimensional time fractional cable equation with Mittag-Leffler kernel</td>\n",
       "      <td>65M70</td>\n",
       "      <td>('35R11',)</td>\n",
       "      <td>Mollified hyperbolic method for coefficient identification problems</td>\n",
       "      <td>65Z05</td>\n",
       "      <td>('65M30', '35R30', '35K15')</td>\n",
       "      <td>0.0</td>\n",
       "      <td>0.388883</td>\n",
       "    </tr>\n",
       "    <tr>\n",
       "      <th>124871</th>\n",
       "      <td>Discrete functions with a given range and a given C-spectrum</td>\n",
       "      <td>03B50</td>\n",
       "      <td>('05A15',)</td>\n",
       "      <td>On fundamental transformation groups in the algebra of logic</td>\n",
       "      <td>03B50</td>\n",
       "      <td>('03G20', '20B25', '05A15', '08A35')</td>\n",
       "      <td>1.0</td>\n",
       "      <td>0.055305</td>\n",
       "    </tr>\n",
       "  </tbody>\n",
       "</table>\n",
       "</div>"
      ],
      "text/plain": [
       "                                                                                                title_a  \\\n",
       "15960                          Global exact quadratization of continuous-time nonlinear control systems   \n",
       "186573                                                  Edge operators with conditions of Toeplitz type   \n",
       "181977                                                   1-cohomology and splitting of group extensions   \n",
       "299961                                             Reputation in the long-run with imperfect monitoring   \n",
       "226982                                         Traces and quasi-traces on the Boutet de Monvel algebra.   \n",
       "306772                A cyclic weight algorithm of decoding the \\((47, 24, 11)\\) quadratic residue code   \n",
       "205892       Properties of the Székely-Móri symmetry criterion statistics in the case of binary vectors   \n",
       "218358                    Simultaneous visibility representations of plane \\(st\\)-graphs using L-shapes   \n",
       "77078                                         The unsteady MHD boundary-layer flow on a shrinking sheet   \n",
       "63150                                                                On unified contact metric manifold   \n",
       "422297                                                    On a Waring-Goldbach problem for mixed powers   \n",
       "156367                           Thermomagnetic power and figure of merit for spin-1/2 Heisenberg chain   \n",
       "276046                            Quantization of reductive Lie algebras: Construction and universality   \n",
       "336155  Numerical solution of two-dimensional time fractional cable equation with Mittag-Leffler kernel   \n",
       "124871                                     Discrete functions with a given range and a given C-spectrum   \n",
       "\n",
       "        MSC_a                                                  MSC2_a  \\\n",
       "15960   93C10  ('93C15', '93A10', '34H05', '34H99', '34A34', '53A04')   \n",
       "186573  58J40           ('35S15', '47G30', '35A17', '35J70', '58J32')   \n",
       "181977  20E22                                      ('20J99', '20E07')   \n",
       "299961  91A20                                              ('91A05',)   \n",
       "226982  58J42                                              ('35S15',)   \n",
       "306772  94B35                                              ('94B40',)   \n",
       "205892  60E05                                      ('62E20', '62H10')   \n",
       "218358  05C62                             ('05C10', '05C85', '68R10')   \n",
       "77078   76W05                                      ('76N20', '76M45')   \n",
       "63150   53C15                                              ('53C25',)   \n",
       "422297  11P32                                      ('11P05', '11N36')   \n",
       "156367  82D40                                              ('82-04',)   \n",
       "276046  17B37                                              ('16W30',)   \n",
       "336155  65M70                                              ('35R11',)   \n",
       "124871  03B50                                              ('05A15',)   \n",
       "\n",
       "                                                                                                  title_b  \\\n",
       "15960                    Mixed \\(\\mathcal{H}_2/\\mathcal{H}_\\infty\\) control of hidden Markov jump systems   \n",
       "186573                                              A Bismut type theorem for subelliptic heat semigroups   \n",
       "181977                                                               On some products of nilpotent groups   \n",
       "299961                          Parallel repetition via fortification: analytic view and the quantum case   \n",
       "226982  The local and global parts of the basic zeta coefficient for operators on manifolds with boundary   \n",
       "306772                             A result on the weight distributions of binary quadratic residue codes   \n",
       "205892                                     On deformation technique of the hyperbolic secant distribution   \n",
       "218358                                                On the minimum order of graphs with given semigroup   \n",
       "77078               Meridional trapping and zonal propagation of inertial waves in a rotating fluid shell   \n",
       "63150                                                       Two characterizations of the Chern connection   \n",
       "422297                                                      On the uniform distribution of numbers mod. 1   \n",
       "156367                                      Weak coupling limits in a stochastic model of heat conduction   \n",
       "276046                                        Modules over linear spaces admitting a multiplicative basis   \n",
       "336155                                Mollified hyperbolic method for coefficient identification problems   \n",
       "124871                                       On fundamental transformation groups in the algebra of logic   \n",
       "\n",
       "        MSC_b                                                  MSC2_b  label  \\\n",
       "15960   93E03                    ('60J75', '93B36', '93C55', '93C05')    0.0   \n",
       "186573  58J20                                      ('35H20', '47D06')    0.0   \n",
       "181977  20E22           ('20F16', '20F18', '20E07', '20F14', '20H25')    1.0   \n",
       "299961  91A20  ('81P40', '81P45', '91A05', '91A06', '91A12', '91A80')    1.0   \n",
       "226982  58J42                                              ('35S15',)    1.0   \n",
       "306772  94B35                                              ('94B40',)    1.0   \n",
       "205892  60E05                             ('60E10', '62E17', '62E20')    1.0   \n",
       "218358  05C99                                      ('05C65', '20M30')    0.0   \n",
       "77078   76U05                                      ('76B55', '86A05')    0.0   \n",
       "63150   53C10                    ('53A55', '53B05', '58A20', '58A32')    0.0   \n",
       "422297  11K06                                              ('11J71',)    0.0   \n",
       "156367  82C31                             ('82C35', '60J65', '80A20')    0.0   \n",
       "276046  17A60                                      ('17B10', '15A78')    0.0   \n",
       "336155  65Z05                             ('65M30', '35R30', '35K15')    0.0   \n",
       "124871  03B50                    ('03G20', '20B25', '05A15', '08A35')    1.0   \n",
       "\n",
       "        cosine-sim  \n",
       "15960    -0.080799  \n",
       "186573    0.232996  \n",
       "181977    0.142818  \n",
       "299961    0.681502  \n",
       "226982    0.346429  \n",
       "306772    0.792618  \n",
       "205892    0.367520  \n",
       "218358    0.604398  \n",
       "77078    -0.028774  \n",
       "63150     0.295331  \n",
       "422297    0.185436  \n",
       "156367    0.230213  \n",
       "276046    0.405382  \n",
       "336155    0.388883  \n",
       "124871    0.055305  "
      ]
     },
     "execution_count": 10,
     "metadata": {},
     "output_type": "execute_result"
    }
   ],
   "source": [
    "X_test_score.sample(15, random_state=RANDOM_STATE)"
   ]
  },
  {
   "cell_type": "code",
   "execution_count": 11,
   "id": "01bb8f38-d2a0-4253-8b4f-fa35857827ce",
   "metadata": {},
   "outputs": [
    {
     "data": {
      "text/html": [
       "<div>\n",
       "<style scoped>\n",
       "    .dataframe tbody tr th:only-of-type {\n",
       "        vertical-align: middle;\n",
       "    }\n",
       "\n",
       "    .dataframe tbody tr th {\n",
       "        vertical-align: top;\n",
       "    }\n",
       "\n",
       "    .dataframe thead th {\n",
       "        text-align: right;\n",
       "    }\n",
       "</style>\n",
       "<table border=\"1\" class=\"dataframe\">\n",
       "  <thead>\n",
       "    <tr style=\"text-align: right;\">\n",
       "      <th></th>\n",
       "      <th>label</th>\n",
       "      <th>cosine-sim</th>\n",
       "    </tr>\n",
       "  </thead>\n",
       "  <tbody>\n",
       "    <tr>\n",
       "      <th>count</th>\n",
       "      <td>21860.0</td>\n",
       "      <td>21860.000000</td>\n",
       "    </tr>\n",
       "    <tr>\n",
       "      <th>mean</th>\n",
       "      <td>1.0</td>\n",
       "      <td>0.601336</td>\n",
       "    </tr>\n",
       "    <tr>\n",
       "      <th>std</th>\n",
       "      <td>0.0</td>\n",
       "      <td>0.296644</td>\n",
       "    </tr>\n",
       "    <tr>\n",
       "      <th>min</th>\n",
       "      <td>1.0</td>\n",
       "      <td>-0.248116</td>\n",
       "    </tr>\n",
       "    <tr>\n",
       "      <th>25%</th>\n",
       "      <td>1.0</td>\n",
       "      <td>0.375574</td>\n",
       "    </tr>\n",
       "    <tr>\n",
       "      <th>50%</th>\n",
       "      <td>1.0</td>\n",
       "      <td>0.666453</td>\n",
       "    </tr>\n",
       "    <tr>\n",
       "      <th>75%</th>\n",
       "      <td>1.0</td>\n",
       "      <td>0.864097</td>\n",
       "    </tr>\n",
       "    <tr>\n",
       "      <th>max</th>\n",
       "      <td>1.0</td>\n",
       "      <td>0.998533</td>\n",
       "    </tr>\n",
       "  </tbody>\n",
       "</table>\n",
       "</div>"
      ],
      "text/plain": [
       "         label    cosine-sim\n",
       "count  21860.0  21860.000000\n",
       "mean       1.0      0.601336\n",
       "std        0.0      0.296644\n",
       "min        1.0     -0.248116\n",
       "25%        1.0      0.375574\n",
       "50%        1.0      0.666453\n",
       "75%        1.0      0.864097\n",
       "max        1.0      0.998533"
      ]
     },
     "execution_count": 11,
     "metadata": {},
     "output_type": "execute_result"
    }
   ],
   "source": [
    "X_test_score[X_test_score[\"label\"] == 1].describe()"
   ]
  },
  {
   "cell_type": "code",
   "execution_count": 12,
   "id": "711f67df-fe23-41cc-8d66-85bc80dea15c",
   "metadata": {},
   "outputs": [
    {
     "data": {
      "text/html": [
       "<div>\n",
       "<style scoped>\n",
       "    .dataframe tbody tr th:only-of-type {\n",
       "        vertical-align: middle;\n",
       "    }\n",
       "\n",
       "    .dataframe tbody tr th {\n",
       "        vertical-align: top;\n",
       "    }\n",
       "\n",
       "    .dataframe thead th {\n",
       "        text-align: right;\n",
       "    }\n",
       "</style>\n",
       "<table border=\"1\" class=\"dataframe\">\n",
       "  <thead>\n",
       "    <tr style=\"text-align: right;\">\n",
       "      <th></th>\n",
       "      <th>label</th>\n",
       "      <th>cosine-sim</th>\n",
       "    </tr>\n",
       "  </thead>\n",
       "  <tbody>\n",
       "    <tr>\n",
       "      <th>count</th>\n",
       "      <td>22075.0</td>\n",
       "      <td>22075.000000</td>\n",
       "    </tr>\n",
       "    <tr>\n",
       "      <th>mean</th>\n",
       "      <td>0.0</td>\n",
       "      <td>0.214524</td>\n",
       "    </tr>\n",
       "    <tr>\n",
       "      <th>std</th>\n",
       "      <td>0.0</td>\n",
       "      <td>0.270894</td>\n",
       "    </tr>\n",
       "    <tr>\n",
       "      <th>min</th>\n",
       "      <td>0.0</td>\n",
       "      <td>-0.298977</td>\n",
       "    </tr>\n",
       "    <tr>\n",
       "      <th>25%</th>\n",
       "      <td>0.0</td>\n",
       "      <td>0.000480</td>\n",
       "    </tr>\n",
       "    <tr>\n",
       "      <th>50%</th>\n",
       "      <td>0.0</td>\n",
       "      <td>0.138440</td>\n",
       "    </tr>\n",
       "    <tr>\n",
       "      <th>75%</th>\n",
       "      <td>0.0</td>\n",
       "      <td>0.377598</td>\n",
       "    </tr>\n",
       "    <tr>\n",
       "      <th>max</th>\n",
       "      <td>0.0</td>\n",
       "      <td>0.995027</td>\n",
       "    </tr>\n",
       "  </tbody>\n",
       "</table>\n",
       "</div>"
      ],
      "text/plain": [
       "         label    cosine-sim\n",
       "count  22075.0  22075.000000\n",
       "mean       0.0      0.214524\n",
       "std        0.0      0.270894\n",
       "min        0.0     -0.298977\n",
       "25%        0.0      0.000480\n",
       "50%        0.0      0.138440\n",
       "75%        0.0      0.377598\n",
       "max        0.0      0.995027"
      ]
     },
     "execution_count": 12,
     "metadata": {},
     "output_type": "execute_result"
    }
   ],
   "source": [
    "X_test_score[X_test_score[\"label\"] == 0].describe()"
   ]
  }
 ],
 "metadata": {
  "kernelspec": {
   "display_name": "Python 3 (ipykernel)",
   "language": "python",
   "name": "python3"
  },
  "language_info": {
   "codemirror_mode": {
    "name": "ipython",
    "version": 3
   },
   "file_extension": ".py",
   "mimetype": "text/x-python",
   "name": "python",
   "nbconvert_exporter": "python",
   "pygments_lexer": "ipython3",
   "version": "3.9.19"
  }
 },
 "nbformat": 4,
 "nbformat_minor": 5
}
